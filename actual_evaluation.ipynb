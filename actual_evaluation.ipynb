{
 "cells": [
  {
   "cell_type": "code",
   "execution_count": null,
   "id": "8adbcdc3",
   "metadata": {},
   "outputs": [],
   "source": [
    "import GPy\n",
    "import numpy as np\n",
    "import matplotlib.pyplot as plt\n",
    "import utils\n",
    "from functools import partial\n",
    "from utils import KernelFunction, KernelEnvironment, log_likelihood_reward\n",
    "from utils import plot_kernel_function, compare_kernels\n",
    "from gflownet import GFlowNet \n",
    "import torch.nn.functional as F\n",
    "from torch.distributions import Categorical\n",
    "import torch\n",
    "from utils import ForwardPolicy, BackwardPolicy\n",
    "import random\n",
    "from utils import train\n",
    "\n",
    "from evaluation import create_random_"
   ]
  },
  {
   "cell_type": "code",
   "execution_count": 3,
   "id": "9914c262",
   "metadata": {},
   "outputs": [],
   "source": [
    "def create_env(batch_size=64):\n",
    "    return KernelEnvironment(\n",
    "    batch_size=batch_size,\n",
    "    max_trajectory_length=MAX_LEN,\n",
    "    log_reward=log_reward_fn\n",
    ")"
   ]
  },
  {
   "cell_type": "code",
   "execution_count": 16,
   "id": "50c03b78",
   "metadata": {},
   "outputs": [
    {
     "name": "stdout",
     "output_type": "stream",
     "text": [
      "  -> Randomizing 'RBF' params...\n",
      "  -> Randomizing 'Constant' params...\n",
      "  -> Randomizing 'Constant' params...\n",
      "True Kernel: ((RBF({'lengthscale': 1.225, 'variance': 1.368}) + Constant({'variance': 1.174})) * Constant({'variance': 0.652})) Log Marginal Likelihood: 48.40710578678093\n",
      "True Kernel: ((RBF({'lengthscale': 1.225, 'variance': 1.368}) + Constant({'variance': 1.174})) * Constant({'variance': 0.652})) Log Marginal Likelihood: 48.110255059698595\n"
     ]
    }
   ],
   "source": [
    "ll = -1#\n",
    "while ll < 0:\n",
    "    true_kernel = create_random_kernel()\n",
    "    X, Y, true_kernel_str = utils.generate_gp_data(true_kernel, input_dim=1, n_points=30, noise_var=1e-4)\n",
    "    X_test, Y_test, _ = utils.generate_gp_data(true_kernel, input_dim=1, n_points=30, noise_var=1e-4)\n",
    "    ll = utils.evaluate_likelihood(true_kernel, X, Y, runtime=False)\n",
    "\n",
    "print(\"True Kernel:\", true_kernel_str, \"Log Marginal Likelihood:\", utils.evaluate_likelihood(true_kernel, X, Y, runtime=False))\n",
    "print(\"True Kernel:\", true_kernel_str, \"Log Marginal Likelihood:\", utils.evaluate_likelihood(true_kernel, X_test, Y_test, runtime=False))\n",
    "\n",
    "#lt.scatter(X, Y, color='black', s=10, label='Data Points')"
   ]
  },
  {
   "cell_type": "code",
   "execution_count": null,
   "id": "0525ceb7",
   "metadata": {},
   "outputs": [],
   "source": [
    "\n",
    "epochs = 100\n",
    "BATCH_SIZE = 64\n",
    "MAX_LEN = 4\n",
    "lr = 1e-3\n",
    "\n",
    "log_reward_fn = partial(utils.log_likelihood_reward, X, Y)\n",
    "env = create_env()\n",
    "\n",
    "forward_model = ForwardPolicy(input_dim=MAX_LEN, output_dim=env.action_space_size, epsilon=0.5)\n",
    "backward_model = BackwardPolicy()\n",
    "criterion = 'db'\n",
    "\n",
    "gflownet = GFlowNet(\n",
    "    forward_flow=forward_model, \n",
    "    backward_flow=backward_model, \n",
    "    criterion=criterion \n",
    ")\n",
    "\n",
    "\n",
    "gflownet, losses = train(\n",
    "    gflownet=gflownet,\n",
    "    create_env=create_env,\n",
    "    epochs=epochs,\n",
    "    batch_size=BATCH_SIZE,\n",
    "    lr=lr,\n",
    "    min_eps=1e-2,\n",
    "    clamp_g= 10,\n",
    "    use_scheduler=True\n",
    ")"
   ]
  }
 ],
 "metadata": {
  "kernelspec": {
   "display_name": "gpy_env",
   "language": "python",
   "name": "python3"
  },
  "language_info": {
   "codemirror_mode": {
    "name": "ipython",
    "version": 3
   },
   "file_extension": ".py",
   "mimetype": "text/x-python",
   "name": "python",
   "nbconvert_exporter": "python",
   "pygments_lexer": "ipython3",
   "version": "3.11.0"
  }
 },
 "nbformat": 4,
 "nbformat_minor": 5
}
