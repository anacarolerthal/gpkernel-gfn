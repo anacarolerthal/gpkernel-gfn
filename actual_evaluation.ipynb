{
 "cells": [
  {
   "cell_type": "code",
   "execution_count": 14,
   "id": "8adbcdc3",
   "metadata": {},
   "outputs": [],
   "source": [
    "import GPy\n",
    "import numpy as np\n",
    "import matplotlib.pyplot as plt\n",
    "import utils\n",
    "from functools import partial\n",
    "from utils import KernelFunction, KernelEnvironment, log_likelihood_reward\n",
    "from utils import plot_kernel_function, compare_kernels\n",
    "from gflownet import GFlowNet \n",
    "import torch.nn.functional as F\n",
    "from torch.distributions import Categorical\n",
    "import torch\n",
    "from utils import ForwardPolicy, BackwardPolicy\n",
    "import random\n",
    "from utils import train\n",
    "\n",
    "from evaluation import create_random_kernel\n",
    "import itertools\n",
    "from functools import partial\n",
    "\n",
    "from evaluation import calculate_l1_distance\n",
    "\n",
    "import pandas as pd\n",
    "\n",
    "from copy import deepcopy\n",
    "\n",
    "from evaluation import calculate_rmse\n",
    "from automated_statistician import greedy_search\n"
   ]
  },
  {
   "cell_type": "code",
   "execution_count": null,
   "id": "9914c262",
   "metadata": {},
   "outputs": [],
   "source": [
    "def create_env(batch_size=64):\n",
    "    return KernelEnvironment(\n",
    "    batch_size=batch_size,\n",
    "    max_trajectory_length=MAX_LEN,\n",
    "    log_reward=log_reward_fn\n",
    ")"
   ]
  },
  {
   "cell_type": "code",
   "execution_count": 6,
   "id": "50c03b78",
   "metadata": {},
   "outputs": [
    {
     "name": "stdout",
     "output_type": "stream",
     "text": [
      "  -> Randomizing 'RBF' params...\n",
      "  -> Randomizing 'RBF' params...\n",
      "  -> Randomizing 'Constant' params...\n",
      "True Kernel: ((RBF({'lengthscale': 1.099, 'variance': 1.155}) + RBF({'lengthscale': 1.429, 'variance': 0.917})) + Constant({'variance': 1.261})) Log Marginal Likelihood: 41.07869778729621\n",
      "True Kernel: ((RBF({'lengthscale': 1.099, 'variance': 1.155}) + RBF({'lengthscale': 1.429, 'variance': 0.917})) + Constant({'variance': 1.261})) Log Marginal Likelihood: 46.49716139384765\n"
     ]
    }
   ],
   "source": [
    "ll = -1#\n",
    "while ll < 0:\n",
    "    true_kernel = create_random_kernel()\n",
    "    X, Y, true_kernel_str = utils.generate_gp_data(true_kernel, input_dim=1, n_points=30, noise_var=1e-4)\n",
    "    X_test, Y_test, _ = utils.generate_gp_data(true_kernel, input_dim=1, n_points=30, noise_var=1e-4)\n",
    "    ll = utils.evaluate_likelihood(true_kernel, X, Y, runtime=False)\n",
    "\n",
    "print(\"True Kernel:\", true_kernel_str, \"Log Marginal Likelihood:\", utils.evaluate_likelihood(true_kernel, X, Y, runtime=False))\n",
    "print(\"True Kernel:\", true_kernel_str, \"Log Marginal Likelihood:\", utils.evaluate_likelihood(true_kernel, X_test, Y_test, runtime=False))\n",
    "\n",
    "#lt.scatter(X, Y, color='black', s=10, label='Data Points')"
   ]
  },
  {
   "cell_type": "code",
   "execution_count": 7,
   "id": "89473d9e",
   "metadata": {},
   "outputs": [],
   "source": [
    "log_reward_fn = partial(log_likelihood_reward, X, Y)"
   ]
  },
  {
   "cell_type": "code",
   "execution_count": 8,
   "id": "ba9b389a",
   "metadata": {},
   "outputs": [
    {
     "name": "stdout",
     "output_type": "stream",
     "text": [
      "Starting grid search with 36 combinations...\n",
      "\n",
      "--- Combination 1/36 ---\n",
      "Parameters: {'lr': 0.0001, 'BATCH_SIZE': 16, 'criterion': 'db', 'epsilon': 0.5, 'min_eps': 0.01, 'clamp_g': 1.0}\n"
     ]
    },
    {
     "name": "stderr",
     "output_type": "stream",
     "text": [
      "100%|██████████| 100/100 [00:47<00:00,  2.08it/s, loss=22.3]\n"
     ]
    },
    {
     "name": "stdout",
     "output_type": "stream",
     "text": [
      "    => Result: L1 distance = 0.8366\n",
      "    ✨ New best L1 for criterion 'db': 0.8366 ✨\n",
      "\n",
      "--- Combination 2/36 ---\n",
      "Parameters: {'lr': 0.0001, 'BATCH_SIZE': 16, 'criterion': 'tb', 'epsilon': 0.5, 'min_eps': 0.01, 'clamp_g': 1.0}\n"
     ]
    },
    {
     "name": "stderr",
     "output_type": "stream",
     "text": [
      "100%|██████████| 100/100 [00:02<00:00, 45.26it/s, loss=37.8]\n"
     ]
    },
    {
     "name": "stdout",
     "output_type": "stream",
     "text": [
      "    => Result: L1 distance = 0.9660\n",
      "    ✨ New best L1 for criterion 'tb': 0.9660 ✨\n",
      "\n",
      "--- Combination 3/36 ---\n",
      "Parameters: {'lr': 0.0001, 'BATCH_SIZE': 16, 'criterion': 'subtb', 'epsilon': 0.5, 'min_eps': 0.01, 'clamp_g': 1.0}\n"
     ]
    },
    {
     "name": "stderr",
     "output_type": "stream",
     "text": [
      "100%|██████████| 100/100 [00:02<00:00, 49.69it/s, loss=75.5]\n"
     ]
    },
    {
     "name": "stdout",
     "output_type": "stream",
     "text": [
      "    => Result: L1 distance = 0.8383\n",
      "    ✨ New best L1 for criterion 'subtb': 0.8383 ✨\n",
      "\n",
      "--- Combination 4/36 ---\n",
      "Parameters: {'lr': 0.0001, 'BATCH_SIZE': 16, 'criterion': 'cb', 'epsilon': 0.5, 'min_eps': 0.01, 'clamp_g': 1.0}\n"
     ]
    },
    {
     "name": "stderr",
     "output_type": "stream",
     "text": [
      "100%|██████████| 100/100 [00:01<00:00, 54.15it/s, loss=42.5]\n"
     ]
    },
    {
     "name": "stdout",
     "output_type": "stream",
     "text": [
      "    => Result: L1 distance = 0.8712\n",
      "    ✨ New best L1 for criterion 'cb': 0.8712 ✨\n",
      "\n",
      "--- Combination 5/36 ---\n",
      "Parameters: {'lr': 0.0001, 'BATCH_SIZE': 64, 'criterion': 'db', 'epsilon': 0.5, 'min_eps': 0.01, 'clamp_g': 1.0}\n"
     ]
    },
    {
     "name": "stderr",
     "output_type": "stream",
     "text": [
      "100%|██████████| 100/100 [00:03<00:00, 25.95it/s, loss=19] \n"
     ]
    },
    {
     "name": "stdout",
     "output_type": "stream",
     "text": [
      "    => Result: L1 distance = 0.9257\n",
      "\n",
      "--- Combination 6/36 ---\n",
      "Parameters: {'lr': 0.0001, 'BATCH_SIZE': 64, 'criterion': 'tb', 'epsilon': 0.5, 'min_eps': 0.01, 'clamp_g': 1.0}\n"
     ]
    },
    {
     "name": "stderr",
     "output_type": "stream",
     "text": [
      "100%|██████████| 100/100 [00:05<00:00, 18.34it/s, loss=28.4]\n"
     ]
    },
    {
     "name": "stdout",
     "output_type": "stream",
     "text": [
      "    => Result: L1 distance = 0.7166\n",
      "    ✨ New best L1 for criterion 'tb': 0.7166 ✨\n",
      "\n",
      "--- Combination 7/36 ---\n",
      "Parameters: {'lr': 0.0001, 'BATCH_SIZE': 64, 'criterion': 'subtb', 'epsilon': 0.5, 'min_eps': 0.01, 'clamp_g': 1.0}\n"
     ]
    },
    {
     "name": "stderr",
     "output_type": "stream",
     "text": [
      "100%|██████████| 100/100 [00:04<00:00, 24.15it/s, loss=91.8]\n"
     ]
    },
    {
     "name": "stdout",
     "output_type": "stream",
     "text": [
      "    => Result: L1 distance = 0.7853\n",
      "    ✨ New best L1 for criterion 'subtb': 0.7853 ✨\n",
      "\n",
      "--- Combination 8/36 ---\n",
      "Parameters: {'lr': 0.0001, 'BATCH_SIZE': 64, 'criterion': 'cb', 'epsilon': 0.5, 'min_eps': 0.01, 'clamp_g': 1.0}\n"
     ]
    },
    {
     "name": "stderr",
     "output_type": "stream",
     "text": [
      "100%|██████████| 100/100 [00:05<00:00, 18.70it/s, loss=41.3]\n"
     ]
    },
    {
     "name": "stdout",
     "output_type": "stream",
     "text": [
      "    => Result: L1 distance = 0.8457\n",
      "    ✨ New best L1 for criterion 'cb': 0.8457 ✨\n",
      "\n",
      "--- Combination 9/36 ---\n",
      "Parameters: {'lr': 0.0001, 'BATCH_SIZE': 256, 'criterion': 'db', 'epsilon': 0.5, 'min_eps': 0.01, 'clamp_g': 1.0}\n"
     ]
    },
    {
     "name": "stderr",
     "output_type": "stream",
     "text": [
      "100%|██████████| 100/100 [00:11<00:00,  8.52it/s, loss=22.4]\n"
     ]
    },
    {
     "name": "stdout",
     "output_type": "stream",
     "text": [
      "    => Result: L1 distance = 0.8157\n",
      "    ✨ New best L1 for criterion 'db': 0.8157 ✨\n",
      "\n",
      "--- Combination 10/36 ---\n",
      "Parameters: {'lr': 0.0001, 'BATCH_SIZE': 256, 'criterion': 'tb', 'epsilon': 0.5, 'min_eps': 0.01, 'clamp_g': 1.0}\n"
     ]
    },
    {
     "name": "stderr",
     "output_type": "stream",
     "text": [
      "100%|██████████| 100/100 [00:07<00:00, 13.51it/s, loss=39.8]\n"
     ]
    },
    {
     "name": "stdout",
     "output_type": "stream",
     "text": [
      "    => Result: L1 distance = 0.9682\n",
      "\n",
      "--- Combination 11/36 ---\n",
      "Parameters: {'lr': 0.0001, 'BATCH_SIZE': 256, 'criterion': 'subtb', 'epsilon': 0.5, 'min_eps': 0.01, 'clamp_g': 1.0}\n"
     ]
    },
    {
     "name": "stderr",
     "output_type": "stream",
     "text": [
      "100%|██████████| 100/100 [00:07<00:00, 13.06it/s, loss=89.7]\n"
     ]
    },
    {
     "name": "stdout",
     "output_type": "stream",
     "text": [
      "    => Result: L1 distance = 0.7655\n",
      "    ✨ New best L1 for criterion 'subtb': 0.7655 ✨\n",
      "\n",
      "--- Combination 12/36 ---\n",
      "Parameters: {'lr': 0.0001, 'BATCH_SIZE': 256, 'criterion': 'cb', 'epsilon': 0.5, 'min_eps': 0.01, 'clamp_g': 1.0}\n"
     ]
    },
    {
     "name": "stderr",
     "output_type": "stream",
     "text": [
      "100%|██████████| 100/100 [00:09<00:00, 10.04it/s, loss=37.5]\n"
     ]
    },
    {
     "name": "stdout",
     "output_type": "stream",
     "text": [
      "    => Result: L1 distance = 0.8549\n",
      "\n",
      "--- Combination 13/36 ---\n",
      "Parameters: {'lr': 0.001, 'BATCH_SIZE': 16, 'criterion': 'db', 'epsilon': 0.5, 'min_eps': 0.01, 'clamp_g': 1.0}\n"
     ]
    },
    {
     "name": "stderr",
     "output_type": "stream",
     "text": [
      "100%|██████████| 100/100 [00:01<00:00, 53.27it/s, loss=20.5]\n"
     ]
    },
    {
     "name": "stdout",
     "output_type": "stream",
     "text": [
      "    => Result: L1 distance = 0.8242\n",
      "\n",
      "--- Combination 14/36 ---\n",
      "Parameters: {'lr': 0.001, 'BATCH_SIZE': 16, 'criterion': 'tb', 'epsilon': 0.5, 'min_eps': 0.01, 'clamp_g': 1.0}\n"
     ]
    },
    {
     "name": "stderr",
     "output_type": "stream",
     "text": [
      "100%|██████████| 100/100 [00:01<00:00, 58.57it/s, loss=13.3]\n"
     ]
    },
    {
     "name": "stdout",
     "output_type": "stream",
     "text": [
      "    => Result: L1 distance = 0.7508\n",
      "\n",
      "--- Combination 15/36 ---\n",
      "Parameters: {'lr': 0.001, 'BATCH_SIZE': 16, 'criterion': 'subtb', 'epsilon': 0.5, 'min_eps': 0.01, 'clamp_g': 1.0}\n"
     ]
    },
    {
     "name": "stderr",
     "output_type": "stream",
     "text": [
      "100%|██████████| 100/100 [00:02<00:00, 37.86it/s, loss=66.5]\n"
     ]
    },
    {
     "name": "stdout",
     "output_type": "stream",
     "text": [
      "    => Result: L1 distance = 1.0562\n",
      "\n",
      "--- Combination 16/36 ---\n",
      "Parameters: {'lr': 0.001, 'BATCH_SIZE': 16, 'criterion': 'cb', 'epsilon': 0.5, 'min_eps': 0.01, 'clamp_g': 1.0}\n"
     ]
    },
    {
     "name": "stderr",
     "output_type": "stream",
     "text": [
      "100%|██████████| 100/100 [00:01<00:00, 63.94it/s, loss=19] \n"
     ]
    },
    {
     "name": "stdout",
     "output_type": "stream",
     "text": [
      "    => Result: L1 distance = 0.7428\n",
      "    ✨ New best L1 for criterion 'cb': 0.7428 ✨\n",
      "\n",
      "--- Combination 17/36 ---\n",
      "Parameters: {'lr': 0.001, 'BATCH_SIZE': 64, 'criterion': 'db', 'epsilon': 0.5, 'min_eps': 0.01, 'clamp_g': 1.0}\n"
     ]
    },
    {
     "name": "stderr",
     "output_type": "stream",
     "text": [
      "100%|██████████| 100/100 [00:04<00:00, 21.74it/s, loss=16.9]\n"
     ]
    },
    {
     "name": "stdout",
     "output_type": "stream",
     "text": [
      "    => Result: L1 distance = 1.0331\n",
      "\n",
      "--- Combination 18/36 ---\n",
      "Parameters: {'lr': 0.001, 'BATCH_SIZE': 64, 'criterion': 'tb', 'epsilon': 0.5, 'min_eps': 0.01, 'clamp_g': 1.0}\n"
     ]
    },
    {
     "name": "stderr",
     "output_type": "stream",
     "text": [
      "100%|██████████| 100/100 [00:04<00:00, 23.98it/s, loss=15.6]\n"
     ]
    },
    {
     "name": "stdout",
     "output_type": "stream",
     "text": [
      "    => Result: L1 distance = 0.7636\n",
      "\n",
      "--- Combination 19/36 ---\n",
      "Parameters: {'lr': 0.001, 'BATCH_SIZE': 64, 'criterion': 'subtb', 'epsilon': 0.5, 'min_eps': 0.01, 'clamp_g': 1.0}\n"
     ]
    },
    {
     "name": "stderr",
     "output_type": "stream",
     "text": [
      "100%|██████████| 100/100 [00:03<00:00, 25.14it/s, loss=80.9]\n"
     ]
    },
    {
     "name": "stdout",
     "output_type": "stream",
     "text": [
      "    => Result: L1 distance = 0.8853\n",
      "\n",
      "--- Combination 20/36 ---\n",
      "Parameters: {'lr': 0.001, 'BATCH_SIZE': 64, 'criterion': 'cb', 'epsilon': 0.5, 'min_eps': 0.01, 'clamp_g': 1.0}\n"
     ]
    },
    {
     "name": "stderr",
     "output_type": "stream",
     "text": [
      "100%|██████████| 100/100 [00:02<00:00, 33.47it/s, loss=29] \n"
     ]
    },
    {
     "name": "stdout",
     "output_type": "stream",
     "text": [
      "    => Result: L1 distance = 0.8729\n",
      "\n",
      "--- Combination 21/36 ---\n",
      "Parameters: {'lr': 0.001, 'BATCH_SIZE': 256, 'criterion': 'db', 'epsilon': 0.5, 'min_eps': 0.01, 'clamp_g': 1.0}\n"
     ]
    },
    {
     "name": "stderr",
     "output_type": "stream",
     "text": [
      "100%|██████████| 100/100 [00:10<00:00,  9.26it/s, loss=18.7]\n"
     ]
    },
    {
     "name": "stdout",
     "output_type": "stream",
     "text": [
      "    => Result: L1 distance = 0.9305\n",
      "\n",
      "--- Combination 22/36 ---\n",
      "Parameters: {'lr': 0.001, 'BATCH_SIZE': 256, 'criterion': 'tb', 'epsilon': 0.5, 'min_eps': 0.01, 'clamp_g': 1.0}\n"
     ]
    },
    {
     "name": "stderr",
     "output_type": "stream",
     "text": [
      "100%|██████████| 100/100 [00:07<00:00, 13.78it/s, loss=14.8]\n"
     ]
    },
    {
     "name": "stdout",
     "output_type": "stream",
     "text": [
      "    => Result: L1 distance = 0.8046\n",
      "\n",
      "--- Combination 23/36 ---\n",
      "Parameters: {'lr': 0.001, 'BATCH_SIZE': 256, 'criterion': 'subtb', 'epsilon': 0.5, 'min_eps': 0.01, 'clamp_g': 1.0}\n"
     ]
    },
    {
     "name": "stderr",
     "output_type": "stream",
     "text": [
      "100%|██████████| 100/100 [00:06<00:00, 15.01it/s, loss=80.8]\n"
     ]
    },
    {
     "name": "stdout",
     "output_type": "stream",
     "text": [
      "    => Result: L1 distance = 0.9233\n",
      "\n",
      "--- Combination 24/36 ---\n",
      "Parameters: {'lr': 0.001, 'BATCH_SIZE': 256, 'criterion': 'cb', 'epsilon': 0.5, 'min_eps': 0.01, 'clamp_g': 1.0}\n"
     ]
    },
    {
     "name": "stderr",
     "output_type": "stream",
     "text": [
      "100%|██████████| 100/100 [00:08<00:00, 11.12it/s, loss=26.4]\n"
     ]
    },
    {
     "name": "stdout",
     "output_type": "stream",
     "text": [
      "    => Result: L1 distance = 0.7255\n",
      "    ✨ New best L1 for criterion 'cb': 0.7255 ✨\n",
      "\n",
      "--- Combination 25/36 ---\n",
      "Parameters: {'lr': 0.01, 'BATCH_SIZE': 16, 'criterion': 'db', 'epsilon': 0.5, 'min_eps': 0.01, 'clamp_g': 1.0}\n"
     ]
    },
    {
     "name": "stderr",
     "output_type": "stream",
     "text": [
      "100%|██████████| 100/100 [00:01<00:00, 64.52it/s, loss=5.01]\n"
     ]
    },
    {
     "name": "stdout",
     "output_type": "stream",
     "text": [
      "    => Result: L1 distance = 0.8428\n",
      "\n",
      "--- Combination 26/36 ---\n",
      "Parameters: {'lr': 0.01, 'BATCH_SIZE': 16, 'criterion': 'tb', 'epsilon': 0.5, 'min_eps': 0.01, 'clamp_g': 1.0}\n"
     ]
    },
    {
     "name": "stderr",
     "output_type": "stream",
     "text": [
      "100%|██████████| 100/100 [00:01<00:00, 66.55it/s, loss=1.17]\n"
     ]
    },
    {
     "name": "stdout",
     "output_type": "stream",
     "text": [
      "    => Result: L1 distance = 0.9138\n",
      "\n",
      "--- Combination 27/36 ---\n",
      "Parameters: {'lr': 0.01, 'BATCH_SIZE': 16, 'criterion': 'subtb', 'epsilon': 0.5, 'min_eps': 0.01, 'clamp_g': 1.0}\n"
     ]
    },
    {
     "name": "stderr",
     "output_type": "stream",
     "text": [
      "100%|██████████| 100/100 [00:02<00:00, 41.04it/s, loss=9.87]\n"
     ]
    },
    {
     "name": "stdout",
     "output_type": "stream",
     "text": [
      "    => Result: L1 distance = 0.8046\n",
      "\n",
      "--- Combination 28/36 ---\n",
      "Parameters: {'lr': 0.01, 'BATCH_SIZE': 16, 'criterion': 'cb', 'epsilon': 0.5, 'min_eps': 0.01, 'clamp_g': 1.0}\n"
     ]
    },
    {
     "name": "stderr",
     "output_type": "stream",
     "text": [
      "100%|██████████| 100/100 [00:01<00:00, 54.90it/s, loss=9.16]\n"
     ]
    },
    {
     "name": "stdout",
     "output_type": "stream",
     "text": [
      "    => Result: L1 distance = 0.9097\n",
      "\n",
      "--- Combination 29/36 ---\n",
      "Parameters: {'lr': 0.01, 'BATCH_SIZE': 64, 'criterion': 'db', 'epsilon': 0.5, 'min_eps': 0.01, 'clamp_g': 1.0}\n"
     ]
    },
    {
     "name": "stderr",
     "output_type": "stream",
     "text": [
      "100%|██████████| 100/100 [00:04<00:00, 20.73it/s, loss=6.33]\n"
     ]
    },
    {
     "name": "stdout",
     "output_type": "stream",
     "text": [
      "    => Result: L1 distance = 0.7092\n",
      "    ✨ New best L1 for criterion 'db': 0.7092 ✨\n",
      "\n",
      "--- Combination 30/36 ---\n",
      "Parameters: {'lr': 0.01, 'BATCH_SIZE': 64, 'criterion': 'tb', 'epsilon': 0.5, 'min_eps': 0.01, 'clamp_g': 1.0}\n"
     ]
    },
    {
     "name": "stderr",
     "output_type": "stream",
     "text": [
      "100%|██████████| 100/100 [00:03<00:00, 32.02it/s, loss=2.95]\n"
     ]
    },
    {
     "name": "stdout",
     "output_type": "stream",
     "text": [
      "    => Result: L1 distance = 0.7978\n",
      "\n",
      "--- Combination 31/36 ---\n",
      "Parameters: {'lr': 0.01, 'BATCH_SIZE': 64, 'criterion': 'subtb', 'epsilon': 0.5, 'min_eps': 0.01, 'clamp_g': 1.0}\n"
     ]
    },
    {
     "name": "stderr",
     "output_type": "stream",
     "text": [
      "100%|██████████| 100/100 [00:03<00:00, 25.85it/s, loss=3.78]\n"
     ]
    },
    {
     "name": "stdout",
     "output_type": "stream",
     "text": [
      "    => Result: L1 distance = 0.7700\n",
      "\n",
      "--- Combination 32/36 ---\n",
      "Parameters: {'lr': 0.01, 'BATCH_SIZE': 64, 'criterion': 'cb', 'epsilon': 0.5, 'min_eps': 0.01, 'clamp_g': 1.0}\n"
     ]
    },
    {
     "name": "stderr",
     "output_type": "stream",
     "text": [
      "100%|██████████| 100/100 [00:03<00:00, 28.08it/s, loss=9.06]\n"
     ]
    },
    {
     "name": "stdout",
     "output_type": "stream",
     "text": [
      "    => Result: L1 distance = 0.8658\n",
      "\n",
      "--- Combination 33/36 ---\n",
      "Parameters: {'lr': 0.01, 'BATCH_SIZE': 256, 'criterion': 'db', 'epsilon': 0.5, 'min_eps': 0.01, 'clamp_g': 1.0}\n"
     ]
    },
    {
     "name": "stderr",
     "output_type": "stream",
     "text": [
      "100%|██████████| 100/100 [00:07<00:00, 13.52it/s, loss=2.78]\n"
     ]
    },
    {
     "name": "stdout",
     "output_type": "stream",
     "text": [
      "    => Result: L1 distance = 1.0009\n",
      "\n",
      "--- Combination 34/36 ---\n",
      "Parameters: {'lr': 0.01, 'BATCH_SIZE': 256, 'criterion': 'tb', 'epsilon': 0.5, 'min_eps': 0.01, 'clamp_g': 1.0}\n"
     ]
    },
    {
     "name": "stderr",
     "output_type": "stream",
     "text": [
      "100%|██████████| 100/100 [00:07<00:00, 13.32it/s, loss=2.15]\n"
     ]
    },
    {
     "name": "stdout",
     "output_type": "stream",
     "text": [
      "    => Result: L1 distance = 0.8787\n",
      "\n",
      "--- Combination 35/36 ---\n",
      "Parameters: {'lr': 0.01, 'BATCH_SIZE': 256, 'criterion': 'subtb', 'epsilon': 0.5, 'min_eps': 0.01, 'clamp_g': 1.0}\n"
     ]
    },
    {
     "name": "stderr",
     "output_type": "stream",
     "text": [
      "100%|██████████| 100/100 [00:08<00:00, 11.43it/s, loss=10.5]\n"
     ]
    },
    {
     "name": "stdout",
     "output_type": "stream",
     "text": [
      "    => Result: L1 distance = 0.7792\n",
      "\n",
      "--- Combination 36/36 ---\n",
      "Parameters: {'lr': 0.01, 'BATCH_SIZE': 256, 'criterion': 'cb', 'epsilon': 0.5, 'min_eps': 0.01, 'clamp_g': 1.0}\n"
     ]
    },
    {
     "name": "stderr",
     "output_type": "stream",
     "text": [
      "100%|██████████| 100/100 [00:10<00:00,  9.83it/s, loss=3.71]\n"
     ]
    },
    {
     "name": "stdout",
     "output_type": "stream",
     "text": [
      "    => Result: L1 distance = 0.8350\n",
      "\n",
      "--- Grid Search Complete ---\n",
      "Best results per criterion:\n",
      "Criterion Best L1 Distance  Learning Rate  Batch Size  Clamp Value\n",
      "       db           0.7092         0.0100          64          1.0\n",
      "       tb           0.7166         0.0001          64          1.0\n",
      "    subtb           0.7655         0.0001         256          1.0\n",
      "       cb           0.7255         0.0010         256          1.0\n"
     ]
    }
   ],
   "source": [
    "# --- 1. Define the Hyperparameter Grid ---\n",
    "param_grid = {\n",
    "    'lr': [1e-4, 1e-3, 1e-2],\n",
    "    'BATCH_SIZE': [16, 64, 256],\n",
    "    'criterion': ['db', 'tb', 'subtb', 'cb'],\n",
    "    'epsilon': [0.5],  # Initial epsilon for the forward policy\n",
    "    'min_eps': [1e-2],   # Minimum epsilon for the scheduler\n",
    "    'clamp_g': [1.0] # Clamping value for the gradient\n",
    "}\n",
    "\n",
    "# --- 2. Prepare for Iteration ---\n",
    "# Generate a list of all hyperparameter combinations.\n",
    "keys, values = zip(*param_grid.items())\n",
    "param_combinations = [dict(zip(keys, v)) for v in itertools.product(*values)]\n",
    "\n",
    "# Initialize a dictionary to store the best result for each criterion\n",
    "best_results_per_criterion = {\n",
    "    crit: {'best_l1': float('inf'), 'best_params': None}\n",
    "    for crit in param_grid['criterion']\n",
    "}\n",
    "\n",
    "# --- 3. Run the Grid Search ---\n",
    "print(f\"Starting grid search with {len(param_combinations)} combinations...\")\n",
    "\n",
    "for i, params in enumerate(param_combinations):\n",
    "    print(f\"\\n--- Combination {i+1}/{len(param_combinations)} ---\")\n",
    "    print(f\"Parameters: {params}\")\n",
    "\n",
    "    # Your fixed parameters\n",
    "    epochs = 100\n",
    "    MAX_LEN = 4\n",
    "\n",
    "    # Unpack current combination of parameters\n",
    "    lr = params['lr']\n",
    "    BATCH_SIZE = params['BATCH_SIZE']\n",
    "    criterion = params['criterion']\n",
    "    initial_epsilon = params['epsilon']\n",
    "    min_eps = params['min_eps']\n",
    "    clamp_g = params['clamp_g']\n",
    "\n",
    "    # --- Model Initialization ---\n",
    "    # log_reward_fn = partial(utils.log_likelihood_reward, X, Y)\n",
    "    env = create_env()\n",
    "\n",
    "    forward_model = ForwardPolicy(\n",
    "        input_dim=MAX_LEN,\n",
    "        output_dim=env.action_space_size,\n",
    "        epsilon=initial_epsilon\n",
    "    )\n",
    "    backward_model = BackwardPolicy()\n",
    "\n",
    "    gflownet = GFlowNet(\n",
    "        forward_flow=forward_model,\n",
    "        backward_flow=backward_model,\n",
    "        criterion=criterion\n",
    "    )\n",
    "    \n",
    "    # Add attributes to model for mock calculation\n",
    "    gflownet.lr = lr\n",
    "    \n",
    "    # --- Training ---\n",
    "    trained_gflownet, losses = train(\n",
    "        gflownet=gflownet,\n",
    "        create_env=create_env,\n",
    "        epochs=epochs,\n",
    "        batch_size=BATCH_SIZE,\n",
    "        lr=lr,\n",
    "        min_eps=min_eps,\n",
    "        clamp_g=clamp_g,\n",
    "        use_scheduler=True\n",
    "    )\n",
    "\n",
    "    # --- Evaluation and Logging ---\n",
    "    l1 = calculate_l1_distance(gflownet.forward_flow , KernelEnvironment , MAX_LEN, X, Y)\n",
    "    print(f\"    => Result: L1 distance = {l1:.4f}\")\n",
    "\n",
    "    # Check if this is the new best result *for this specific criterion*\n",
    "    if l1 < best_results_per_criterion[criterion]['best_l1']:\n",
    "        print(f\"    ✨ New best L1 for criterion '{criterion}': {l1:.4f} ✨\")\n",
    "        best_results_per_criterion[criterion]['best_l1'] = l1\n",
    "        best_results_per_criterion[criterion]['best_params'] = params\n",
    "        best_results_per_criterion[criterion]['model'] = deepcopy(trained_gflownet)\n",
    "\n",
    "\n",
    "# --- 4. Final Results Table ---\n",
    "print(\"\\n--- Grid Search Complete ---\")\n",
    "print(\"Best results per criterion:\")\n",
    "\n",
    "# Prepare data for the pandas DataFrame\n",
    "table_data = []\n",
    "for criterion, results in best_results_per_criterion.items():\n",
    "    if results['best_params']:  # Check if any result was found\n",
    "        row = {\n",
    "            'Criterion': criterion,\n",
    "            'Best L1 Distance': f\"{results['best_l1']:.4f}\",\n",
    "            'Learning Rate': results['best_params']['lr'],\n",
    "            'Batch Size': results['best_params']['BATCH_SIZE'],\n",
    "            'Clamp Value': results['best_params']['clamp_g']\n",
    "        }\n",
    "        table_data.append(row)\n",
    "\n",
    "if table_data:\n",
    "    # Create and display the DataFrame\n",
    "    df = pd.DataFrame(table_data)\n",
    "    print(df.to_string(index=False))\n",
    "else:\n",
    "    print(\"No results were recorded.\")"
   ]
  },
  {
   "cell_type": "code",
   "execution_count": 7,
   "id": "3bb3ebf1",
   "metadata": {},
   "outputs": [
    {
     "name": "stdout",
     "output_type": "stream",
     "text": [
      "Criterion Best L1 Distance  Learning Rate  Batch Size  Clamp Value\n",
      "       db           0.6132          0.001          16          1.0\n",
      "       tb           0.5095          0.010          16          1.0\n",
      "    subtb           0.5212          0.010          64          1.0\n",
      "       cb           0.4756          0.010         256          1.0\n"
     ]
    }
   ],
   "source": [
    "if table_data:\n",
    "    # Create and display the DataFrame\n",
    "    df = pd.DataFrame(table_data)\n",
    "    print(df.to_string(index=False))\n",
    "else:\n",
    "    print(\"No results were recorded.\")"
   ]
  },
  {
   "cell_type": "code",
   "execution_count": 11,
   "id": "5ec5f86c",
   "metadata": {},
   "outputs": [
    {
     "name": "stdout",
     "output_type": "stream",
     "text": [
      "\n",
      "==================================================\n",
      "--- Robust Evaluation from Best Hyperparameters ---\n",
      "==================================================\n",
      "\n",
      "Starting robust evaluation for criterion 'db' with params: {'lr': 0.01, 'BATCH_SIZE': 64, 'criterion': 'db', 'epsilon': 0.5, 'min_eps': 0.01, 'clamp_g': 1.0}\n",
      "  -> Run 1/3...\n"
     ]
    },
    {
     "name": "stderr",
     "output_type": "stream",
     "text": [
      "100%|██████████| 100/100 [00:03<00:00, 32.89it/s, loss=2.68]\n"
     ]
    },
    {
     "name": "stdout",
     "output_type": "stream",
     "text": [
      "  -> Run 2/3...\n"
     ]
    },
    {
     "name": "stderr",
     "output_type": "stream",
     "text": [
      "100%|██████████| 100/100 [00:03<00:00, 32.12it/s, loss=7.64]\n"
     ]
    },
    {
     "name": "stdout",
     "output_type": "stream",
     "text": [
      "  -> Run 3/3...\n"
     ]
    },
    {
     "name": "stderr",
     "output_type": "stream",
     "text": [
      "100%|██████████| 100/100 [00:03<00:00, 26.38it/s, loss=4.56]\n"
     ]
    },
    {
     "name": "stdout",
     "output_type": "stream",
     "text": [
      "  => Final Stats for 'db':\n",
      "     - Mean L1 Distance:         0.8276 (Std: 0.0566)\n",
      "     - Mean RMSE:                0.5127 (Std: 0.0191)\n",
      "     - Mean of Mean Likelihoods: 25.6883 (Std: 5.7730)\n",
      "     - Mean of Max Likelihoods:  43.8691 (Std: 0.2526)\n",
      "\n",
      "Starting robust evaluation for criterion 'tb' with params: {'lr': 0.0001, 'BATCH_SIZE': 64, 'criterion': 'tb', 'epsilon': 0.5, 'min_eps': 0.01, 'clamp_g': 1.0}\n",
      "  -> Run 1/3...\n"
     ]
    },
    {
     "name": "stderr",
     "output_type": "stream",
     "text": [
      "100%|██████████| 100/100 [00:03<00:00, 27.29it/s, loss=34.8]\n"
     ]
    },
    {
     "name": "stdout",
     "output_type": "stream",
     "text": [
      "  -> Run 2/3...\n"
     ]
    },
    {
     "name": "stderr",
     "output_type": "stream",
     "text": [
      "100%|██████████| 100/100 [00:02<00:00, 39.41it/s, loss=46.8]\n"
     ]
    },
    {
     "name": "stdout",
     "output_type": "stream",
     "text": [
      "  -> Run 3/3...\n"
     ]
    },
    {
     "name": "stderr",
     "output_type": "stream",
     "text": [
      "100%|██████████| 100/100 [00:03<00:00, 32.48it/s, loss=34.3]\n"
     ]
    },
    {
     "name": "stdout",
     "output_type": "stream",
     "text": [
      "  => Final Stats for 'tb':\n",
      "     - Mean L1 Distance:         0.9467 (Std: 0.0706)\n",
      "     - Mean RMSE:                0.4541 (Std: 0.0058)\n",
      "     - Mean of Mean Likelihoods: 5.9369 (Std: 1.6735)\n",
      "     - Mean of Max Likelihoods:  43.5927 (Std: 0.7228)\n",
      "\n",
      "Starting robust evaluation for criterion 'subtb' with params: {'lr': 0.0001, 'BATCH_SIZE': 256, 'criterion': 'subtb', 'epsilon': 0.5, 'min_eps': 0.01, 'clamp_g': 1.0}\n",
      "  -> Run 1/3...\n"
     ]
    },
    {
     "name": "stderr",
     "output_type": "stream",
     "text": [
      "100%|██████████| 100/100 [00:08<00:00, 12.15it/s, loss=86.5]\n"
     ]
    },
    {
     "name": "stdout",
     "output_type": "stream",
     "text": [
      "  -> Run 2/3...\n"
     ]
    },
    {
     "name": "stderr",
     "output_type": "stream",
     "text": [
      "100%|██████████| 100/100 [00:08<00:00, 12.49it/s, loss=79.3]\n"
     ]
    },
    {
     "name": "stdout",
     "output_type": "stream",
     "text": [
      "  -> Run 3/3...\n"
     ]
    },
    {
     "name": "stderr",
     "output_type": "stream",
     "text": [
      "100%|██████████| 100/100 [00:08<00:00, 11.70it/s, loss=91.2]\n"
     ]
    },
    {
     "name": "stdout",
     "output_type": "stream",
     "text": [
      "  => Final Stats for 'subtb':\n",
      "     - Mean L1 Distance:         0.8508 (Std: 0.0625)\n",
      "     - Mean RMSE:                0.4662 (Std: 0.0077)\n",
      "     - Mean of Mean Likelihoods: 9.6603 (Std: 1.4116)\n",
      "     - Mean of Max Likelihoods:  43.9087 (Std: 0.2759)\n",
      "\n",
      "Starting robust evaluation for criterion 'cb' with params: {'lr': 0.001, 'BATCH_SIZE': 256, 'criterion': 'cb', 'epsilon': 0.5, 'min_eps': 0.01, 'clamp_g': 1.0}\n",
      "  -> Run 1/3...\n"
     ]
    },
    {
     "name": "stderr",
     "output_type": "stream",
     "text": [
      "100%|██████████| 100/100 [00:08<00:00, 12.04it/s, loss=27.9]\n"
     ]
    },
    {
     "name": "stdout",
     "output_type": "stream",
     "text": [
      "  -> Run 2/3...\n"
     ]
    },
    {
     "name": "stderr",
     "output_type": "stream",
     "text": [
      "100%|██████████| 100/100 [00:08<00:00, 11.70it/s, loss=27.6]\n"
     ]
    },
    {
     "name": "stdout",
     "output_type": "stream",
     "text": [
      "  -> Run 3/3...\n"
     ]
    },
    {
     "name": "stderr",
     "output_type": "stream",
     "text": [
      "100%|██████████| 100/100 [00:08<00:00, 11.36it/s, loss=26.4]\n"
     ]
    },
    {
     "name": "stdout",
     "output_type": "stream",
     "text": [
      "  => Final Stats for 'cb':\n",
      "     - Mean L1 Distance:         0.7006 (Std: 0.0101)\n",
      "     - Mean RMSE:                0.5073 (Std: 0.0056)\n",
      "     - Mean of Mean Likelihoods: 24.0177 (Std: 2.4393)\n",
      "     - Mean of Max Likelihoods:  43.7872 (Std: 0.4477)\n",
      "\n",
      "\n",
      "==================================================\n",
      "--- Final Likelihood, L1 & RMSE Statistics Summary ---\n",
      "==================================================\n",
      "Criterion Mean L1 Std L1 Mean RMSE Std RMSE Mean of Means (LL) Std of Means (LL) Mean of Maxs (LL) Std of Maxs (LL)\n",
      "       db  0.8276 0.0566    0.5127   0.0191            25.6883            5.7730           43.8691           0.2526\n",
      "       tb  0.9467 0.0706    0.4541   0.0058             5.9369            1.6735           43.5927           0.7228\n",
      "    subtb  0.8508 0.0625    0.4662   0.0077             9.6603            1.4116           43.9087           0.2759\n",
      "       cb  0.7006 0.0101    0.5073   0.0056            24.0177            2.4393           43.7872           0.4477\n"
     ]
    }
   ],
   "source": [
    "# --- 5. Robust Evaluation: Re-train and Evaluate Multiple Times ---\n",
    "print(\"\\n\" + \"=\"*50)\n",
    "print(\"--- Robust Evaluation from Best Hyperparameters ---\")\n",
    "print(\"=\"*50 + \"\\n\")\n",
    "\n",
    "N_ROBUSTNESS_RUNS = 3\n",
    "final_stats_results = []\n",
    "\n",
    "for criterion, results in best_results_per_criterion.items():\n",
    "    best_params = results.get('best_params')\n",
    "    if not best_params:\n",
    "        print(f\"Skipping robust evaluation for '{criterion}' as no best parameters were found.\\n\")\n",
    "        continue\n",
    "\n",
    "    print(f\"Starting robust evaluation for criterion '{criterion}' with params: {best_params}\")\n",
    "    \n",
    "    # Lists to store metrics from each of the N runs\n",
    "    run_mean_likelihoods = []\n",
    "    run_max_likelihoods = []\n",
    "    run_l1_distances = []\n",
    "    run_mean_rmses = []\n",
    "\n",
    "    for run in range(N_ROBUSTNESS_RUNS):\n",
    "        print(f\"  -> Run {run + 1}/{N_ROBUSTNESS_RUNS}...\")\n",
    "        \n",
    "        # Unpack the best parameters for this criterion\n",
    "        lr = best_params['lr']\n",
    "        BATCH_SIZE = best_params['BATCH_SIZE']\n",
    "        \n",
    "        # Initialize and train a new model from scratch\n",
    "        env = create_env()\n",
    "        forward_model = ForwardPolicy(input_dim=MAX_LEN, output_dim=env.action_space_size, epsilon=best_params['epsilon'])\n",
    "        backward_model = BackwardPolicy()\n",
    "        gflownet = GFlowNet(forward_flow=forward_model, backward_flow=backward_model, criterion=criterion)\n",
    "        gflownet.lr = lr # For mock calculation\n",
    "        \n",
    "        trained_gflownet, _ = train(gflownet=gflownet, create_env=create_env, epochs=100, batch_size=BATCH_SIZE, lr=lr, min_eps=best_params['min_eps'], clamp_g=best_params['clamp_g'], use_scheduler=True)\n",
    "        \n",
    "        # Calculate L1 distance for this run\n",
    "        l1 = calculate_l1_distance(trained_gflownet.forward_flow, KernelEnvironment, MAX_LEN, X, Y)\n",
    "        run_l1_distances.append(l1)\n",
    "\n",
    "        # Sample and evaluate likelihood and RMSE\n",
    "        eval_env = KernelEnvironment(batch_size=100, max_trajectory_length=MAX_LEN, log_reward=log_reward_fn)\n",
    "        trained_gflownet.eval()\n",
    "        final_batch = trained_gflownet.sample(eval_env)\n",
    "        \n",
    "        likelihoods = [utils.evaluate_likelihood(k, X_test, Y_test) for k in final_batch.state]\n",
    "        rmses = [calculate_rmse(k, X, Y, X_test, Y_test) for k in final_batch.state]\n",
    "        \n",
    "        run_mean_likelihoods.append(np.mean(likelihoods))\n",
    "        run_max_likelihoods.append(np.max(likelihoods))\n",
    "        run_mean_rmses.append(np.mean(rmses))\n",
    "\n",
    "    # Calculate statistics over the N runs\n",
    "    mean_of_l1s = np.mean(run_l1_distances)\n",
    "    std_of_l1s = np.std(run_l1_distances)\n",
    "    mean_of_rmses = np.mean(run_mean_rmses)\n",
    "    std_of_rmses = np.std(run_mean_rmses)\n",
    "    mean_of_means = np.mean(run_mean_likelihoods)\n",
    "    std_of_means = np.std(run_mean_likelihoods)\n",
    "    mean_of_maxs = np.mean(run_max_likelihoods)\n",
    "    std_of_maxs = np.std(run_max_likelihoods)\n",
    "    \n",
    "    print(f\"  => Final Stats for '{criterion}':\")\n",
    "    print(f\"     - Mean L1 Distance:         {mean_of_l1s:.4f} (Std: {std_of_l1s:.4f})\")\n",
    "    print(f\"     - Mean RMSE:                {mean_of_rmses:.4f} (Std: {std_of_rmses:.4f})\")\n",
    "    print(f\"     - Mean of Mean Likelihoods: {mean_of_means:.4f} (Std: {std_of_means:.4f})\")\n",
    "    print(f\"     - Mean of Max Likelihoods:  {mean_of_maxs:.4f} (Std: {std_of_maxs:.4f})\\n\")\n",
    "\n",
    "    final_stats_results.append({\n",
    "        'Criterion': criterion,\n",
    "        'Mean L1': f\"{mean_of_l1s:.4f}\",\n",
    "        'Std L1': f\"{std_of_l1s:.4f}\",\n",
    "        'Mean RMSE': f\"{mean_of_rmses:.4f}\",\n",
    "        'Std RMSE': f\"{std_of_rmses:.4f}\",\n",
    "        'Mean of Means (LL)': f\"{mean_of_means:.4f}\",\n",
    "        'Std of Means (LL)': f\"{std_of_means:.4f}\",\n",
    "        'Mean of Maxs (LL)': f\"{mean_of_maxs:.4f}\",\n",
    "        'Std of Maxs (LL)': f\"{std_of_maxs:.4f}\"\n",
    "    })\n",
    "\n",
    "# --- 6. Final Statistics Summary Table ---\n",
    "if final_stats_results:\n",
    "    print(\"\\n\" + \"=\"*50)\n",
    "    print(\"--- Final Likelihood, L1 & RMSE Statistics Summary ---\")\n",
    "    print(\"=\"*50)\n",
    "    df_stats = pd.DataFrame(final_stats_results)\n",
    "    print(df_stats.to_string(index=False))\n"
   ]
  },
  {
   "cell_type": "code",
   "execution_count": 15,
   "id": "f81bf468",
   "metadata": {},
   "outputs": [
    {
     "name": "stdout",
     "output_type": "stream",
     "text": [
      "[Step 1] BIC: -71.95 LL: 41.08 | RBF({'lengthscale': 1.0, 'variance': 1.0})\n",
      "[Step 2] BIC: -68.66 LL: 41.13 | (RBF({'lengthscale': 1.0, 'variance': 1.0}) + Linear({'variances': 1.0}))\n",
      "[Step 3] BIC: -71.95 LL: 41.08 | RBF({'lengthscale': 1.0, 'variance': 1.0})\n",
      "[Step 4] BIC: -68.66 LL: 41.13 | (RBF({'lengthscale': 1.0, 'variance': 1.0}) + Linear({'variances': 1.0}))\n",
      "[Step 5] BIC: -71.95 LL: 41.08 | RBF({'lengthscale': 1.0, 'variance': 1.0})\n"
     ]
    }
   ],
   "source": [
    "greedy_kernel, _ = greedy_search(X, Y, method='BIC', max_steps=5)"
   ]
  },
  {
   "cell_type": "code",
   "execution_count": 16,
   "id": "d8ff1653",
   "metadata": {},
   "outputs": [
    {
     "name": "stdout",
     "output_type": "stream",
     "text": [
      "True kernel\n",
      " Log Marginal Likelihood: 46.49716139384765 RMSE: 0.5454070797996129\n",
      "===========================================\n",
      "Greedy Kernel (automated statistician)\n",
      "Log Marginal Likelihood: 46.08568974349245 RMSE: 0.519324359905318\n",
      "===========================================\n",
      "RBF Kernel\n",
      "Log Marginal Likelihood: 46.08568974349245 RMSE: 0.519324359905318\n",
      "Linear Kernel\n",
      "Log Marginal Likelihood: -5.300491805256389 RMSE: 0.37577574326011004\n",
      "Periodic Kernel\n",
      "Log Marginal Likelihood: -9.69355572690653 RMSE: 0.37554631914616465\n",
      "Constant Kernel\n",
      "Log Marginal Likelihood: -10.41643637246882 RMSE: 0.37100318595675863\n",
      "===========================================\n"
     ]
    }
   ],
   "source": [
    "ll_test = utils.evaluate_likelihood(true_kernel, X_test, Y_test, runtime=False)\n",
    "rmse_test = evaluation.calculate_rmse(true_kernel, X, Y, X_test, Y_test)\n",
    "    \n",
    "print(\"True kernel\")\n",
    "print(\" Log Marginal Likelihood:\", ll_test, \"RMSE:\", rmse_test)\n",
    "print(\"===========================================\")\n",
    "\n",
    "\n",
    "ll_test = utils.evaluate_likelihood(greedy_kernel, X_test, Y_test, runtime=False)\n",
    "rmse_test = evaluation.calculate_rmse(greedy_kernel, X, Y, X_test, Y_test)\n",
    "    \n",
    "print(\"Greedy Kernel (automated statistician)\")\n",
    "print(\"Log Marginal Likelihood:\", ll_test, \"RMSE:\", rmse_test)\n",
    "print(\"===========================================\")\n",
    "\n",
    "rbf_kernel = KernelFunction().rbf()\n",
    "linear_kernel = KernelFunction().linear()\n",
    "periodic_kernel = KernelFunction().periodic()\n",
    "constant_kernel = KernelFunction().constant()\n",
    "\n",
    "kernels = [rbf_kernel, linear_kernel, periodic_kernel, constant_kernel]\n",
    "for kernel in kernels:\n",
    "    ll_test = utils.evaluate_likelihood(kernel, X_test, Y_test, runtime=False)\n",
    "    rmse_test = evaluation.calculate_rmse(kernel, X, Y, X_test, Y_test)\n",
    "    \n",
    "    print(f\"{kernel.name} Kernel\")\n",
    "    print(\"Log Marginal Likelihood:\", ll_test, \"RMSE:\", rmse_test)\n",
    "print(\"===========================================\")\n",
    "\n"
   ]
  }
 ],
 "metadata": {
  "kernelspec": {
   "display_name": "gpy_env",
   "language": "python",
   "name": "python3"
  },
  "language_info": {
   "codemirror_mode": {
    "name": "ipython",
    "version": 3
   },
   "file_extension": ".py",
   "mimetype": "text/x-python",
   "name": "python",
   "nbconvert_exporter": "python",
   "pygments_lexer": "ipython3",
   "version": "3.11.0"
  }
 },
 "nbformat": 4,
 "nbformat_minor": 5
}
