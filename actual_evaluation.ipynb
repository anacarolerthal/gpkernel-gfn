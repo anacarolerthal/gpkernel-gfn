{
 "cells": [
  {
   "cell_type": "code",
   "execution_count": 1,
   "id": "8adbcdc3",
   "metadata": {},
   "outputs": [],
   "source": [
    "import GPy\n",
    "import numpy as np\n",
    "import matplotlib.pyplot as plt\n",
    "import utils\n",
    "from functools import partial\n",
    "from utils import KernelFunction, KernelEnvironment, log_likelihood_reward\n",
    "from utils import plot_kernel_function, compare_kernels\n",
    "from gflownet import GFlowNet \n",
    "import torch.nn.functional as F\n",
    "from torch.distributions import Categorical\n",
    "import torch\n",
    "from utils import ForwardPolicy, BackwardPolicy\n",
    "import random\n",
    "from utils import train\n",
    "\n",
    "from evaluation import create_random_kernel\n",
    "import itertools\n",
    "from functools import partial\n",
    "\n",
    "from evaluation import calculate_l1_distance\n",
    "\n",
    "import pandas as pd\n",
    "\n",
    "from copy import deepcopy"
   ]
  },
  {
   "cell_type": "code",
   "execution_count": 2,
   "id": "ee3f9c44",
   "metadata": {},
   "outputs": [
    {
     "name": "stdout",
     "output_type": "stream",
     "text": [
      "Requirement already satisfied: pandas in /home/guilherme/miniconda3/envs/gpy_env/lib/python3.11/site-packages (2.3.1)\n",
      "Requirement already satisfied: numpy>=1.23.2 in /home/guilherme/miniconda3/envs/gpy_env/lib/python3.11/site-packages (from pandas) (1.26.4)\n",
      "Requirement already satisfied: python-dateutil>=2.8.2 in /home/guilherme/miniconda3/envs/gpy_env/lib/python3.11/site-packages (from pandas) (2.9.0.post0)\n",
      "Requirement already satisfied: pytz>=2020.1 in /home/guilherme/miniconda3/envs/gpy_env/lib/python3.11/site-packages (from pandas) (2025.2)\n",
      "Requirement already satisfied: tzdata>=2022.7 in /home/guilherme/miniconda3/envs/gpy_env/lib/python3.11/site-packages (from pandas) (2025.2)\n",
      "Requirement already satisfied: six>=1.5 in /home/guilherme/miniconda3/envs/gpy_env/lib/python3.11/site-packages (from python-dateutil>=2.8.2->pandas) (1.17.0)\n"
     ]
    }
   ],
   "source": [
    "!pip install pandas\n"
   ]
  },
  {
   "cell_type": "code",
   "execution_count": 3,
   "id": "9914c262",
   "metadata": {},
   "outputs": [],
   "source": [
    "\n",
    "\n",
    "def create_env(batch_size=64):\n",
    "    return KernelEnvironment(\n",
    "    batch_size=batch_size,\n",
    "    max_trajectory_length=MAX_LEN,\n",
    "    log_reward=log_reward_fn\n",
    ")"
   ]
  },
  {
   "cell_type": "code",
   "execution_count": 4,
   "id": "50c03b78",
   "metadata": {},
   "outputs": [
    {
     "name": "stdout",
     "output_type": "stream",
     "text": [
      "  -> Randomizing 'Periodic' params...\n",
      "  -> Randomizing 'RBF' params...\n",
      "  -> Randomizing 'RBF' params...\n"
     ]
    },
    {
     "name": "stdout",
     "output_type": "stream",
     "text": [
      "True Kernel: ((Periodic({'period': 1.396, 'variance': 0.799, 'lengthscale': 1.186}) + RBF({'lengthscale': 0.907, 'variance': 1.189})) + RBF({'lengthscale': 0.536, 'variance': 0.619})) Log Marginal Likelihood: 23.196005504503297\n",
      "True Kernel: ((Periodic({'period': 1.396, 'variance': 0.799, 'lengthscale': 1.186}) + RBF({'lengthscale': 0.907, 'variance': 1.189})) + RBF({'lengthscale': 0.536, 'variance': 0.619})) Log Marginal Likelihood: 19.06329367331628\n"
     ]
    }
   ],
   "source": [
    "ll = -1#\n",
    "while ll < 0:\n",
    "    true_kernel = create_random_kernel()\n",
    "    X, Y, true_kernel_str = utils.generate_gp_data(true_kernel, input_dim=1, n_points=30, noise_var=1e-4)\n",
    "    X_test, Y_test, _ = utils.generate_gp_data(true_kernel, input_dim=1, n_points=30, noise_var=1e-4)\n",
    "    ll = utils.evaluate_likelihood(true_kernel, X, Y, runtime=False)\n",
    "\n",
    "print(\"True Kernel:\", true_kernel_str, \"Log Marginal Likelihood:\", utils.evaluate_likelihood(true_kernel, X, Y, runtime=False))\n",
    "print(\"True Kernel:\", true_kernel_str, \"Log Marginal Likelihood:\", utils.evaluate_likelihood(true_kernel, X_test, Y_test, runtime=False))\n",
    "\n",
    "#lt.scatter(X, Y, color='black', s=10, label='Data Points')"
   ]
  },
  {
   "cell_type": "code",
   "execution_count": 5,
   "id": "89473d9e",
   "metadata": {},
   "outputs": [],
   "source": [
    "log_reward_fn = partial(log_likelihood_reward, X, Y)"
   ]
  },
  {
   "cell_type": "code",
   "execution_count": 6,
   "id": "ba9b389a",
   "metadata": {},
   "outputs": [
    {
     "name": "stdout",
     "output_type": "stream",
     "text": [
      "Starting grid search with 36 combinations...\n",
      "\n",
      "--- Combination 1/36 ---\n",
      "Parameters: {'lr': 0.0001, 'BATCH_SIZE': 16, 'criterion': 'db', 'epsilon': 0.5, 'min_eps': 0.01, 'clamp_g': 1.0}\n"
     ]
    },
    {
     "name": "stderr",
     "output_type": "stream",
     "text": [
      "100%|██████████| 100/100 [00:52<00:00,  1.90it/s, loss=8.13]\n"
     ]
    },
    {
     "name": "stdout",
     "output_type": "stream",
     "text": [
      "    => Result: L1 distance = 0.7846\n",
      "    ✨ New best L1 for criterion 'db': 0.7846 ✨\n",
      "\n",
      "--- Combination 2/36 ---\n",
      "Parameters: {'lr': 0.0001, 'BATCH_SIZE': 16, 'criterion': 'tb', 'epsilon': 0.5, 'min_eps': 0.01, 'clamp_g': 1.0}\n"
     ]
    },
    {
     "name": "stderr",
     "output_type": "stream",
     "text": [
      "100%|██████████| 100/100 [00:01<00:00, 68.86it/s, loss=8.85]\n"
     ]
    },
    {
     "name": "stdout",
     "output_type": "stream",
     "text": [
      "    => Result: L1 distance = 0.9419\n",
      "    ✨ New best L1 for criterion 'tb': 0.9419 ✨\n",
      "\n",
      "--- Combination 3/36 ---\n",
      "Parameters: {'lr': 0.0001, 'BATCH_SIZE': 16, 'criterion': 'subtb', 'epsilon': 0.5, 'min_eps': 0.01, 'clamp_g': 1.0}\n"
     ]
    },
    {
     "name": "stderr",
     "output_type": "stream",
     "text": [
      "100%|██████████| 100/100 [00:03<00:00, 33.25it/s, loss=43.5]\n"
     ]
    },
    {
     "name": "stdout",
     "output_type": "stream",
     "text": [
      "    => Result: L1 distance = 1.0167\n",
      "    ✨ New best L1 for criterion 'subtb': 1.0167 ✨\n",
      "\n",
      "--- Combination 4/36 ---\n",
      "Parameters: {'lr': 0.0001, 'BATCH_SIZE': 16, 'criterion': 'cb', 'epsilon': 0.5, 'min_eps': 0.01, 'clamp_g': 1.0}\n"
     ]
    },
    {
     "name": "stderr",
     "output_type": "stream",
     "text": [
      "100%|██████████| 100/100 [00:01<00:00, 59.56it/s, loss=4.34]\n"
     ]
    },
    {
     "name": "stdout",
     "output_type": "stream",
     "text": [
      "    => Result: L1 distance = 0.9243\n",
      "    ✨ New best L1 for criterion 'cb': 0.9243 ✨\n",
      "\n",
      "--- Combination 5/36 ---\n",
      "Parameters: {'lr': 0.0001, 'BATCH_SIZE': 64, 'criterion': 'db', 'epsilon': 0.5, 'min_eps': 0.01, 'clamp_g': 1.0}\n"
     ]
    },
    {
     "name": "stderr",
     "output_type": "stream",
     "text": [
      "100%|██████████| 100/100 [00:02<00:00, 38.86it/s, loss=8.49]\n"
     ]
    },
    {
     "name": "stdout",
     "output_type": "stream",
     "text": [
      "    => Result: L1 distance = 0.8948\n",
      "\n",
      "--- Combination 6/36 ---\n",
      "Parameters: {'lr': 0.0001, 'BATCH_SIZE': 64, 'criterion': 'tb', 'epsilon': 0.5, 'min_eps': 0.01, 'clamp_g': 1.0}\n"
     ]
    },
    {
     "name": "stderr",
     "output_type": "stream",
     "text": [
      "100%|██████████| 100/100 [00:03<00:00, 29.77it/s, loss=8.28]\n"
     ]
    },
    {
     "name": "stdout",
     "output_type": "stream",
     "text": [
      "    => Result: L1 distance = 1.0369\n",
      "\n",
      "--- Combination 7/36 ---\n",
      "Parameters: {'lr': 0.0001, 'BATCH_SIZE': 64, 'criterion': 'subtb', 'epsilon': 0.5, 'min_eps': 0.01, 'clamp_g': 1.0}\n"
     ]
    },
    {
     "name": "stderr",
     "output_type": "stream",
     "text": [
      "100%|██████████| 100/100 [00:04<00:00, 24.35it/s, loss=44.3]\n"
     ]
    },
    {
     "name": "stdout",
     "output_type": "stream",
     "text": [
      "    => Result: L1 distance = 0.8129\n",
      "    ✨ New best L1 for criterion 'subtb': 0.8129 ✨\n",
      "\n",
      "--- Combination 8/36 ---\n",
      "Parameters: {'lr': 0.0001, 'BATCH_SIZE': 64, 'criterion': 'cb', 'epsilon': 0.5, 'min_eps': 0.01, 'clamp_g': 1.0}\n"
     ]
    },
    {
     "name": "stderr",
     "output_type": "stream",
     "text": [
      "100%|██████████| 100/100 [00:03<00:00, 25.03it/s, loss=5.64]\n"
     ]
    },
    {
     "name": "stdout",
     "output_type": "stream",
     "text": [
      "    => Result: L1 distance = 0.6953\n",
      "    ✨ New best L1 for criterion 'cb': 0.6953 ✨\n",
      "\n",
      "--- Combination 9/36 ---\n",
      "Parameters: {'lr': 0.0001, 'BATCH_SIZE': 256, 'criterion': 'db', 'epsilon': 0.5, 'min_eps': 0.01, 'clamp_g': 1.0}\n"
     ]
    },
    {
     "name": "stderr",
     "output_type": "stream",
     "text": [
      "100%|██████████| 100/100 [00:08<00:00, 11.52it/s, loss=8.6]\n"
     ]
    },
    {
     "name": "stdout",
     "output_type": "stream",
     "text": [
      "    => Result: L1 distance = 0.8893\n",
      "\n",
      "--- Combination 10/36 ---\n",
      "Parameters: {'lr': 0.0001, 'BATCH_SIZE': 256, 'criterion': 'tb', 'epsilon': 0.5, 'min_eps': 0.01, 'clamp_g': 1.0}\n"
     ]
    },
    {
     "name": "stderr",
     "output_type": "stream",
     "text": [
      "100%|██████████| 100/100 [00:08<00:00, 11.12it/s, loss=6.11]\n"
     ]
    },
    {
     "name": "stdout",
     "output_type": "stream",
     "text": [
      "    => Result: L1 distance = 0.9220\n",
      "    ✨ New best L1 for criterion 'tb': 0.9220 ✨\n",
      "\n",
      "--- Combination 11/36 ---\n",
      "Parameters: {'lr': 0.0001, 'BATCH_SIZE': 256, 'criterion': 'subtb', 'epsilon': 0.5, 'min_eps': 0.01, 'clamp_g': 1.0}\n"
     ]
    },
    {
     "name": "stderr",
     "output_type": "stream",
     "text": [
      "100%|██████████| 100/100 [00:09<00:00, 10.70it/s, loss=50.9]\n"
     ]
    },
    {
     "name": "stdout",
     "output_type": "stream",
     "text": [
      "    => Result: L1 distance = 0.9366\n",
      "\n",
      "--- Combination 12/36 ---\n",
      "Parameters: {'lr': 0.0001, 'BATCH_SIZE': 256, 'criterion': 'cb', 'epsilon': 0.5, 'min_eps': 0.01, 'clamp_g': 1.0}\n"
     ]
    },
    {
     "name": "stderr",
     "output_type": "stream",
     "text": [
      "100%|██████████| 100/100 [00:09<00:00, 10.67it/s, loss=10.8]\n"
     ]
    },
    {
     "name": "stdout",
     "output_type": "stream",
     "text": [
      "    => Result: L1 distance = 0.6863\n",
      "    ✨ New best L1 for criterion 'cb': 0.6863 ✨\n",
      "\n",
      "--- Combination 13/36 ---\n",
      "Parameters: {'lr': 0.001, 'BATCH_SIZE': 16, 'criterion': 'db', 'epsilon': 0.5, 'min_eps': 0.01, 'clamp_g': 1.0}\n"
     ]
    },
    {
     "name": "stderr",
     "output_type": "stream",
     "text": [
      "100%|██████████| 100/100 [00:03<00:00, 32.70it/s, loss=7.36]\n"
     ]
    },
    {
     "name": "stdout",
     "output_type": "stream",
     "text": [
      "    => Result: L1 distance = 0.6132\n",
      "    ✨ New best L1 for criterion 'db': 0.6132 ✨\n",
      "\n",
      "--- Combination 14/36 ---\n",
      "Parameters: {'lr': 0.001, 'BATCH_SIZE': 16, 'criterion': 'tb', 'epsilon': 0.5, 'min_eps': 0.01, 'clamp_g': 1.0}\n"
     ]
    },
    {
     "name": "stderr",
     "output_type": "stream",
     "text": [
      "100%|██████████| 100/100 [00:03<00:00, 33.23it/s, loss=1.38]\n"
     ]
    },
    {
     "name": "stdout",
     "output_type": "stream",
     "text": [
      "    => Result: L1 distance = 0.6174\n",
      "    ✨ New best L1 for criterion 'tb': 0.6174 ✨\n",
      "\n",
      "--- Combination 15/36 ---\n",
      "Parameters: {'lr': 0.001, 'BATCH_SIZE': 16, 'criterion': 'subtb', 'epsilon': 0.5, 'min_eps': 0.01, 'clamp_g': 1.0}\n"
     ]
    },
    {
     "name": "stderr",
     "output_type": "stream",
     "text": [
      "100%|██████████| 100/100 [00:02<00:00, 47.62it/s, loss=40] \n"
     ]
    },
    {
     "name": "stdout",
     "output_type": "stream",
     "text": [
      "    => Result: L1 distance = 0.8515\n",
      "\n",
      "--- Combination 16/36 ---\n",
      "Parameters: {'lr': 0.001, 'BATCH_SIZE': 16, 'criterion': 'cb', 'epsilon': 0.5, 'min_eps': 0.01, 'clamp_g': 1.0}\n"
     ]
    },
    {
     "name": "stderr",
     "output_type": "stream",
     "text": [
      "100%|██████████| 100/100 [00:03<00:00, 31.00it/s, loss=7.35]\n"
     ]
    },
    {
     "name": "stdout",
     "output_type": "stream",
     "text": [
      "    => Result: L1 distance = 0.6942\n",
      "\n",
      "--- Combination 17/36 ---\n",
      "Parameters: {'lr': 0.001, 'BATCH_SIZE': 64, 'criterion': 'db', 'epsilon': 0.5, 'min_eps': 0.01, 'clamp_g': 1.0}\n"
     ]
    },
    {
     "name": "stderr",
     "output_type": "stream",
     "text": [
      "100%|██████████| 100/100 [00:04<00:00, 21.10it/s, loss=8.33]\n"
     ]
    },
    {
     "name": "stdout",
     "output_type": "stream",
     "text": [
      "    => Result: L1 distance = 0.7304\n",
      "\n",
      "--- Combination 18/36 ---\n",
      "Parameters: {'lr': 0.001, 'BATCH_SIZE': 64, 'criterion': 'tb', 'epsilon': 0.5, 'min_eps': 0.01, 'clamp_g': 1.0}\n"
     ]
    },
    {
     "name": "stderr",
     "output_type": "stream",
     "text": [
      "100%|██████████| 100/100 [00:04<00:00, 20.41it/s, loss=4.03]\n"
     ]
    },
    {
     "name": "stdout",
     "output_type": "stream",
     "text": [
      "    => Result: L1 distance = 0.5963\n",
      "    ✨ New best L1 for criterion 'tb': 0.5963 ✨\n",
      "\n",
      "--- Combination 19/36 ---\n",
      "Parameters: {'lr': 0.001, 'BATCH_SIZE': 64, 'criterion': 'subtb', 'epsilon': 0.5, 'min_eps': 0.01, 'clamp_g': 1.0}\n"
     ]
    },
    {
     "name": "stderr",
     "output_type": "stream",
     "text": [
      "100%|██████████| 100/100 [00:05<00:00, 16.93it/s, loss=41.6]\n"
     ]
    },
    {
     "name": "stdout",
     "output_type": "stream",
     "text": [
      "    => Result: L1 distance = 0.9710\n",
      "\n",
      "--- Combination 20/36 ---\n",
      "Parameters: {'lr': 0.001, 'BATCH_SIZE': 64, 'criterion': 'cb', 'epsilon': 0.5, 'min_eps': 0.01, 'clamp_g': 1.0}\n"
     ]
    },
    {
     "name": "stderr",
     "output_type": "stream",
     "text": [
      "100%|██████████| 100/100 [00:05<00:00, 18.65it/s, loss=6.07]\n"
     ]
    },
    {
     "name": "stdout",
     "output_type": "stream",
     "text": [
      "    => Result: L1 distance = 0.6598\n",
      "    ✨ New best L1 for criterion 'cb': 0.6598 ✨\n",
      "\n",
      "--- Combination 21/36 ---\n",
      "Parameters: {'lr': 0.001, 'BATCH_SIZE': 256, 'criterion': 'db', 'epsilon': 0.5, 'min_eps': 0.01, 'clamp_g': 1.0}\n"
     ]
    },
    {
     "name": "stderr",
     "output_type": "stream",
     "text": [
      "100%|██████████| 100/100 [00:11<00:00,  8.81it/s, loss=8.16]\n"
     ]
    },
    {
     "name": "stdout",
     "output_type": "stream",
     "text": [
      "    => Result: L1 distance = 0.7104\n",
      "\n",
      "--- Combination 22/36 ---\n",
      "Parameters: {'lr': 0.001, 'BATCH_SIZE': 256, 'criterion': 'tb', 'epsilon': 0.5, 'min_eps': 0.01, 'clamp_g': 1.0}\n"
     ]
    },
    {
     "name": "stderr",
     "output_type": "stream",
     "text": [
      "100%|██████████| 100/100 [00:10<00:00,  9.64it/s, loss=2.51]\n"
     ]
    },
    {
     "name": "stdout",
     "output_type": "stream",
     "text": [
      "    => Result: L1 distance = 0.5364\n",
      "    ✨ New best L1 for criterion 'tb': 0.5364 ✨\n",
      "\n",
      "--- Combination 23/36 ---\n",
      "Parameters: {'lr': 0.001, 'BATCH_SIZE': 256, 'criterion': 'subtb', 'epsilon': 0.5, 'min_eps': 0.01, 'clamp_g': 1.0}\n"
     ]
    },
    {
     "name": "stderr",
     "output_type": "stream",
     "text": [
      "100%|██████████| 100/100 [00:14<00:00,  7.06it/s, loss=48.5]\n"
     ]
    },
    {
     "name": "stdout",
     "output_type": "stream",
     "text": [
      "    => Result: L1 distance = 0.8562\n",
      "\n",
      "--- Combination 24/36 ---\n",
      "Parameters: {'lr': 0.001, 'BATCH_SIZE': 256, 'criterion': 'cb', 'epsilon': 0.5, 'min_eps': 0.01, 'clamp_g': 1.0}\n"
     ]
    },
    {
     "name": "stderr",
     "output_type": "stream",
     "text": [
      "100%|██████████| 100/100 [00:14<00:00,  6.97it/s, loss=6.98]\n"
     ]
    },
    {
     "name": "stdout",
     "output_type": "stream",
     "text": [
      "    => Result: L1 distance = 0.5611\n",
      "    ✨ New best L1 for criterion 'cb': 0.5611 ✨\n",
      "\n",
      "--- Combination 25/36 ---\n",
      "Parameters: {'lr': 0.01, 'BATCH_SIZE': 16, 'criterion': 'db', 'epsilon': 0.5, 'min_eps': 0.01, 'clamp_g': 1.0}\n"
     ]
    },
    {
     "name": "stderr",
     "output_type": "stream",
     "text": [
      "100%|██████████| 100/100 [00:04<00:00, 22.11it/s, loss=0.949]\n"
     ]
    },
    {
     "name": "stdout",
     "output_type": "stream",
     "text": [
      "    => Result: L1 distance = 0.7305\n",
      "\n",
      "--- Combination 26/36 ---\n",
      "Parameters: {'lr': 0.01, 'BATCH_SIZE': 16, 'criterion': 'tb', 'epsilon': 0.5, 'min_eps': 0.01, 'clamp_g': 1.0}\n"
     ]
    },
    {
     "name": "stderr",
     "output_type": "stream",
     "text": [
      "100%|██████████| 100/100 [00:04<00:00, 21.77it/s, loss=0.838]\n"
     ]
    },
    {
     "name": "stdout",
     "output_type": "stream",
     "text": [
      "    => Result: L1 distance = 0.5095\n",
      "    ✨ New best L1 for criterion 'tb': 0.5095 ✨\n",
      "\n",
      "--- Combination 27/36 ---\n",
      "Parameters: {'lr': 0.01, 'BATCH_SIZE': 16, 'criterion': 'subtb', 'epsilon': 0.5, 'min_eps': 0.01, 'clamp_g': 1.0}\n"
     ]
    },
    {
     "name": "stderr",
     "output_type": "stream",
     "text": [
      "100%|██████████| 100/100 [00:01<00:00, 52.39it/s, loss=4.48]\n"
     ]
    },
    {
     "name": "stdout",
     "output_type": "stream",
     "text": [
      "    => Result: L1 distance = 0.7717\n",
      "    ✨ New best L1 for criterion 'subtb': 0.7717 ✨\n",
      "\n",
      "--- Combination 28/36 ---\n",
      "Parameters: {'lr': 0.01, 'BATCH_SIZE': 16, 'criterion': 'cb', 'epsilon': 0.5, 'min_eps': 0.01, 'clamp_g': 1.0}\n"
     ]
    },
    {
     "name": "stderr",
     "output_type": "stream",
     "text": [
      "100%|██████████| 100/100 [00:01<00:00, 55.32it/s, loss=0.859]\n"
     ]
    },
    {
     "name": "stdout",
     "output_type": "stream",
     "text": [
      "    => Result: L1 distance = 0.5411\n",
      "    ✨ New best L1 for criterion 'cb': 0.5411 ✨\n",
      "\n",
      "--- Combination 29/36 ---\n",
      "Parameters: {'lr': 0.01, 'BATCH_SIZE': 64, 'criterion': 'db', 'epsilon': 0.5, 'min_eps': 0.01, 'clamp_g': 1.0}\n"
     ]
    },
    {
     "name": "stderr",
     "output_type": "stream",
     "text": [
      "100%|██████████| 100/100 [00:03<00:00, 28.38it/s, loss=0.618]\n"
     ]
    },
    {
     "name": "stdout",
     "output_type": "stream",
     "text": [
      "    => Result: L1 distance = 0.6795\n",
      "\n",
      "--- Combination 30/36 ---\n",
      "Parameters: {'lr': 0.01, 'BATCH_SIZE': 64, 'criterion': 'tb', 'epsilon': 0.5, 'min_eps': 0.01, 'clamp_g': 1.0}\n"
     ]
    },
    {
     "name": "stderr",
     "output_type": "stream",
     "text": [
      "100%|██████████| 100/100 [00:04<00:00, 23.55it/s, loss=1.71]\n"
     ]
    },
    {
     "name": "stdout",
     "output_type": "stream",
     "text": [
      "    => Result: L1 distance = 0.5112\n",
      "\n",
      "--- Combination 31/36 ---\n",
      "Parameters: {'lr': 0.01, 'BATCH_SIZE': 64, 'criterion': 'subtb', 'epsilon': 0.5, 'min_eps': 0.01, 'clamp_g': 1.0}\n"
     ]
    },
    {
     "name": "stderr",
     "output_type": "stream",
     "text": [
      "100%|██████████| 100/100 [00:03<00:00, 26.53it/s, loss=0.757]\n"
     ]
    },
    {
     "name": "stdout",
     "output_type": "stream",
     "text": [
      "    => Result: L1 distance = 0.5212\n",
      "    ✨ New best L1 for criterion 'subtb': 0.5212 ✨\n",
      "\n",
      "--- Combination 32/36 ---\n",
      "Parameters: {'lr': 0.01, 'BATCH_SIZE': 64, 'criterion': 'cb', 'epsilon': 0.5, 'min_eps': 0.01, 'clamp_g': 1.0}\n"
     ]
    },
    {
     "name": "stderr",
     "output_type": "stream",
     "text": [
      "100%|██████████| 100/100 [00:04<00:00, 21.99it/s, loss=2.92]\n"
     ]
    },
    {
     "name": "stdout",
     "output_type": "stream",
     "text": [
      "    => Result: L1 distance = 0.5116\n",
      "    ✨ New best L1 for criterion 'cb': 0.5116 ✨\n",
      "\n",
      "--- Combination 33/36 ---\n",
      "Parameters: {'lr': 0.01, 'BATCH_SIZE': 256, 'criterion': 'db', 'epsilon': 0.5, 'min_eps': 0.01, 'clamp_g': 1.0}\n"
     ]
    },
    {
     "name": "stderr",
     "output_type": "stream",
     "text": [
      "100%|██████████| 100/100 [00:08<00:00, 12.13it/s, loss=0.539]\n"
     ]
    },
    {
     "name": "stdout",
     "output_type": "stream",
     "text": [
      "    => Result: L1 distance = 0.7544\n",
      "\n",
      "--- Combination 34/36 ---\n",
      "Parameters: {'lr': 0.01, 'BATCH_SIZE': 256, 'criterion': 'tb', 'epsilon': 0.5, 'min_eps': 0.01, 'clamp_g': 1.0}\n"
     ]
    },
    {
     "name": "stderr",
     "output_type": "stream",
     "text": [
      "100%|██████████| 100/100 [00:12<00:00,  8.24it/s, loss=1.09]\n"
     ]
    },
    {
     "name": "stdout",
     "output_type": "stream",
     "text": [
      "    => Result: L1 distance = 0.5131\n",
      "\n",
      "--- Combination 35/36 ---\n",
      "Parameters: {'lr': 0.01, 'BATCH_SIZE': 256, 'criterion': 'subtb', 'epsilon': 0.5, 'min_eps': 0.01, 'clamp_g': 1.0}\n"
     ]
    },
    {
     "name": "stderr",
     "output_type": "stream",
     "text": [
      "100%|██████████| 100/100 [00:12<00:00,  8.00it/s, loss=1.08]\n"
     ]
    },
    {
     "name": "stdout",
     "output_type": "stream",
     "text": [
      "    => Result: L1 distance = 0.5435\n",
      "\n",
      "--- Combination 36/36 ---\n",
      "Parameters: {'lr': 0.01, 'BATCH_SIZE': 256, 'criterion': 'cb', 'epsilon': 0.5, 'min_eps': 0.01, 'clamp_g': 1.0}\n"
     ]
    },
    {
     "name": "stderr",
     "output_type": "stream",
     "text": [
      "100%|██████████| 100/100 [00:13<00:00,  7.16it/s, loss=1.99]\n"
     ]
    },
    {
     "name": "stdout",
     "output_type": "stream",
     "text": [
      "    => Result: L1 distance = 0.4756\n",
      "    ✨ New best L1 for criterion 'cb': 0.4756 ✨\n",
      "\n",
      "--- Grid Search Complete ---\n",
      "Best results per criterion:\n",
      "Criterion Best L1 Distance  Learning Rate  Batch Size  Clamp Value\n",
      "       db           0.6132          0.001          16          1.0\n",
      "       tb           0.5095          0.010          16          1.0\n",
      "    subtb           0.5212          0.010          64          1.0\n",
      "       cb           0.4756          0.010         256          1.0\n"
     ]
    }
   ],
   "source": [
    "# --- 1. Define the Hyperparameter Grid ---\n",
    "param_grid = {\n",
    "    'lr': [1e-4, 1e-3, 1e-2],\n",
    "    'BATCH_SIZE': [16, 64, 256],\n",
    "    'criterion': ['db', 'tb', 'subtb', 'cb'],\n",
    "    'epsilon': [0.5],  # Initial epsilon for the forward policy\n",
    "    'min_eps': [1e-2],   # Minimum epsilon for the scheduler\n",
    "    'clamp_g': [1.0] # Clamping value for the gradient\n",
    "}\n",
    "\n",
    "# --- 2. Prepare for Iteration ---\n",
    "# Generate a list of all hyperparameter combinations.\n",
    "keys, values = zip(*param_grid.items())\n",
    "param_combinations = [dict(zip(keys, v)) for v in itertools.product(*values)]\n",
    "\n",
    "# Initialize a dictionary to store the best result for each criterion\n",
    "best_results_per_criterion = {\n",
    "    crit: {'best_l1': float('inf'), 'best_params': None}\n",
    "    for crit in param_grid['criterion']\n",
    "}\n",
    "\n",
    "# --- 3. Run the Grid Search ---\n",
    "print(f\"Starting grid search with {len(param_combinations)} combinations...\")\n",
    "\n",
    "for i, params in enumerate(param_combinations):\n",
    "    print(f\"\\n--- Combination {i+1}/{len(param_combinations)} ---\")\n",
    "    print(f\"Parameters: {params}\")\n",
    "\n",
    "    # Your fixed parameters\n",
    "    epochs = 100\n",
    "    MAX_LEN = 4\n",
    "\n",
    "    # Unpack current combination of parameters\n",
    "    lr = params['lr']\n",
    "    BATCH_SIZE = params['BATCH_SIZE']\n",
    "    criterion = params['criterion']\n",
    "    initial_epsilon = params['epsilon']\n",
    "    min_eps = params['min_eps']\n",
    "    clamp_g = params['clamp_g']\n",
    "\n",
    "    # --- Model Initialization ---\n",
    "    # log_reward_fn = partial(utils.log_likelihood_reward, X, Y)\n",
    "    env = create_env()\n",
    "\n",
    "    forward_model = ForwardPolicy(\n",
    "        input_dim=MAX_LEN,\n",
    "        output_dim=env.action_space_size,\n",
    "        epsilon=initial_epsilon\n",
    "    )\n",
    "    backward_model = BackwardPolicy()\n",
    "\n",
    "    gflownet = GFlowNet(\n",
    "        forward_flow=forward_model,\n",
    "        backward_flow=backward_model,\n",
    "        criterion=criterion\n",
    "    )\n",
    "    \n",
    "    # Add attributes to model for mock calculation\n",
    "    gflownet.lr = lr\n",
    "    \n",
    "    # --- Training ---\n",
    "    trained_gflownet, losses = train(\n",
    "        gflownet=gflownet,\n",
    "        create_env=create_env,\n",
    "        epochs=epochs,\n",
    "        batch_size=BATCH_SIZE,\n",
    "        lr=lr,\n",
    "        min_eps=min_eps,\n",
    "        clamp_g=clamp_g,\n",
    "        use_scheduler=True\n",
    "    )\n",
    "\n",
    "    # --- Evaluation and Logging ---\n",
    "    l1 = calculate_l1_distance(gflownet.forward_flow , KernelEnvironment , MAX_LEN, X, Y)\n",
    "    print(f\"    => Result: L1 distance = {l1:.4f}\")\n",
    "\n",
    "    # Check if this is the new best result *for this specific criterion*\n",
    "    if l1 < best_results_per_criterion[criterion]['best_l1']:\n",
    "        print(f\"    ✨ New best L1 for criterion '{criterion}': {l1:.4f} ✨\")\n",
    "        best_results_per_criterion[criterion]['best_l1'] = l1\n",
    "        best_results_per_criterion[criterion]['best_params'] = params\n",
    "        best_results_per_criterion[criterion]['model'] = deepcopy(trained_gflownet)\n",
    "\n",
    "\n",
    "# --- 4. Final Results Table ---\n",
    "print(\"\\n--- Grid Search Complete ---\")\n",
    "print(\"Best results per criterion:\")\n",
    "\n",
    "# Prepare data for the pandas DataFrame\n",
    "table_data = []\n",
    "for criterion, results in best_results_per_criterion.items():\n",
    "    if results['best_params']:  # Check if any result was found\n",
    "        row = {\n",
    "            'Criterion': criterion,\n",
    "            'Best L1 Distance': f\"{results['best_l1']:.4f}\",\n",
    "            'Learning Rate': results['best_params']['lr'],\n",
    "            'Batch Size': results['best_params']['BATCH_SIZE'],\n",
    "            'Clamp Value': results['best_params']['clamp_g']\n",
    "        }\n",
    "        table_data.append(row)\n",
    "\n",
    "if table_data:\n",
    "    # Create and display the DataFrame\n",
    "    df = pd.DataFrame(table_data)\n",
    "    print(df.to_string(index=False))\n",
    "else:\n",
    "    print(\"No results were recorded.\")"
   ]
  },
  {
   "cell_type": "code",
   "execution_count": 7,
   "id": "3bb3ebf1",
   "metadata": {},
   "outputs": [
    {
     "name": "stdout",
     "output_type": "stream",
     "text": [
      "Criterion Best L1 Distance  Learning Rate  Batch Size  Clamp Value\n",
      "       db           0.6132          0.001          16          1.0\n",
      "       tb           0.5095          0.010          16          1.0\n",
      "    subtb           0.5212          0.010          64          1.0\n",
      "       cb           0.4756          0.010         256          1.0\n"
     ]
    }
   ],
   "source": [
    "if table_data:\n",
    "    # Create and display the DataFrame\n",
    "    df = pd.DataFrame(table_data)\n",
    "    print(df.to_string(index=False))\n",
    "else:\n",
    "    print(\"No results were recorded.\")"
   ]
  },
  {
   "cell_type": "code",
   "execution_count": 11,
   "id": "5ec5f86c",
   "metadata": {},
   "outputs": [
    {
     "name": "stdout",
     "output_type": "stream",
     "text": [
      "\n",
      "==================================================\n",
      "--- Robust Evaluation from Best Hyperparameters ---\n",
      "==================================================\n",
      "\n",
      "Starting robust evaluation for criterion 'db' with params: {'lr': 0.001, 'BATCH_SIZE': 16, 'criterion': 'db', 'epsilon': 0.5, 'min_eps': 0.01, 'clamp_g': 1.0}\n",
      "  -> Run 1/3...\n"
     ]
    },
    {
     "name": "stderr",
     "output_type": "stream",
     "text": [
      "100%|██████████| 100/100 [00:02<00:00, 40.79it/s, loss=8.03]\n"
     ]
    },
    {
     "name": "stdout",
     "output_type": "stream",
     "text": [
      "  -> Run 2/3...\n"
     ]
    },
    {
     "name": "stderr",
     "output_type": "stream",
     "text": [
      "100%|██████████| 100/100 [00:03<00:00, 30.96it/s, loss=6.99]\n"
     ]
    },
    {
     "name": "stdout",
     "output_type": "stream",
     "text": [
      "  -> Run 3/3...\n"
     ]
    },
    {
     "name": "stderr",
     "output_type": "stream",
     "text": [
      "100%|██████████| 100/100 [00:01<00:00, 52.00it/s, loss=6.21]\n"
     ]
    },
    {
     "name": "stdout",
     "output_type": "stream",
     "text": [
      "  => Final Stats for 'db':\n",
      "     - Mean of Mean Likelihoods: -3.3880 (Std: 0.3925)\n",
      "     - Mean of Max Likelihoods:  22.3995 (Std: 0.0000)\n",
      "\n",
      "Starting robust evaluation for criterion 'tb' with params: {'lr': 0.01, 'BATCH_SIZE': 16, 'criterion': 'tb', 'epsilon': 0.5, 'min_eps': 0.01, 'clamp_g': 1.0}\n",
      "  -> Run 1/3...\n"
     ]
    },
    {
     "name": "stderr",
     "output_type": "stream",
     "text": [
      "100%|██████████| 100/100 [00:01<00:00, 50.58it/s, loss=4.28]\n"
     ]
    },
    {
     "name": "stdout",
     "output_type": "stream",
     "text": [
      "  -> Run 2/3...\n"
     ]
    },
    {
     "name": "stderr",
     "output_type": "stream",
     "text": [
      "100%|██████████| 100/100 [00:02<00:00, 35.38it/s, loss=0.833]\n"
     ]
    },
    {
     "name": "stdout",
     "output_type": "stream",
     "text": [
      "  -> Run 3/3...\n"
     ]
    },
    {
     "name": "stderr",
     "output_type": "stream",
     "text": [
      "100%|██████████| 100/100 [00:01<00:00, 66.42it/s, loss=0.518]\n"
     ]
    },
    {
     "name": "stdout",
     "output_type": "stream",
     "text": [
      "  => Final Stats for 'tb':\n",
      "     - Mean of Mean Likelihoods: 13.7562 (Std: 3.5199)\n",
      "     - Mean of Max Likelihoods:  22.3726 (Std: 0.0190)\n",
      "\n",
      "Starting robust evaluation for criterion 'subtb' with params: {'lr': 0.01, 'BATCH_SIZE': 64, 'criterion': 'subtb', 'epsilon': 0.5, 'min_eps': 0.01, 'clamp_g': 1.0}\n",
      "  -> Run 1/3...\n"
     ]
    },
    {
     "name": "stderr",
     "output_type": "stream",
     "text": [
      "100%|██████████| 100/100 [00:04<00:00, 23.44it/s, loss=8.19]\n"
     ]
    },
    {
     "name": "stdout",
     "output_type": "stream",
     "text": [
      "  -> Run 2/3...\n"
     ]
    },
    {
     "name": "stderr",
     "output_type": "stream",
     "text": [
      "100%|██████████| 100/100 [00:03<00:00, 27.82it/s, loss=12] \n"
     ]
    },
    {
     "name": "stdout",
     "output_type": "stream",
     "text": [
      "  -> Run 3/3...\n"
     ]
    },
    {
     "name": "stderr",
     "output_type": "stream",
     "text": [
      "100%|██████████| 100/100 [00:04<00:00, 20.73it/s, loss=1.13]\n"
     ]
    },
    {
     "name": "stdout",
     "output_type": "stream",
     "text": [
      "  => Final Stats for 'subtb':\n",
      "     - Mean of Mean Likelihoods: 6.2352 (Std: 2.5363)\n",
      "     - Mean of Max Likelihoods:  22.3857 (Std: 0.0196)\n",
      "\n",
      "Starting robust evaluation for criterion 'cb' with params: {'lr': 0.01, 'BATCH_SIZE': 256, 'criterion': 'cb', 'epsilon': 0.5, 'min_eps': 0.01, 'clamp_g': 1.0}\n",
      "  -> Run 1/3...\n"
     ]
    },
    {
     "name": "stderr",
     "output_type": "stream",
     "text": [
      "100%|██████████| 100/100 [00:19<00:00,  5.04it/s, loss=1.9]\n"
     ]
    },
    {
     "name": "stdout",
     "output_type": "stream",
     "text": [
      "  -> Run 2/3...\n"
     ]
    },
    {
     "name": "stderr",
     "output_type": "stream",
     "text": [
      "100%|██████████| 100/100 [00:15<00:00,  6.37it/s, loss=2.14]\n"
     ]
    },
    {
     "name": "stdout",
     "output_type": "stream",
     "text": [
      "  -> Run 3/3...\n"
     ]
    },
    {
     "name": "stderr",
     "output_type": "stream",
     "text": [
      "100%|██████████| 100/100 [00:10<00:00,  9.79it/s, loss=2.7]"
     ]
    },
    {
     "name": "stdout",
     "output_type": "stream",
     "text": [
      "  => Final Stats for 'cb':\n",
      "     - Mean of Mean Likelihoods: 13.4221 (Std: 1.3614)\n",
      "     - Mean of Max Likelihoods:  22.3857 (Std: 0.0196)\n",
      "\n",
      "\n",
      "==================================================\n",
      "--- Final Likelihood Statistics Summary ---\n",
      "==================================================\n",
      "Criterion Mean of Means (LL) Std of Means (LL) Mean of Maxs (LL) Std of Maxs (LL)\n",
      "       db            -3.3880            0.3925           22.3995           0.0000\n",
      "       tb            13.7562            3.5199           22.3726           0.0190\n",
      "    subtb             6.2352            2.5363           22.3857           0.0196\n",
      "       cb            13.4221            1.3614           22.3857           0.0196\n"
     ]
    },
    {
     "name": "stderr",
     "output_type": "stream",
     "text": [
      "\n"
     ]
    }
   ],
   "source": [
    "\n",
    "# --- 5. Robust Evaluation: Re-train and Evaluate Multiple Times ---\n",
    "print(\"\\n\" + \"=\"*50)\n",
    "print(\"--- Robust Evaluation from Best Hyperparameters ---\")\n",
    "print(\"=\"*50 + \"\\n\")\n",
    "\n",
    "N_ROBUSTNESS_RUNS = 3\n",
    "final_stats_results = []\n",
    "\n",
    "for criterion, results in best_results_per_criterion.items():\n",
    "    best_params = results.get('best_params')\n",
    "    if not best_params:\n",
    "        print(f\"Skipping robust evaluation for '{criterion}' as no best parameters were found.\\n\")\n",
    "        continue\n",
    "\n",
    "    print(f\"Starting robust evaluation for criterion '{criterion}' with params: {best_params}\")\n",
    "    \n",
    "    # Lists to store metrics from each of the N runs\n",
    "    run_mean_likelihoods = []\n",
    "    run_max_likelihoods = []\n",
    "\n",
    "    for run in range(N_ROBUSTNESS_RUNS):\n",
    "        print(f\"  -> Run {run + 1}/{N_ROBUSTNESS_RUNS}...\")\n",
    "        \n",
    "        # Unpack the best parameters for this criterion\n",
    "        lr = best_params['lr']\n",
    "        BATCH_SIZE = best_params['BATCH_SIZE']\n",
    "        \n",
    "        # Initialize and train a new model from scratch\n",
    "        env = create_env()\n",
    "        forward_model = ForwardPolicy(input_dim=MAX_LEN, output_dim=env.action_space_size, epsilon=best_params['epsilon'])\n",
    "        backward_model = BackwardPolicy()\n",
    "        gflownet = GFlowNet(forward_flow=forward_model, backward_flow=backward_model, criterion=criterion)\n",
    "        \n",
    "        trained_gflownet, _ = train(gflownet=gflownet, create_env=create_env, epochs=100, batch_size=BATCH_SIZE, lr=lr, min_eps=best_params['min_eps'], clamp_g=best_params['clamp_g'], use_scheduler=True)\n",
    "        \n",
    "        # Sample and evaluate likelihood\n",
    "        eval_env = KernelEnvironment(batch_size=100, max_trajectory_length=MAX_LEN, log_reward=log_reward_fn)\n",
    "        trained_gflownet.eval()\n",
    "        final_batch = trained_gflownet.sample(eval_env)\n",
    "        \n",
    "        likelihoods = [utils.evaluate_likelihood(k, X_test, Y_test) for k in final_batch.state]\n",
    "        \n",
    "        run_mean_likelihoods.append(np.mean(likelihoods))\n",
    "        run_max_likelihoods.append(np.max(likelihoods))\n",
    "\n",
    "    # Calculate statistics over the N runs\n",
    "    mean_of_means = np.mean(run_mean_likelihoods)\n",
    "    std_of_means = np.std(run_mean_likelihoods)\n",
    "    mean_of_maxs = np.mean(run_max_likelihoods)\n",
    "    std_of_maxs = np.std(run_max_likelihoods)\n",
    "    \n",
    "    print(f\"  => Final Stats for '{criterion}':\")\n",
    "    print(f\"     - Mean of Mean Likelihoods: {mean_of_means:.4f} (Std: {std_of_means:.4f})\")\n",
    "    print(f\"     - Mean of Max Likelihoods:  {mean_of_maxs:.4f} (Std: {std_of_maxs:.4f})\\n\")\n",
    "\n",
    "    final_stats_results.append({\n",
    "        'Criterion': criterion,\n",
    "        'Mean of Means (LL)': f\"{mean_of_means:.4f}\",\n",
    "        'Std of Means (LL)': f\"{std_of_means:.4f}\",\n",
    "        'Mean of Maxs (LL)': f\"{mean_of_maxs:.4f}\",\n",
    "        'Std of Maxs (LL)': f\"{std_of_maxs:.4f}\"\n",
    "    })\n",
    "\n",
    "# --- 6. Final Statistics Summary Table ---\n",
    "if final_stats_results:\n",
    "    print(\"\\n\" + \"=\"*50)\n",
    "    print(\"--- Final Likelihood Statistics Summary ---\")\n",
    "    print(\"=\"*50)\n",
    "    df_stats = pd.DataFrame(final_stats_results)\n",
    "    print(df_stats.to_string(index=False))\n"
   ]
  },
  {
   "cell_type": "code",
   "execution_count": 15,
   "id": "dc48e77a",
   "metadata": {},
   "outputs": [
    {
     "name": "stdout",
     "output_type": "stream",
     "text": [
      "\n",
      "==================================================\n",
      "--- Robust Evaluation from Best Hyperparameters ---\n",
      "==================================================\n",
      "\n",
      "Starting robust evaluation for criterion 'db' with params: {'lr': 0.001, 'BATCH_SIZE': 16, 'criterion': 'db', 'epsilon': 0.5, 'min_eps': 0.01, 'clamp_g': 1.0}\n",
      "  -> Run 1/3...\n"
     ]
    },
    {
     "name": "stderr",
     "output_type": "stream",
     "text": [
      "  0%|          | 0/100 [00:00<?, ?it/s, loss=8.06]"
     ]
    },
    {
     "name": "stderr",
     "output_type": "stream",
     "text": [
      "100%|██████████| 100/100 [00:02<00:00, 40.56it/s, loss=7.66]\n"
     ]
    },
    {
     "name": "stdout",
     "output_type": "stream",
     "text": [
      "  -> Run 2/3...\n"
     ]
    },
    {
     "name": "stderr",
     "output_type": "stream",
     "text": [
      "100%|██████████| 100/100 [00:02<00:00, 44.11it/s, loss=5.51]\n"
     ]
    },
    {
     "name": "stdout",
     "output_type": "stream",
     "text": [
      "  -> Run 3/3...\n"
     ]
    },
    {
     "name": "stderr",
     "output_type": "stream",
     "text": [
      "100%|██████████| 100/100 [00:03<00:00, 25.74it/s, loss=8.74]\n"
     ]
    },
    {
     "name": "stdout",
     "output_type": "stream",
     "text": [
      "  => Final Stats for 'db':\n",
      "     - Mean L1 Distance:         0.8615 (Std: 0.0563)\n",
      "     - Mean of Mean Likelihoods: -8.4253 (Std: 0.7168)\n",
      "     - Mean of Max Likelihoods:  22.3995 (Std: 0.0000)\n",
      "\n",
      "Starting robust evaluation for criterion 'tb' with params: {'lr': 0.01, 'BATCH_SIZE': 16, 'criterion': 'tb', 'epsilon': 0.5, 'min_eps': 0.01, 'clamp_g': 1.0}\n",
      "  -> Run 1/3...\n"
     ]
    },
    {
     "name": "stderr",
     "output_type": "stream",
     "text": [
      "100%|██████████| 100/100 [00:02<00:00, 45.04it/s, loss=4.92]\n"
     ]
    },
    {
     "name": "stdout",
     "output_type": "stream",
     "text": [
      "  -> Run 2/3...\n"
     ]
    },
    {
     "name": "stderr",
     "output_type": "stream",
     "text": [
      "100%|██████████| 100/100 [00:01<00:00, 52.96it/s, loss=0.775]\n"
     ]
    },
    {
     "name": "stdout",
     "output_type": "stream",
     "text": [
      "  -> Run 3/3...\n"
     ]
    },
    {
     "name": "stderr",
     "output_type": "stream",
     "text": [
      "100%|██████████| 100/100 [00:02<00:00, 34.02it/s, loss=0.51]\n"
     ]
    },
    {
     "name": "stdout",
     "output_type": "stream",
     "text": [
      "  => Final Stats for 'tb':\n",
      "     - Mean L1 Distance:         0.5121 (Std: 0.0093)\n",
      "     - Mean of Mean Likelihoods: 11.0030 (Std: 0.9731)\n",
      "     - Mean of Max Likelihoods:  22.3995 (Std: 0.0000)\n",
      "\n",
      "Starting robust evaluation for criterion 'subtb' with params: {'lr': 0.01, 'BATCH_SIZE': 64, 'criterion': 'subtb', 'epsilon': 0.5, 'min_eps': 0.01, 'clamp_g': 1.0}\n",
      "  -> Run 1/3...\n"
     ]
    },
    {
     "name": "stderr",
     "output_type": "stream",
     "text": [
      "100%|██████████| 100/100 [00:04<00:00, 22.23it/s, loss=6.12]\n"
     ]
    },
    {
     "name": "stdout",
     "output_type": "stream",
     "text": [
      "  -> Run 2/3...\n"
     ]
    },
    {
     "name": "stderr",
     "output_type": "stream",
     "text": [
      "100%|██████████| 100/100 [00:06<00:00, 15.87it/s, loss=0.704]\n"
     ]
    },
    {
     "name": "stdout",
     "output_type": "stream",
     "text": [
      "  -> Run 3/3...\n"
     ]
    },
    {
     "name": "stderr",
     "output_type": "stream",
     "text": [
      "100%|██████████| 100/100 [00:06<00:00, 16.62it/s, loss=8.16]\n"
     ]
    },
    {
     "name": "stdout",
     "output_type": "stream",
     "text": [
      "  => Final Stats for 'subtb':\n",
      "     - Mean L1 Distance:         0.5749 (Std: 0.0371)\n",
      "     - Mean of Mean Likelihoods: 7.8658 (Std: 1.7695)\n",
      "     - Mean of Max Likelihoods:  22.3995 (Std: 0.0000)\n",
      "\n",
      "Starting robust evaluation for criterion 'cb' with params: {'lr': 0.01, 'BATCH_SIZE': 256, 'criterion': 'cb', 'epsilon': 0.5, 'min_eps': 0.01, 'clamp_g': 1.0}\n",
      "  -> Run 1/3...\n"
     ]
    },
    {
     "name": "stderr",
     "output_type": "stream",
     "text": [
      "100%|██████████| 100/100 [00:12<00:00,  7.92it/s, loss=2.5]\n"
     ]
    },
    {
     "name": "stdout",
     "output_type": "stream",
     "text": [
      "  -> Run 2/3...\n"
     ]
    },
    {
     "name": "stderr",
     "output_type": "stream",
     "text": [
      "100%|██████████| 100/100 [00:10<00:00,  9.50it/s, loss=1.72]\n"
     ]
    },
    {
     "name": "stdout",
     "output_type": "stream",
     "text": [
      "  -> Run 3/3...\n"
     ]
    },
    {
     "name": "stderr",
     "output_type": "stream",
     "text": [
      "100%|██████████| 100/100 [00:10<00:00,  9.41it/s, loss=1.66]\n"
     ]
    },
    {
     "name": "stdout",
     "output_type": "stream",
     "text": [
      "  => Final Stats for 'cb':\n",
      "     - Mean L1 Distance:         0.5008 (Std: 0.0022)\n",
      "     - Mean of Mean Likelihoods: 14.3573 (Std: 1.2281)\n",
      "     - Mean of Max Likelihoods:  22.3995 (Std: 0.0000)\n",
      "\n",
      "\n",
      "==================================================\n",
      "--- Final Likelihood & L1 Statistics Summary ---\n",
      "==================================================\n",
      "Criterion Mean L1 Std L1 Mean of Means (LL) Std of Means (LL) Mean of Maxs (LL) Std of Maxs (LL)\n",
      "       db  0.8615 0.0563            -8.4253            0.7168           22.3995           0.0000\n",
      "       tb  0.5121 0.0093            11.0030            0.9731           22.3995           0.0000\n",
      "    subtb  0.5749 0.0371             7.8658            1.7695           22.3995           0.0000\n",
      "       cb  0.5008 0.0022            14.3573            1.2281           22.3995           0.0000\n"
     ]
    }
   ],
   "source": [
    "# --- 5. Robust Evaluation: Re-train and Evaluate Multiple Times ---\n",
    "print(\"\\n\" + \"=\"*50)\n",
    "print(\"--- Robust Evaluation from Best Hyperparameters ---\")\n",
    "print(\"=\"*50 + \"\\n\")\n",
    "\n",
    "N_ROBUSTNESS_RUNS = 3\n",
    "final_stats_results = []\n",
    "\n",
    "for criterion, results in best_results_per_criterion.items():\n",
    "    best_params = results.get('best_params')\n",
    "    if not best_params:\n",
    "        print(f\"Skipping robust evaluation for '{criterion}' as no best parameters were found.\\n\")\n",
    "        continue\n",
    "\n",
    "    print(f\"Starting robust evaluation for criterion '{criterion}' with params: {best_params}\")\n",
    "    \n",
    "    # Lists to store metrics from each of the N runs\n",
    "    run_mean_likelihoods = []\n",
    "    run_max_likelihoods = []\n",
    "    run_l1_distances = []\n",
    "\n",
    "    for run in range(N_ROBUSTNESS_RUNS):\n",
    "        print(f\"  -> Run {run + 1}/{N_ROBUSTNESS_RUNS}...\")\n",
    "        \n",
    "        # Unpack the best parameters for this criterion\n",
    "        lr = best_params['lr']\n",
    "        BATCH_SIZE = best_params['BATCH_SIZE']\n",
    "        \n",
    "        # Initialize and train a new model from scratch\n",
    "        env = create_env()\n",
    "        forward_model = ForwardPolicy(input_dim=MAX_LEN, output_dim=env.action_space_size, epsilon=best_params['epsilon'])\n",
    "        backward_model = BackwardPolicy()\n",
    "        gflownet = GFlowNet(forward_flow=forward_model, backward_flow=backward_model, criterion=criterion)\n",
    "        gflownet.lr = lr # For mock calculation\n",
    "        \n",
    "        trained_gflownet, _ = train(gflownet=gflownet, create_env=create_env, epochs=100, batch_size=BATCH_SIZE, lr=lr, min_eps=best_params['min_eps'], clamp_g=best_params['clamp_g'], use_scheduler=True)\n",
    "        \n",
    "        # Calculate L1 distance for this run\n",
    "        l1 = calculate_l1_distance(trained_gflownet.forward_flow, KernelEnvironment, MAX_LEN, X, Y)\n",
    "        run_l1_distances.append(l1)\n",
    "\n",
    "        # Sample and evaluate likelihood\n",
    "        eval_env = KernelEnvironment(batch_size=100, max_trajectory_length=MAX_LEN, log_reward=log_reward_fn)\n",
    "        trained_gflownet.eval()\n",
    "        final_batch = trained_gflownet.sample(eval_env)\n",
    "        \n",
    "        likelihoods = [utils.evaluate_likelihood(k, X_test, Y_test) for k in final_batch.state]\n",
    "        \n",
    "        run_mean_likelihoods.append(np.mean(likelihoods))\n",
    "        run_max_likelihoods.append(np.max(likelihoods))\n",
    "\n",
    "    # Calculate statistics over the N runs\n",
    "    mean_of_l1s = np.mean(run_l1_distances)\n",
    "    std_of_l1s = np.std(run_l1_distances)\n",
    "    mean_of_means = np.mean(run_mean_likelihoods)\n",
    "    std_of_means = np.std(run_mean_likelihoods)\n",
    "    mean_of_maxs = np.mean(run_max_likelihoods)\n",
    "    std_of_maxs = np.std(run_max_likelihoods)\n",
    "    \n",
    "    print(f\"  => Final Stats for '{criterion}':\")\n",
    "    print(f\"     - Mean L1 Distance:         {mean_of_l1s:.4f} (Std: {std_of_l1s:.4f})\")\n",
    "    print(f\"     - Mean of Mean Likelihoods: {mean_of_means:.4f} (Std: {std_of_means:.4f})\")\n",
    "    print(f\"     - Mean of Max Likelihoods:  {mean_of_maxs:.4f} (Std: {std_of_maxs:.4f})\\n\")\n",
    "\n",
    "    final_stats_results.append({\n",
    "        'Criterion': criterion,\n",
    "        'Mean L1': f\"{mean_of_l1s:.4f}\",\n",
    "        'Std L1': f\"{std_of_l1s:.4f}\",\n",
    "        'Mean of Means (LL)': f\"{mean_of_means:.4f}\",\n",
    "        'Std of Means (LL)': f\"{std_of_means:.4f}\",\n",
    "        'Mean of Maxs (LL)': f\"{mean_of_maxs:.4f}\",\n",
    "        'Std of Maxs (LL)': f\"{std_of_maxs:.4f}\",\n",
    "        'Mean L1': f\"{mean_of_l1s:.4f}\",\n",
    "        'Std L1': f\"{std_of_l1s:.4f}\"\n",
    "    })\n",
    "\n",
    "# --- 6. Final Statistics Summary Table ---\n",
    "if final_stats_results:\n",
    "    print(\"\\n\" + \"=\"*50)\n",
    "    print(\"--- Final Likelihood & L1 Statistics Summary ---\")\n",
    "    print(\"=\"*50)\n",
    "    df_stats = pd.DataFrame(final_stats_results)\n",
    "    print(df_stats.to_string(index=False))\n"
   ]
  },
  {
   "cell_type": "code",
   "execution_count": 9,
   "id": "e19e5bb9",
   "metadata": {},
   "outputs": [
    {
     "data": {
      "text/plain": [
       "[21.754836933213255,\n",
       " 21.754837276057494,\n",
       " 21.754835696815867,\n",
       " -24.535347280501647,\n",
       " 21.754836908564336,\n",
       " 21.75483732641125,\n",
       " -26.234023441334703,\n",
       " 21.75483744850833,\n",
       " 22.35798314131126,\n",
       " 21.754833475082002,\n",
       " 22.357923829376045,\n",
       " -22.921964358772556,\n",
       " 21.75477707014084,\n",
       " 21.754835696815867,\n",
       " -26.04262692299885,\n",
       " 22.357923829376045,\n",
       " 21.90018796744321,\n",
       " 22.39950774571875,\n",
       " 21.707848445403283,\n",
       " 21.754837448416104,\n",
       " 21.710066160652595,\n",
       " 21.754029861316866,\n",
       " 22.111277062964167,\n",
       " -22.921964358772556,\n",
       " 21.75483744850833,\n",
       " 21.75477707014084,\n",
       " 22.35798314131126,\n",
       " 21.754837448507907,\n",
       " -17.950360561387587,\n",
       " -26.231603561657735,\n",
       " 21.75483744804797,\n",
       " 21.75483675370739,\n",
       " 21.754777092694482,\n",
       " 21.754837206718907,\n",
       " 21.475047969212284,\n",
       " 21.75477579643438,\n",
       " 21.75477715822685,\n",
       " -26.047071516860356,\n",
       " 21.754837448054086,\n",
       " 21.754836909301687,\n",
       " 21.75483744850833,\n",
       " 21.754833475082002,\n",
       " 21.90018796745239,\n",
       " 21.754836908564336,\n",
       " -24.53534728047471,\n",
       " 22.111277062972174,\n",
       " 21.754836966146144,\n",
       " 21.475047968948807,\n",
       " 21.75483744848748,\n",
       " 21.75483744804797,\n",
       " -25.828919383964156,\n",
       " 21.75483744804797,\n",
       " 21.754833475082002,\n",
       " 21.754835696815867,\n",
       " 21.75477707014084,\n",
       " 21.754837448520888,\n",
       " 21.710066160652595,\n",
       " -26.047043976655615,\n",
       " 21.754837333442325,\n",
       " -24.535347280494058,\n",
       " 21.754777610542845,\n",
       " -24.06462946762582,\n",
       " 21.754833475082002,\n",
       " 21.754820392480788,\n",
       " -24.535347280494058,\n",
       " -26.234023441334703,\n",
       " -26.234023441334706,\n",
       " 21.75477721473792,\n",
       " 21.754837448507907,\n",
       " -24.535347280494058,\n",
       " 21.754836908564336,\n",
       " -25.16467139846871,\n",
       " -26.047043976664156,\n",
       " 22.145169587221854,\n",
       " 21.754836933213255,\n",
       " -26.234023441334703,\n",
       " 21.754836909358787,\n",
       " 21.754836909301687,\n",
       " 21.754837417786455,\n",
       " 22.357923829376045,\n",
       " -22.921964358787278,\n",
       " -22.367619196841886,\n",
       " -24.89041715888969,\n",
       " -24.95674004081357,\n",
       " 21.754776938768032,\n",
       " 21.7547692387514,\n",
       " 21.754837448054086,\n",
       " 22.086870113299497,\n",
       " 21.754837448054086,\n",
       " 21.754777092694482,\n",
       " 21.754777092694482,\n",
       " 21.754836808910404,\n",
       " -26.23402574727765,\n",
       " 21.754835696815867,\n",
       " -22.921964359060333,\n",
       " 21.754837448416104,\n",
       " 21.754837448507907,\n",
       " -25.692218397915845,\n",
       " 21.754833475082002,\n",
       " 21.754769237160794]"
      ]
     },
     "execution_count": 9,
     "metadata": {},
     "output_type": "execute_result"
    }
   ],
   "source": [
    "likelihoods"
   ]
  },
  {
   "cell_type": "code",
   "execution_count": 10,
   "id": "0525ceb7",
   "metadata": {},
   "outputs": [
    {
     "name": "stderr",
     "output_type": "stream",
     "text": [
      "100%|██████████| 100/100 [00:06<00:00, 15.63it/s, loss=8.18]\n"
     ]
    }
   ],
   "source": [
    "\n",
    "epochs = 100\n",
    "BATCH_SIZE = 64\n",
    "MAX_LEN = 4\n",
    "lr = 1e-3\n",
    "\n",
    "log_reward_fn = partial(utils.log_likelihood_reward, X, Y)\n",
    "env = create_env()\n",
    "\n",
    "forward_model = ForwardPolicy(input_dim=MAX_LEN, output_dim=env.action_space_size, epsilon=0.5)\n",
    "backward_model = BackwardPolicy()\n",
    "criterion = 'db'\n",
    "\n",
    "gflownet = GFlowNet(\n",
    "    forward_flow=forward_model, \n",
    "    backward_flow=backward_model, \n",
    "    criterion=criterion \n",
    ")\n",
    "\n",
    "\n",
    "gflownet, losses = train(\n",
    "    gflownet=gflownet,\n",
    "    create_env=create_env,\n",
    "    epochs=epochs,\n",
    "    batch_size=BATCH_SIZE,\n",
    "    lr=lr,\n",
    "    min_eps=1e-2,\n",
    "    clamp_g= 10,\n",
    "    use_scheduler=True\n",
    ")"
   ]
  }
 ],
 "metadata": {
  "kernelspec": {
   "display_name": "gpy_env",
   "language": "python",
   "name": "python3"
  },
  "language_info": {
   "codemirror_mode": {
    "name": "ipython",
    "version": 3
   },
   "file_extension": ".py",
   "mimetype": "text/x-python",
   "name": "python",
   "nbconvert_exporter": "python",
   "pygments_lexer": "ipython3",
   "version": "3.11.0"
  }
 },
 "nbformat": 4,
 "nbformat_minor": 5
}
