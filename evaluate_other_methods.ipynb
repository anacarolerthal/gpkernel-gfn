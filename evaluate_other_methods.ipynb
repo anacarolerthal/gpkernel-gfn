{
 "cells": [
  {
   "cell_type": "code",
   "execution_count": 18,
   "id": "d80655ea",
   "metadata": {},
   "outputs": [],
   "source": [
    "from automated_statistician import greedy_search\n",
    "import GPy\n",
    "import numpy as np\n",
    "import matplotlib.pyplot as plt\n",
    "import utils\n",
    "from functools import partial\n",
    "from utils import KernelFunction, KernelEnvironment, log_likelihood_reward\n",
    "from utils import plot_kernel_function, compare_kernels\n",
    "from gflownet import GFlowNet \n",
    "import torch.nn.functional as F\n",
    "from torch.distributions import Categorical\n",
    "import torch\n",
    "from utils import ForwardPolicy, BackwardPolicy\n",
    "import random\n",
    "from utils import train\n",
    "\n",
    "import evaluation\n",
    "from evaluation import create_random_kernel"
   ]
  },
  {
   "cell_type": "code",
   "execution_count": 19,
   "id": "700e8c36",
   "metadata": {},
   "outputs": [
    {
     "name": "stdout",
     "output_type": "stream",
     "text": [
      "  -> Randomizing 'RBF' params...\n",
      "  -> Randomizing 'RBF' params...\n",
      "True Kernel: (RBF({'lengthscale': 0.924, 'variance': 1.2}) + RBF({'lengthscale': 1.234, 'variance': 1.102})) Log Marginal Likelihood: 40.55135800840988\n",
      "True Kernel: (RBF({'lengthscale': 0.924, 'variance': 1.2}) + RBF({'lengthscale': 1.234, 'variance': 1.102})) Log Marginal Likelihood: 37.91051503574889\n"
     ]
    }
   ],
   "source": [
    "ll = -1\n",
    "while ll < 0:\n",
    "    true_kernel = create_random_kernel()\n",
    "    X, Y, true_kernel_str = utils.generate_gp_data(true_kernel, input_dim=1, n_points=30, noise_var=1e-4)\n",
    "    X_test, Y_test, _ = utils.generate_gp_data(true_kernel, input_dim=1, n_points=30, noise_var=1e-4)\n",
    "    ll = utils.evaluate_likelihood(true_kernel, X, Y, runtime=False)\n",
    "\n",
    "print(\"True Kernel:\", true_kernel_str, \"Log Marginal Likelihood:\", utils.evaluate_likelihood(true_kernel, X, Y, runtime=False))\n",
    "print(\"True Kernel:\", true_kernel_str, \"Log Marginal Likelihood:\", utils.evaluate_likelihood(true_kernel, X_test, Y_test, runtime=False))"
   ]
  },
  {
   "cell_type": "code",
   "execution_count": 20,
   "id": "ca729835",
   "metadata": {},
   "outputs": [
    {
     "name": "stdout",
     "output_type": "stream",
     "text": [
      "[Step 1] BIC: -67.97 LL: 39.09 | RBF({'lengthscale': 1.0, 'variance': 1.0})\n",
      "[Step 2] BIC: -64.57 LL: 39.09 | (RBF({'lengthscale': 1.0, 'variance': 1.0}) * Constant({'variance': 1.0}))\n",
      "[Step 3] BIC: -67.97 LL: 39.09 | RBF({'lengthscale': 1.0, 'variance': 1.0})\n",
      "[Step 4] BIC: -64.57 LL: 39.09 | (RBF({'lengthscale': 1.0, 'variance': 1.0}) * Constant({'variance': 1.0}))\n",
      "[Step 5] BIC: -67.97 LL: 39.09 | RBF({'lengthscale': 1.0, 'variance': 1.0})\n"
     ]
    }
   ],
   "source": [
    "greedy_kernel, _ = greedy_search(X, Y, method='BIC', max_steps=5)"
   ]
  },
  {
   "cell_type": "code",
   "execution_count": 21,
   "id": "3dfc203e",
   "metadata": {},
   "outputs": [
    {
     "name": "stdout",
     "output_type": "stream",
     "text": [
      "True kernel\n",
      " Log Marginal Likelihood: 37.91051503574889 RMSE: 0.46183904401792775\n",
      "===========================================\n",
      "Greedy Kernel (automated statistician)\n",
      "Log Marginal Likelihood: 37.91051503574819 RMSE: 0.43624261807136194\n",
      "===========================================\n",
      "RBF Kernel\n",
      "Log Marginal Likelihood: 37.91051503574819 RMSE: 0.43624261807136194\n",
      "Linear Kernel\n",
      "Log Marginal Likelihood: -16.97927533525597 RMSE: 0.4153390353624188\n",
      "Periodic Kernel\n",
      "Log Marginal Likelihood: -9.553237715380403 RMSE: 0.387475342223833\n",
      "Constant Kernel\n",
      "Log Marginal Likelihood: -10.543301305622878 RMSE: 0.3779038877274488\n",
      "===========================================\n"
     ]
    }
   ],
   "source": [
    "ll_test = utils.evaluate_likelihood(true_kernel, X_test, Y_test, runtime=False)\n",
    "rmse_test = evaluation.calculate_rmse(true_kernel, X, Y, X_test, Y_test)\n",
    "    \n",
    "print(\"True kernel\")\n",
    "print(\" Log Marginal Likelihood:\", ll_test, \"RMSE:\", rmse_test)\n",
    "print(\"===========================================\")\n",
    "\n",
    "\n",
    "ll_test = utils.evaluate_likelihood(greedy_kernel, X_test, Y_test, runtime=False)\n",
    "rmse_test = evaluation.calculate_rmse(greedy_kernel, X, Y, X_test, Y_test)\n",
    "    \n",
    "print(\"Greedy Kernel (automated statistician)\")\n",
    "print(\"Log Marginal Likelihood:\", ll_test, \"RMSE:\", rmse_test)\n",
    "print(\"===========================================\")\n",
    "\n",
    "rbf_kernel = KernelFunction().rbf()\n",
    "linear_kernel = KernelFunction().linear()\n",
    "periodic_kernel = KernelFunction().periodic()\n",
    "constant_kernel = KernelFunction().constant()\n",
    "\n",
    "kernels = [rbf_kernel, linear_kernel, periodic_kernel, constant_kernel]\n",
    "for kernel in kernels:\n",
    "    ll_test = utils.evaluate_likelihood(kernel, X_test, Y_test, runtime=False)\n",
    "    rmse_test = evaluation.calculate_rmse(kernel, X, Y, X_test, Y_test)\n",
    "    \n",
    "    print(f\"{kernel.name} Kernel\")\n",
    "    print(\"Log Marginal Likelihood:\", ll_test, \"RMSE:\", rmse_test)\n",
    "print(\"===========================================\")\n",
    "\n"
   ]
  },
  {
   "cell_type": "code",
   "execution_count": null,
   "id": "50893a83",
   "metadata": {},
   "outputs": [],
   "source": []
  }
 ],
 "metadata": {
  "kernelspec": {
   "display_name": "3.12.2",
   "language": "python",
   "name": "python3"
  },
  "language_info": {
   "codemirror_mode": {
    "name": "ipython",
    "version": 3
   },
   "file_extension": ".py",
   "mimetype": "text/x-python",
   "name": "python",
   "nbconvert_exporter": "python",
   "pygments_lexer": "ipython3",
   "version": "3.12.2"
  }
 },
 "nbformat": 4,
 "nbformat_minor": 5
}
