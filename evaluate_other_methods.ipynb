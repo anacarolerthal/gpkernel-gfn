{
 "cells": [
  {
   "cell_type": "code",
   "execution_count": 6,
   "id": "d80655ea",
   "metadata": {},
   "outputs": [],
   "source": [
    "from automated_statistician import greedy_search\n",
    "import GPy\n",
    "import numpy as np\n",
    "import matplotlib.pyplot as plt\n",
    "import utils\n",
    "from functools import partial\n",
    "from utils import KernelFunction, KernelEnvironment, log_likelihood_reward\n",
    "from utils import plot_kernel_function, compare_kernels\n",
    "from gflownet import GFlowNet \n",
    "import torch.nn.functional as F\n",
    "from torch.distributions import Categorical\n",
    "import torch\n",
    "from utils import ForwardPolicy, BackwardPolicy\n",
    "import random\n",
    "from utils import train\n",
    "\n",
    "import evaluation\n",
    "from evaluation import create_random_kernel"
   ]
  },
  {
   "cell_type": "code",
   "execution_count": 7,
   "id": "700e8c36",
   "metadata": {},
   "outputs": [
    {
     "name": "stdout",
     "output_type": "stream",
     "text": [
      "  -> Randomizing 'Constant' params...\n",
      "  -> Randomizing 'Constant' params...\n",
      "  -> Randomizing 'Linear' params...\n",
      "True Kernel: ((Constant({'variance': 1.185}) * Constant({'variance': 0.849})) * Linear({'variances': 1.288})) Log Marginal Likelihood: 90.96786511394015\n",
      "True Kernel: ((Constant({'variance': 1.185}) * Constant({'variance': 0.849})) * Linear({'variances': 1.288})) Log Marginal Likelihood: 91.86569782585374\n"
     ]
    }
   ],
   "source": [
    "ll = -1\n",
    "while ll < 0:\n",
    "    true_kernel = create_random_kernel()\n",
    "    X, Y, true_kernel_str = utils.generate_gp_data(true_kernel, input_dim=1, n_points=30, noise_var=1e-4)\n",
    "    X_test, Y_test, _ = utils.generate_gp_data(true_kernel, input_dim=1, n_points=30, noise_var=1e-4)\n",
    "    ll = utils.evaluate_likelihood(true_kernel, X, Y, runtime=False)\n",
    "\n",
    "print(\"True Kernel:\", true_kernel_str, \"Log Marginal Likelihood:\", utils.evaluate_likelihood(true_kernel, X, Y, runtime=False))\n",
    "print(\"True Kernel:\", true_kernel_str, \"Log Marginal Likelihood:\", utils.evaluate_likelihood(true_kernel, X_test, Y_test, runtime=False))"
   ]
  },
  {
   "cell_type": "code",
   "execution_count": 16,
   "id": "3dfc203e",
   "metadata": {},
   "outputs": [
    {
     "name": "stdout",
     "output_type": "stream",
     "text": [
      "True Kernel: ((Constant({'variance': 1.185}) * Constant({'variance': 0.849})) * Linear({'variances': 1.288})) Log Marginal Likelihood: 91.86569782585374 RMSE: 0.6586396031328083\n",
      "No std (0.0) in the true kernel\n",
      "===========================================\n",
      "[Step 1] BIC: -175.13 LL: 90.97 | Linear({'variances': 1.0})\n",
      "[Step 2] BIC: -171.73 LL: 90.97 | (Linear({'variances': 1.0}) * Constant({'variance': 1.0}))\n",
      "[Step 3] BIC: -175.13 LL: 90.97 | Linear({'variances': 1.0})\n",
      "[Step 4] BIC: -171.73 LL: 90.97 | (Linear({'variances': 1.0}) * Constant({'variance': 1.0}))\n",
      "[Step 5] BIC: -175.13 LL: 90.97 | Linear({'variances': 1.0})\n",
      "Greedy Search Kernel: Linear({'variances': 1.0}) Log Marginal Likelihood: 91.86569782583669 RMSE: 0.6586062908765267\n",
      "No std (0.0) in the greedy kernel\n",
      "===========================================\n",
      " Basis kernel: RBF({'lengthscale': 1.0, 'variance': 1.0}) Log Marginal Likelihood: 85.35708041034214 RMSE: 0.6271722536401301\n",
      "No std (0.0) in the kernel\n",
      " Basis kernel: Linear({'variances': 1.0}) Log Marginal Likelihood: 91.86569782583669 RMSE: 0.6586062908765267\n",
      "No std (0.0) in the kernel\n",
      " Basis kernel: Periodic({'period': 1.0, 'variance': 1.0, 'lengthscale': 1.0}) Log Marginal Likelihood: -0.14201502134484656 RMSE: 0.6329514842164903\n",
      "No std (0.0) in the kernel\n",
      " Basis kernel: Constant({'variance': 1.0}) Log Marginal Likelihood: -1.7403446239399667 RMSE: 0.628300272443752\n",
      "No std (0.0) in the kernel\n",
      "===========================================\n"
     ]
    }
   ],
   "source": [
    "ll_test = utils.evaluate_likelihood(true_kernel, X_test, Y_test, runtime=False)\n",
    "rmse_test = evaluation.calculate_rmse(true_kernel, X, Y, X_test, Y_test)\n",
    "    \n",
    "print(\"True Kernel:\", str(true_kernel), \"Log Marginal Likelihood:\", ll_test, \"RMSE:\", rmse_test)\n",
    "print(\"No std (0.0) in the true kernel\")\n",
    "print(\"===========================================\")\n",
    "\n",
    "greedy_kernel, _ = greedy_search(X, Y, method='BIC', max_steps=5)\n",
    "\n",
    "ll_test = utils.evaluate_likelihood(greedy_kernel, X_test, Y_test, runtime=False)\n",
    "rmse_test = evaluation.calculate_rmse(greedy_kernel, X, Y, X_test, Y_test)\n",
    "    \n",
    "print(\"Greedy Search Kernel:\", str(greedy_kernel), \"Log Marginal Likelihood:\", ll_test, \"RMSE:\", rmse_test)\n",
    "print(\"No std (0.0) in the greedy kernel\")\n",
    "print(\"===========================================\")\n",
    "\n",
    "rbf_kernel = KernelFunction().rbf()\n",
    "linear_kernel = KernelFunction().linear()\n",
    "periodic_kernel = KernelFunction().periodic()\n",
    "constant_kernel = KernelFunction().constant()\n",
    "\n",
    "kernels = [rbf_kernel, linear_kernel, periodic_kernel, constant_kernel]\n",
    "for kernel in kernels:\n",
    "    ll_test = utils.evaluate_likelihood(kernel, X_test, Y_test, runtime=False)\n",
    "    rmse_test = evaluation.calculate_rmse(kernel, X, Y, X_test, Y_test)\n",
    "    \n",
    "    print(\" Basis kernel:\", str(kernel), \"Log Marginal Likelihood:\", ll_test, \"RMSE:\", rmse_test)\n",
    "    print(\"No std (0.0) in the kernel\")\n",
    "print(\"===========================================\")"
   ]
  }
 ],
 "metadata": {
  "kernelspec": {
   "display_name": "3.12.2",
   "language": "python",
   "name": "python3"
  },
  "language_info": {
   "codemirror_mode": {
    "name": "ipython",
    "version": 3
   },
   "file_extension": ".py",
   "mimetype": "text/x-python",
   "name": "python",
   "nbconvert_exporter": "python",
   "pygments_lexer": "ipython3",
   "version": "3.12.2"
  }
 },
 "nbformat": 4,
 "nbformat_minor": 5
}
