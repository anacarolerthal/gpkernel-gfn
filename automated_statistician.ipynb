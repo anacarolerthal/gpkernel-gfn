{
 "cells": [
  {
   "cell_type": "code",
   "execution_count": 23,
   "id": "280564d1",
   "metadata": {},
   "outputs": [],
   "source": [
    "from utils import KernelFunction, evaluate_likelihood, generate_gp_data\n",
    "import numpy as np"
   ]
  },
  {
   "cell_type": "code",
   "execution_count": null,
   "id": "088a8df2",
   "metadata": {},
   "outputs": [],
   "source": [
    "def greedy_statistician_search(X, Y, method='BIC', max_steps=10):\n",
    "    \"\"\"\n",
    "    Greedily constructs a composite kernel by maximizing GP marginal likelihood using sum, product\n",
    "    or replacement of base kernels.\n",
    "\n",
    "    Parameters:\n",
    "        X (np.ndarray): input data\n",
    "        Y (np.ndarray): target data\n",
    "        method (str): 'BIC' for Bayesian Information Criterion, 'LL' for Log Likelihood\n",
    "        max_steps (int): maximum number of expansions\n",
    "\n",
    "    Returns:\n",
    "        KernelFunction: the best composite kernel found\n",
    "    \"\"\"\n",
    "    base_kernels = [\n",
    "        KernelFunction().rbf(),\n",
    "        KernelFunction().linear(),\n",
    "        KernelFunction().periodic(),\n",
    "        KernelFunction().white_noise(),\n",
    "        KernelFunction().constant(),\n",
    "    ]\n",
    "    _likelihood_cache = {} # cache\n",
    "\n",
    "    def get_ll(kf):\n",
    "        key = str(kf)\n",
    "        if key in _likelihood_cache:\n",
    "            return _likelihood_cache[key]\n",
    "        ll = evaluate_likelihood(kf, X, Y, runtime=False)\n",
    "        _likelihood_cache[key] = ll\n",
    "        return ll\n",
    "    \n",
    "    def get_BIC(kf):\n",
    "        n = len(Y)\n",
    "        k = kf.num_params() +1 \n",
    "        ll = get_ll(kf)\n",
    "        return -2 * ll + k * np.log(n)\n",
    "\n",
    "    def expand_subtrees(k): \n",
    "        expansions = []\n",
    "\n",
    "        # for each base kernel, consider all 3 ops\n",
    "        for bk in base_kernels:\n",
    "            if k.name != bk.name:\n",
    "                expansions.append(bk)\n",
    "                expansions.append(k.add(bk))\n",
    "                expansions.append(k.multiply(bk))\n",
    "\n",
    "        # if current kernel is a sum or product, expand its children (considers all subtrees)\n",
    "        if k.name in [\"Sum\", \"Product\"]:\n",
    "            for i, child in enumerate(k.children):\n",
    "                subexpansions = expand_subtrees(child)\n",
    "\n",
    "                for new_subtree in subexpansions:\n",
    "                    new_children = k.children[:]\n",
    "                    new_children[i] = new_subtree\n",
    "                    new_kernel = KernelFunction(k.name, children=new_children)\n",
    "                    expansions.append(new_kernel)\n",
    "        return expansions\n",
    "\n",
    "    current_kernel = None\n",
    "    for step in range(max_steps):\n",
    "        candidates = []\n",
    "\n",
    "        if current_kernel is None:\n",
    "            candidates = base_kernels\n",
    "        else:\n",
    "\n",
    "            candidates.extend(expand_subtrees(current_kernel))\n",
    "            \n",
    "        if method == 'BIC':\n",
    "            best_bic = np.inf\n",
    "            candidates = [c for c in candidates if c.num_params() > 0]\n",
    "            scored = [(get_BIC(c), c) for c in candidates]\n",
    "            scored = [x for x in scored if np.isfinite(x[0])]\n",
    "            best_candidate_bic, best_candidate = min(scored, key=lambda x: x[0])\n",
    "            print(f\"[Step {step+1}] BIC: {best_candidate_bic:.2f} LL: {get_ll(best_candidate):.2f} | {best_candidate}\")\n",
    "            \n",
    "            if best_candidate_bic < best_bic:\n",
    "                best_bic = best_candidate_bic\n",
    "                current_kernel = best_candidate\n",
    "            else:\n",
    "                print(\"No improvement found, stopping search.\")\n",
    "                break\n",
    "        elif method == 'LL':\n",
    "            best_ll = -np.inf\n",
    "            scored = [(get_ll(c), c) for c in candidates]\n",
    "            scored = [x for x in scored if np.isfinite(x[0])]\n",
    "            best_candidate_ll, best_candidate = max(scored, key=lambda x: x[0])\n",
    "            print(f\"[Step {step+1}] LL: {best_candidate_ll:.2f} BIC: {get_BIC(best_candidate):.2f} | {best_candidate}\")\n",
    "            if best_candidate_ll > best_ll:\n",
    "               best_ll = best_candidate_ll\n",
    "               current_kernel = best_candidate\n",
    "            else:\n",
    "                print(\"No improvement found, stopping search.\")\n",
    "                break\n",
    "        else:\n",
    "            raise ValueError(\"Method must be either 'BIC' or 'LL'.\")\n",
    "    return current_kernel"
   ]
  },
  {
   "cell_type": "code",
   "execution_count": 25,
   "id": "52d4aa8e",
   "metadata": {},
   "outputs": [
    {
     "name": "stdout",
     "output_type": "stream",
     "text": [
      "True Kernel: Periodic({'period': 3.0, 'variance': 1.0, 'lengthscale': 0.01})\n"
     ]
    }
   ],
   "source": [
    "true_kernel = KernelFunction().periodic(period=3.0, lengthscale=0.01)\n",
    "X, Y, true_kernel_str = generate_gp_data(true_kernel, input_dim=1, n_points=50, noise_var=1e-3)\n",
    "print(\"True Kernel:\", true_kernel_str)"
   ]
  },
  {
   "cell_type": "code",
   "execution_count": 26,
   "id": "e754aa5b",
   "metadata": {},
   "outputs": [
    {
     "name": "stdout",
     "output_type": "stream",
     "text": [
      "Log Marginal Likelihood (true kernel): 97.17148359924158\n"
     ]
    }
   ],
   "source": [
    "log_likelihood = evaluate_likelihood(true_kernel, X, Y, runtime=False)\n",
    "print(\"Log Marginal Likelihood (true kernel):\", log_likelihood)"
   ]
  },
  {
   "cell_type": "code",
   "execution_count": 27,
   "id": "afc19a90",
   "metadata": {},
   "outputs": [
    {
     "name": "stdout",
     "output_type": "stream",
     "text": [
      "[Step 1] LL: 83.83 BIC: -155.91 | RBF({'lengthscale': 1.0, 'variance': 1.0})\n",
      "[Step 2] LL: 86.64 BIC: -157.64 | (RBF({'lengthscale': 1.0, 'variance': 1.0}) * Constant({'variance': 1.0}))\n",
      "[Step 3] LL: 92.49 BIC: -161.50 | ((RBF({'lengthscale': 1.0, 'variance': 1.0}) * Constant({'variance': 1.0})) * RBF({'lengthscale': 1.0, 'variance': 1.0}))\n",
      "[Step 4] LL: 93.66 BIC: -159.94 | (((RBF({'lengthscale': 1.0, 'variance': 1.0}) * Constant({'variance': 1.0})) * RBF({'lengthscale': 1.0, 'variance': 1.0})) * Constant({'variance': 1.0}))\n",
      "[Step 5] LL: 93.65 BIC: -152.09 | (((RBF({'lengthscale': 1.0, 'variance': 1.0}) * (Constant({'variance': 1.0}) + RBF({'lengthscale': 1.0, 'variance': 1.0}))) * RBF({'lengthscale': 1.0, 'variance': 1.0})) * Constant({'variance': 1.0}))\n",
      "\n",
      "Best kernel found:\n",
      "(((RBF({'lengthscale': 1.0, 'variance': 1.0}) * (Constant({'variance': 1.0}) + RBF({'lengthscale': 1.0, 'variance': 1.0}))) * RBF({'lengthscale': 1.0, 'variance': 1.0})) * Constant({'variance': 1.0}))\n",
      "Number of reward calls: 178\n"
     ]
    }
   ],
   "source": [
    "best_kernel, reward_calls = greedy_statistician_search(X, Y, max_steps=5, method='LL')\n",
    "\n",
    "print(\"\\nBest kernel found:\")\n",
    "print(best_kernel)\n",
    "print(\"Number of reward calls:\", reward_calls)"
   ]
  },
  {
   "cell_type": "code",
   "execution_count": null,
   "id": "4858b500",
   "metadata": {},
   "outputs": [],
   "source": []
  }
 ],
 "metadata": {
  "kernelspec": {
   "display_name": "3.12.2",
   "language": "python",
   "name": "python3"
  },
  "language_info": {
   "codemirror_mode": {
    "name": "ipython",
    "version": 3
   },
   "file_extension": ".py",
   "mimetype": "text/x-python",
   "name": "python",
   "nbconvert_exporter": "python",
   "pygments_lexer": "ipython3",
   "version": "3.12.2"
  }
 },
 "nbformat": 4,
 "nbformat_minor": 5
}
