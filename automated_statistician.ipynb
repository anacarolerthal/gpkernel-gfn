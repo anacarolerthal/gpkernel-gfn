{
 "cells": [
  {
   "cell_type": "code",
   "execution_count": null,
   "id": "280564d1",
   "metadata": {},
   "outputs": [],
   "source": [
    "from utils import KernelFunction, evaluate_likelihood, generate_gp_data\n",
    "from automated_statistician import greedy_search\n",
    "import numpy as np"
   ]
  },
  {
   "cell_type": "code",
   "execution_count": 18,
   "id": "52d4aa8e",
   "metadata": {},
   "outputs": [
    {
     "name": "stdout",
     "output_type": "stream",
     "text": [
      "True Kernel: Periodic({'period': 3.0, 'variance': 1.0, 'lengthscale': 0.01})\n"
     ]
    }
   ],
   "source": [
    "true_kernel = KernelFunction().periodic(period=3.0, lengthscale=0.01)\n",
    "X, Y, true_kernel_str = generate_gp_data(true_kernel, input_dim=1, n_points=50, noise_var=1e-3)\n",
    "print(\"True Kernel:\", true_kernel_str)"
   ]
  },
  {
   "cell_type": "code",
   "execution_count": 19,
   "id": "e754aa5b",
   "metadata": {},
   "outputs": [
    {
     "name": "stdout",
     "output_type": "stream",
     "text": [
      "Log Marginal Likelihood (true kernel): 94.19805611197711\n"
     ]
    }
   ],
   "source": [
    "log_likelihood = evaluate_likelihood(true_kernel, X, Y, runtime=False)\n",
    "print(\"Log Marginal Likelihood (true kernel):\", log_likelihood)"
   ]
  },
  {
   "cell_type": "code",
   "execution_count": 20,
   "id": "afc19a90",
   "metadata": {},
   "outputs": [
    {
     "name": "stdout",
     "output_type": "stream",
     "text": [
      "[Step 1] LL: 67.03 BIC: -122.32 | RBF({'lengthscale': 1.0, 'variance': 1.0})\n",
      "[Step 2] LL: 66.13 BIC: -116.61 | (RBF({'lengthscale': 1.0, 'variance': 1.0}) + WhiteNoise({'variance': 1.0}))\n",
      "[Step 3] LL: 79.78 BIC: -140.00 | ((RBF({'lengthscale': 1.0, 'variance': 1.0}) * Constant({'variance': 1.0})) + WhiteNoise({'variance': 1.0}))\n",
      "[Step 4] LL: 80.17 BIC: -136.87 | ((RBF({'lengthscale': 1.0, 'variance': 1.0}) * RBF({'lengthscale': 1.0, 'variance': 1.0})) + WhiteNoise({'variance': 1.0}))\n",
      "[Step 5] LL: 82.22 BIC: -129.22 | ((RBF({'lengthscale': 1.0, 'variance': 1.0}) * RBF({'lengthscale': 1.0, 'variance': 1.0})) + (WhiteNoise({'variance': 1.0}) * Periodic({'period': 1.0, 'variance': 1.0, 'lengthscale': 1.0})))\n",
      "\n",
      "Best kernel found:\n",
      "((RBF({'lengthscale': 1.0, 'variance': 1.0}) * RBF({'lengthscale': 1.0, 'variance': 1.0})) + (WhiteNoise({'variance': 1.0}) * Periodic({'period': 1.0, 'variance': 1.0, 'lengthscale': 1.0})))\n",
      "Number of reward calls: 144\n"
     ]
    }
   ],
   "source": [
    "best_kernel, evals = greedy_statistician_search(X, Y, max_steps=5, method='LL')\n",
    "\n",
    "print(\"\\nBest kernel found:\")\n",
    "print(best_kernel)\n",
    "print(\"Number of reward calls:\", len(evals))"
   ]
  },
  {
   "cell_type": "code",
   "execution_count": 21,
   "id": "4858b500",
   "metadata": {},
   "outputs": [
    {
     "data": {
      "text/plain": [
       "{\"RBF({'lengthscale': 1.0, 'variance': 1.0})\": 67.02897887852069,\n",
       " \"Linear({'variances': 1.0})\": 40.47167725950917,\n",
       " \"Periodic({'period': 1.0, 'variance': 1.0, 'lengthscale': 1.0})\": 39.366951825414425,\n",
       " \"WhiteNoise({'variance': 1.0})\": 45.27570338801687,\n",
       " \"Constant({'variance': 1.0})\": 44.97334879792126,\n",
       " \"(RBF({'lengthscale': 1.0, 'variance': 1.0}) + Linear({'variances': 1.0}))\": 55.64141011192539,\n",
       " \"(RBF({'lengthscale': 1.0, 'variance': 1.0}) * Linear({'variances': 1.0}))\": 38.47788011307059,\n",
       " \"(RBF({'lengthscale': 1.0, 'variance': 1.0}) + Periodic({'period': 1.0, 'variance': 1.0, 'lengthscale': 1.0}))\": 53.24629362512891,\n",
       " \"(RBF({'lengthscale': 1.0, 'variance': 1.0}) * Periodic({'period': 1.0, 'variance': 1.0, 'lengthscale': 1.0}))\": 48.50300435905026,\n",
       " \"(RBF({'lengthscale': 1.0, 'variance': 1.0}) + WhiteNoise({'variance': 1.0}))\": 66.13013752473006,\n",
       " \"(RBF({'lengthscale': 1.0, 'variance': 1.0}) * WhiteNoise({'variance': 1.0}))\": 45.16474469365879,\n",
       " \"(RBF({'lengthscale': 1.0, 'variance': 1.0}) + Constant({'variance': 1.0}))\": 57.615417788316634,\n",
       " \"(RBF({'lengthscale': 1.0, 'variance': 1.0}) * Constant({'variance': 1.0}))\": 62.906030650132784,\n",
       " \"((RBF({'lengthscale': 1.0, 'variance': 1.0}) + WhiteNoise({'variance': 1.0})) + RBF({'lengthscale': 1.0, 'variance': 1.0}))\": 64.586841962547,\n",
       " \"((RBF({'lengthscale': 1.0, 'variance': 1.0}) + WhiteNoise({'variance': 1.0})) * RBF({'lengthscale': 1.0, 'variance': 1.0}))\": 50.95469281445756,\n",
       " \"((RBF({'lengthscale': 1.0, 'variance': 1.0}) + WhiteNoise({'variance': 1.0})) + Linear({'variances': 1.0}))\": 70.34282974704453,\n",
       " \"((RBF({'lengthscale': 1.0, 'variance': 1.0}) + WhiteNoise({'variance': 1.0})) * Linear({'variances': 1.0}))\": 48.153327505291955,\n",
       " \"((RBF({'lengthscale': 1.0, 'variance': 1.0}) + WhiteNoise({'variance': 1.0})) + Periodic({'period': 1.0, 'variance': 1.0, 'lengthscale': 1.0}))\": 67.10760293570225,\n",
       " \"((RBF({'lengthscale': 1.0, 'variance': 1.0}) + WhiteNoise({'variance': 1.0})) * Periodic({'period': 1.0, 'variance': 1.0, 'lengthscale': 1.0}))\": 50.82188656883732,\n",
       " \"((RBF({'lengthscale': 1.0, 'variance': 1.0}) + WhiteNoise({'variance': 1.0})) + WhiteNoise({'variance': 1.0}))\": 48.37555407544175,\n",
       " \"((RBF({'lengthscale': 1.0, 'variance': 1.0}) + WhiteNoise({'variance': 1.0})) * WhiteNoise({'variance': 1.0}))\": 45.269205086341984,\n",
       " \"((RBF({'lengthscale': 1.0, 'variance': 1.0}) + WhiteNoise({'variance': 1.0})) + Constant({'variance': 1.0}))\": 72.72098164238585,\n",
       " \"((RBF({'lengthscale': 1.0, 'variance': 1.0}) + WhiteNoise({'variance': 1.0})) * Constant({'variance': 1.0}))\": 49.17420900554659,\n",
       " \"(Linear({'variances': 1.0}) + WhiteNoise({'variance': 1.0}))\": 40.50544226181114,\n",
       " \"((RBF({'lengthscale': 1.0, 'variance': 1.0}) + Linear({'variances': 1.0})) + WhiteNoise({'variance': 1.0}))\": 70.34282974464438,\n",
       " \"((RBF({'lengthscale': 1.0, 'variance': 1.0}) * Linear({'variances': 1.0})) + WhiteNoise({'variance': 1.0}))\": 45.04448238106475,\n",
       " \"(Periodic({'period': 1.0, 'variance': 1.0, 'lengthscale': 1.0}) + WhiteNoise({'variance': 1.0}))\": 41.005593720915286,\n",
       " \"((RBF({'lengthscale': 1.0, 'variance': 1.0}) + Periodic({'period': 1.0, 'variance': 1.0, 'lengthscale': 1.0})) + WhiteNoise({'variance': 1.0}))\": 67.10760293601794,\n",
       " \"((RBF({'lengthscale': 1.0, 'variance': 1.0}) * Periodic({'period': 1.0, 'variance': 1.0, 'lengthscale': 1.0})) + WhiteNoise({'variance': 1.0}))\": 71.39226367537246,\n",
       " \"(WhiteNoise({'variance': 1.0}) + WhiteNoise({'variance': 1.0}))\": 45.276038303442604,\n",
       " \"((RBF({'lengthscale': 1.0, 'variance': 1.0}) * WhiteNoise({'variance': 1.0})) + WhiteNoise({'variance': 1.0}))\": 45.15313386978509,\n",
       " \"(Constant({'variance': 1.0}) + WhiteNoise({'variance': 1.0}))\": 45.01192437902371,\n",
       " \"((RBF({'lengthscale': 1.0, 'variance': 1.0}) + Constant({'variance': 1.0})) + WhiteNoise({'variance': 1.0}))\": 72.72098164238476,\n",
       " \"((RBF({'lengthscale': 1.0, 'variance': 1.0}) * Constant({'variance': 1.0})) + WhiteNoise({'variance': 1.0}))\": 79.78150800030473,\n",
       " \"(RBF({'lengthscale': 1.0, 'variance': 1.0}) + RBF({'lengthscale': 1.0, 'variance': 1.0}))\": 72.37391410510583,\n",
       " \"(RBF({'lengthscale': 1.0, 'variance': 1.0}) + (WhiteNoise({'variance': 1.0}) + RBF({'lengthscale': 1.0, 'variance': 1.0})))\": 64.586841962547,\n",
       " \"(RBF({'lengthscale': 1.0, 'variance': 1.0}) + (WhiteNoise({'variance': 1.0}) * RBF({'lengthscale': 1.0, 'variance': 1.0})))\": 66.96730062327168,\n",
       " \"(RBF({'lengthscale': 1.0, 'variance': 1.0}) + (WhiteNoise({'variance': 1.0}) + Linear({'variances': 1.0})))\": 70.34282974704453,\n",
       " \"(RBF({'lengthscale': 1.0, 'variance': 1.0}) + (WhiteNoise({'variance': 1.0}) * Linear({'variances': 1.0})))\": 66.70533291574202,\n",
       " \"(RBF({'lengthscale': 1.0, 'variance': 1.0}) + (WhiteNoise({'variance': 1.0}) + Periodic({'period': 1.0, 'variance': 1.0, 'lengthscale': 1.0})))\": 67.10760293570225,\n",
       " \"(RBF({'lengthscale': 1.0, 'variance': 1.0}) + (WhiteNoise({'variance': 1.0}) * Periodic({'period': 1.0, 'variance': 1.0, 'lengthscale': 1.0})))\": 52.755731120207855,\n",
       " \"(RBF({'lengthscale': 1.0, 'variance': 1.0}) + (WhiteNoise({'variance': 1.0}) + Constant({'variance': 1.0})))\": 72.72098164238585,\n",
       " \"(RBF({'lengthscale': 1.0, 'variance': 1.0}) + (WhiteNoise({'variance': 1.0}) * Constant({'variance': 1.0})))\": 66.96730062327168,\n",
       " \"(((RBF({'lengthscale': 1.0, 'variance': 1.0}) * Constant({'variance': 1.0})) + WhiteNoise({'variance': 1.0})) + RBF({'lengthscale': 1.0, 'variance': 1.0}))\": 66.05126478562957,\n",
       " \"(((RBF({'lengthscale': 1.0, 'variance': 1.0}) * Constant({'variance': 1.0})) + WhiteNoise({'variance': 1.0})) * RBF({'lengthscale': 1.0, 'variance': 1.0}))\": 47.67353347784242,\n",
       " \"(((RBF({'lengthscale': 1.0, 'variance': 1.0}) * Constant({'variance': 1.0})) + WhiteNoise({'variance': 1.0})) + Linear({'variances': 1.0}))\": 65.09742210386072,\n",
       " \"(((RBF({'lengthscale': 1.0, 'variance': 1.0}) * Constant({'variance': 1.0})) + WhiteNoise({'variance': 1.0})) * Linear({'variances': 1.0}))\": 47.78032532975176,\n",
       " \"(((RBF({'lengthscale': 1.0, 'variance': 1.0}) * Constant({'variance': 1.0})) + WhiteNoise({'variance': 1.0})) + Periodic({'period': 1.0, 'variance': 1.0, 'lengthscale': 1.0}))\": 64.88260356207232,\n",
       " \"(((RBF({'lengthscale': 1.0, 'variance': 1.0}) * Constant({'variance': 1.0})) + WhiteNoise({'variance': 1.0})) * Periodic({'period': 1.0, 'variance': 1.0, 'lengthscale': 1.0}))\": 49.2528351266279,\n",
       " \"(((RBF({'lengthscale': 1.0, 'variance': 1.0}) * Constant({'variance': 1.0})) + WhiteNoise({'variance': 1.0})) + WhiteNoise({'variance': 1.0}))\": 46.99671446630873,\n",
       " \"(((RBF({'lengthscale': 1.0, 'variance': 1.0}) * Constant({'variance': 1.0})) + WhiteNoise({'variance': 1.0})) * WhiteNoise({'variance': 1.0}))\": 45.27626887319754,\n",
       " \"(((RBF({'lengthscale': 1.0, 'variance': 1.0}) * Constant({'variance': 1.0})) + WhiteNoise({'variance': 1.0})) + Constant({'variance': 1.0}))\": 66.57193850320515,\n",
       " \"(((RBF({'lengthscale': 1.0, 'variance': 1.0}) * Constant({'variance': 1.0})) + WhiteNoise({'variance': 1.0})) * Constant({'variance': 1.0}))\": 48.218724156473485,\n",
       " \"(((RBF({'lengthscale': 1.0, 'variance': 1.0}) * Constant({'variance': 1.0})) + RBF({'lengthscale': 1.0, 'variance': 1.0})) + WhiteNoise({'variance': 1.0}))\": 66.05126484867507,\n",
       " \"(((RBF({'lengthscale': 1.0, 'variance': 1.0}) * Constant({'variance': 1.0})) * RBF({'lengthscale': 1.0, 'variance': 1.0})) + WhiteNoise({'variance': 1.0}))\": 70.42803902183321,\n",
       " \"(((RBF({'lengthscale': 1.0, 'variance': 1.0}) * Constant({'variance': 1.0})) + Linear({'variances': 1.0})) + WhiteNoise({'variance': 1.0}))\": 65.09742203649166,\n",
       " \"(((RBF({'lengthscale': 1.0, 'variance': 1.0}) * Constant({'variance': 1.0})) * Linear({'variances': 1.0})) + WhiteNoise({'variance': 1.0}))\": 47.6106894424677,\n",
       " \"(((RBF({'lengthscale': 1.0, 'variance': 1.0}) * Constant({'variance': 1.0})) + Periodic({'period': 1.0, 'variance': 1.0, 'lengthscale': 1.0})) + WhiteNoise({'variance': 1.0}))\": 64.88260356207259,\n",
       " \"(((RBF({'lengthscale': 1.0, 'variance': 1.0}) * Constant({'variance': 1.0})) * Periodic({'period': 1.0, 'variance': 1.0, 'lengthscale': 1.0})) + WhiteNoise({'variance': 1.0}))\": 48.857810009144366,\n",
       " \"(((RBF({'lengthscale': 1.0, 'variance': 1.0}) * Constant({'variance': 1.0})) * WhiteNoise({'variance': 1.0})) + WhiteNoise({'variance': 1.0}))\": 45.19745259510253,\n",
       " \"(((RBF({'lengthscale': 1.0, 'variance': 1.0}) * Constant({'variance': 1.0})) + Constant({'variance': 1.0})) + WhiteNoise({'variance': 1.0}))\": 66.57193850320549,\n",
       " \"(((RBF({'lengthscale': 1.0, 'variance': 1.0}) * Constant({'variance': 1.0})) * Constant({'variance': 1.0})) + WhiteNoise({'variance': 1.0}))\": 50.67675762282014,\n",
       " \"((Linear({'variances': 1.0}) * Constant({'variance': 1.0})) + WhiteNoise({'variance': 1.0}))\": 40.584354258235976,\n",
       " \"(((RBF({'lengthscale': 1.0, 'variance': 1.0}) + Linear({'variances': 1.0})) * Constant({'variance': 1.0})) + WhiteNoise({'variance': 1.0}))\": 63.71924836750916,\n",
       " \"(((RBF({'lengthscale': 1.0, 'variance': 1.0}) * Linear({'variances': 1.0})) * Constant({'variance': 1.0})) + WhiteNoise({'variance': 1.0}))\": 47.61691937913545,\n",
       " \"((Periodic({'period': 1.0, 'variance': 1.0, 'lengthscale': 1.0}) * Constant({'variance': 1.0})) + WhiteNoise({'variance': 1.0}))\": 41.81884752201889,\n",
       " \"(((RBF({'lengthscale': 1.0, 'variance': 1.0}) + Periodic({'period': 1.0, 'variance': 1.0, 'lengthscale': 1.0})) * Constant({'variance': 1.0})) + WhiteNoise({'variance': 1.0}))\": 52.84397436191329,\n",
       " \"(((RBF({'lengthscale': 1.0, 'variance': 1.0}) * Periodic({'period': 1.0, 'variance': 1.0, 'lengthscale': 1.0})) * Constant({'variance': 1.0})) + WhiteNoise({'variance': 1.0}))\": 48.85781000914437,\n",
       " \"((WhiteNoise({'variance': 1.0}) * Constant({'variance': 1.0})) + WhiteNoise({'variance': 1.0}))\": 45.15313386978509,\n",
       " \"(((RBF({'lengthscale': 1.0, 'variance': 1.0}) + WhiteNoise({'variance': 1.0})) * Constant({'variance': 1.0})) + WhiteNoise({'variance': 1.0}))\": 46.449972547572,\n",
       " \"(((RBF({'lengthscale': 1.0, 'variance': 1.0}) * WhiteNoise({'variance': 1.0})) * Constant({'variance': 1.0})) + WhiteNoise({'variance': 1.0}))\": 45.19745259510253,\n",
       " \"((Constant({'variance': 1.0}) * Constant({'variance': 1.0})) + WhiteNoise({'variance': 1.0}))\": 45.08895308176335,\n",
       " \"(((RBF({'lengthscale': 1.0, 'variance': 1.0}) + Constant({'variance': 1.0})) * Constant({'variance': 1.0})) + WhiteNoise({'variance': 1.0}))\": 65.7033482556567,\n",
       " \"((RBF({'lengthscale': 1.0, 'variance': 1.0}) * RBF({'lengthscale': 1.0, 'variance': 1.0})) + WhiteNoise({'variance': 1.0}))\": 80.17046963719447,\n",
       " \"((RBF({'lengthscale': 1.0, 'variance': 1.0}) * (Constant({'variance': 1.0}) + RBF({'lengthscale': 1.0, 'variance': 1.0}))) + WhiteNoise({'variance': 1.0}))\": 71.29983476363232,\n",
       " \"((RBF({'lengthscale': 1.0, 'variance': 1.0}) * (Constant({'variance': 1.0}) * RBF({'lengthscale': 1.0, 'variance': 1.0}))) + WhiteNoise({'variance': 1.0}))\": 70.42803902183321,\n",
       " \"((RBF({'lengthscale': 1.0, 'variance': 1.0}) * (Constant({'variance': 1.0}) + Linear({'variances': 1.0}))) + WhiteNoise({'variance': 1.0}))\": 43.542113679993626,\n",
       " \"((RBF({'lengthscale': 1.0, 'variance': 1.0}) * (Constant({'variance': 1.0}) * Linear({'variances': 1.0}))) + WhiteNoise({'variance': 1.0}))\": 47.6106894424677,\n",
       " \"((RBF({'lengthscale': 1.0, 'variance': 1.0}) * (Constant({'variance': 1.0}) + Periodic({'period': 1.0, 'variance': 1.0, 'lengthscale': 1.0}))) + WhiteNoise({'variance': 1.0}))\": 45.7239958302123,\n",
       " \"((RBF({'lengthscale': 1.0, 'variance': 1.0}) * (Constant({'variance': 1.0}) * Periodic({'period': 1.0, 'variance': 1.0, 'lengthscale': 1.0}))) + WhiteNoise({'variance': 1.0}))\": 48.857810009144366,\n",
       " \"((RBF({'lengthscale': 1.0, 'variance': 1.0}) * (Constant({'variance': 1.0}) + WhiteNoise({'variance': 1.0}))) + WhiteNoise({'variance': 1.0}))\": 46.44791492542319,\n",
       " \"((RBF({'lengthscale': 1.0, 'variance': 1.0}) * (Constant({'variance': 1.0}) * WhiteNoise({'variance': 1.0}))) + WhiteNoise({'variance': 1.0}))\": 45.19745259510253,\n",
       " \"((RBF({'lengthscale': 1.0, 'variance': 1.0}) * Constant({'variance': 1.0})) + RBF({'lengthscale': 1.0, 'variance': 1.0}))\": 72.65472955074313,\n",
       " \"((RBF({'lengthscale': 1.0, 'variance': 1.0}) * Constant({'variance': 1.0})) + (WhiteNoise({'variance': 1.0}) + RBF({'lengthscale': 1.0, 'variance': 1.0})))\": 66.05126478562957,\n",
       " \"((RBF({'lengthscale': 1.0, 'variance': 1.0}) * Constant({'variance': 1.0})) + (WhiteNoise({'variance': 1.0}) * RBF({'lengthscale': 1.0, 'variance': 1.0})))\": 68.81443978784768,\n",
       " \"((RBF({'lengthscale': 1.0, 'variance': 1.0}) * Constant({'variance': 1.0})) + Linear({'variances': 1.0}))\": 57.63232464767814,\n",
       " \"((RBF({'lengthscale': 1.0, 'variance': 1.0}) * Constant({'variance': 1.0})) + (WhiteNoise({'variance': 1.0}) + Linear({'variances': 1.0})))\": 65.09742210386072,\n",
       " \"((RBF({'lengthscale': 1.0, 'variance': 1.0}) * Constant({'variance': 1.0})) + (WhiteNoise({'variance': 1.0}) * Linear({'variances': 1.0})))\": 65.10218945662288,\n",
       " \"((RBF({'lengthscale': 1.0, 'variance': 1.0}) * Constant({'variance': 1.0})) + Periodic({'period': 1.0, 'variance': 1.0, 'lengthscale': 1.0}))\": 50.6841893288339,\n",
       " \"((RBF({'lengthscale': 1.0, 'variance': 1.0}) * Constant({'variance': 1.0})) + (WhiteNoise({'variance': 1.0}) + Periodic({'period': 1.0, 'variance': 1.0, 'lengthscale': 1.0})))\": 64.88260356207232,\n",
       " \"((RBF({'lengthscale': 1.0, 'variance': 1.0}) * Constant({'variance': 1.0})) + (WhiteNoise({'variance': 1.0}) * Periodic({'period': 1.0, 'variance': 1.0, 'lengthscale': 1.0})))\": 53.40759869755421,\n",
       " \"((RBF({'lengthscale': 1.0, 'variance': 1.0}) * Constant({'variance': 1.0})) + Constant({'variance': 1.0}))\": 59.0383991249162,\n",
       " \"((RBF({'lengthscale': 1.0, 'variance': 1.0}) * Constant({'variance': 1.0})) + (WhiteNoise({'variance': 1.0}) + Constant({'variance': 1.0})))\": 66.57193850320515,\n",
       " \"((RBF({'lengthscale': 1.0, 'variance': 1.0}) * Constant({'variance': 1.0})) + (WhiteNoise({'variance': 1.0}) * Constant({'variance': 1.0})))\": 68.81443978784768,\n",
       " \"(((RBF({'lengthscale': 1.0, 'variance': 1.0}) * RBF({'lengthscale': 1.0, 'variance': 1.0})) + WhiteNoise({'variance': 1.0})) + RBF({'lengthscale': 1.0, 'variance': 1.0}))\": 74.74235394342945,\n",
       " \"(((RBF({'lengthscale': 1.0, 'variance': 1.0}) * RBF({'lengthscale': 1.0, 'variance': 1.0})) + WhiteNoise({'variance': 1.0})) * RBF({'lengthscale': 1.0, 'variance': 1.0}))\": 46.80650676760189,\n",
       " \"(((RBF({'lengthscale': 1.0, 'variance': 1.0}) * RBF({'lengthscale': 1.0, 'variance': 1.0})) + WhiteNoise({'variance': 1.0})) + Linear({'variances': 1.0}))\": 76.09228159045628,\n",
       " \"(((RBF({'lengthscale': 1.0, 'variance': 1.0}) * RBF({'lengthscale': 1.0, 'variance': 1.0})) + WhiteNoise({'variance': 1.0})) * Linear({'variances': 1.0}))\": 46.4235740483787,\n",
       " \"(((RBF({'lengthscale': 1.0, 'variance': 1.0}) * RBF({'lengthscale': 1.0, 'variance': 1.0})) + WhiteNoise({'variance': 1.0})) + Periodic({'period': 1.0, 'variance': 1.0, 'lengthscale': 1.0}))\": 73.01323625851758,\n",
       " \"(((RBF({'lengthscale': 1.0, 'variance': 1.0}) * RBF({'lengthscale': 1.0, 'variance': 1.0})) + WhiteNoise({'variance': 1.0})) * Periodic({'period': 1.0, 'variance': 1.0, 'lengthscale': 1.0}))\": 80.78042807991933,\n",
       " \"(((RBF({'lengthscale': 1.0, 'variance': 1.0}) * RBF({'lengthscale': 1.0, 'variance': 1.0})) + WhiteNoise({'variance': 1.0})) + WhiteNoise({'variance': 1.0}))\": 67.92474948475281,\n",
       " \"(((RBF({'lengthscale': 1.0, 'variance': 1.0}) * RBF({'lengthscale': 1.0, 'variance': 1.0})) + WhiteNoise({'variance': 1.0})) * WhiteNoise({'variance': 1.0}))\": 45.27626887319754,\n",
       " \"(((RBF({'lengthscale': 1.0, 'variance': 1.0}) * RBF({'lengthscale': 1.0, 'variance': 1.0})) + WhiteNoise({'variance': 1.0})) + Constant({'variance': 1.0}))\": 77.68475359724492,\n",
       " \"(((RBF({'lengthscale': 1.0, 'variance': 1.0}) * RBF({'lengthscale': 1.0, 'variance': 1.0})) + WhiteNoise({'variance': 1.0})) * Constant({'variance': 1.0}))\": 47.67353347784242,\n",
       " \"(((RBF({'lengthscale': 1.0, 'variance': 1.0}) * RBF({'lengthscale': 1.0, 'variance': 1.0})) + RBF({'lengthscale': 1.0, 'variance': 1.0})) + WhiteNoise({'variance': 1.0}))\": 74.74235394342776,\n",
       " \"(((RBF({'lengthscale': 1.0, 'variance': 1.0}) * RBF({'lengthscale': 1.0, 'variance': 1.0})) * RBF({'lengthscale': 1.0, 'variance': 1.0})) + WhiteNoise({'variance': 1.0}))\": 70.09301053581547,\n",
       " \"(((RBF({'lengthscale': 1.0, 'variance': 1.0}) * RBF({'lengthscale': 1.0, 'variance': 1.0})) + Linear({'variances': 1.0})) + WhiteNoise({'variance': 1.0}))\": 76.09228158917244,\n",
       " \"(((RBF({'lengthscale': 1.0, 'variance': 1.0}) * RBF({'lengthscale': 1.0, 'variance': 1.0})) * Linear({'variances': 1.0})) + WhiteNoise({'variance': 1.0}))\": 47.838610024435226,\n",
       " \"(((RBF({'lengthscale': 1.0, 'variance': 1.0}) * RBF({'lengthscale': 1.0, 'variance': 1.0})) + Periodic({'period': 1.0, 'variance': 1.0, 'lengthscale': 1.0})) + WhiteNoise({'variance': 1.0}))\": 73.01323625851758,\n",
       " \"(((RBF({'lengthscale': 1.0, 'variance': 1.0}) * RBF({'lengthscale': 1.0, 'variance': 1.0})) * Periodic({'period': 1.0, 'variance': 1.0, 'lengthscale': 1.0})) + WhiteNoise({'variance': 1.0}))\": 49.58065184009543,\n",
       " \"(((RBF({'lengthscale': 1.0, 'variance': 1.0}) * RBF({'lengthscale': 1.0, 'variance': 1.0})) * WhiteNoise({'variance': 1.0})) + WhiteNoise({'variance': 1.0}))\": 45.19745259510253,\n",
       " \"(((RBF({'lengthscale': 1.0, 'variance': 1.0}) * RBF({'lengthscale': 1.0, 'variance': 1.0})) + Constant({'variance': 1.0})) + WhiteNoise({'variance': 1.0}))\": 77.68475359723801,\n",
       " \"(((RBF({'lengthscale': 1.0, 'variance': 1.0}) * RBF({'lengthscale': 1.0, 'variance': 1.0})) * Constant({'variance': 1.0})) + WhiteNoise({'variance': 1.0}))\": 70.42803921529224,\n",
       " \"((Linear({'variances': 1.0}) * RBF({'lengthscale': 1.0, 'variance': 1.0})) + WhiteNoise({'variance': 1.0}))\": 45.04448222990287,\n",
       " \"(((RBF({'lengthscale': 1.0, 'variance': 1.0}) + Linear({'variances': 1.0})) * RBF({'lengthscale': 1.0, 'variance': 1.0})) + WhiteNoise({'variance': 1.0}))\": 67.90580812829826,\n",
       " \"(((RBF({'lengthscale': 1.0, 'variance': 1.0}) * Linear({'variances': 1.0})) * RBF({'lengthscale': 1.0, 'variance': 1.0})) + WhiteNoise({'variance': 1.0}))\": 47.83861002444455,\n",
       " \"((Periodic({'period': 1.0, 'variance': 1.0, 'lengthscale': 1.0}) * RBF({'lengthscale': 1.0, 'variance': 1.0})) + WhiteNoise({'variance': 1.0}))\": 71.39226367537248,\n",
       " \"(((RBF({'lengthscale': 1.0, 'variance': 1.0}) + Periodic({'period': 1.0, 'variance': 1.0, 'lengthscale': 1.0})) * RBF({'lengthscale': 1.0, 'variance': 1.0})) + WhiteNoise({'variance': 1.0}))\": 62.868323739120356,\n",
       " \"(((RBF({'lengthscale': 1.0, 'variance': 1.0}) * Periodic({'period': 1.0, 'variance': 1.0, 'lengthscale': 1.0})) * RBF({'lengthscale': 1.0, 'variance': 1.0})) + WhiteNoise({'variance': 1.0}))\": 49.58065184009543,\n",
       " \"((WhiteNoise({'variance': 1.0}) * RBF({'lengthscale': 1.0, 'variance': 1.0})) + WhiteNoise({'variance': 1.0}))\": 45.15313386978509,\n",
       " \"(((RBF({'lengthscale': 1.0, 'variance': 1.0}) + WhiteNoise({'variance': 1.0})) * RBF({'lengthscale': 1.0, 'variance': 1.0})) + WhiteNoise({'variance': 1.0}))\": 45.79560245864765,\n",
       " \"(((RBF({'lengthscale': 1.0, 'variance': 1.0}) * WhiteNoise({'variance': 1.0})) * RBF({'lengthscale': 1.0, 'variance': 1.0})) + WhiteNoise({'variance': 1.0}))\": 45.19745259510253,\n",
       " \"((Constant({'variance': 1.0}) * RBF({'lengthscale': 1.0, 'variance': 1.0})) + WhiteNoise({'variance': 1.0}))\": 79.78150800030488,\n",
       " \"(((RBF({'lengthscale': 1.0, 'variance': 1.0}) + Constant({'variance': 1.0})) * RBF({'lengthscale': 1.0, 'variance': 1.0})) + WhiteNoise({'variance': 1.0}))\": 71.29983476363232,\n",
       " \"((RBF({'lengthscale': 1.0, 'variance': 1.0}) * (RBF({'lengthscale': 1.0, 'variance': 1.0}) + Linear({'variances': 1.0}))) + WhiteNoise({'variance': 1.0}))\": 67.90580812829826,\n",
       " \"((RBF({'lengthscale': 1.0, 'variance': 1.0}) * (RBF({'lengthscale': 1.0, 'variance': 1.0}) * Linear({'variances': 1.0}))) + WhiteNoise({'variance': 1.0}))\": 47.838610024435226,\n",
       " \"((RBF({'lengthscale': 1.0, 'variance': 1.0}) * (RBF({'lengthscale': 1.0, 'variance': 1.0}) + Periodic({'period': 1.0, 'variance': 1.0, 'lengthscale': 1.0}))) + WhiteNoise({'variance': 1.0}))\": 62.868323739120356,\n",
       " \"((RBF({'lengthscale': 1.0, 'variance': 1.0}) * (RBF({'lengthscale': 1.0, 'variance': 1.0}) * Periodic({'period': 1.0, 'variance': 1.0, 'lengthscale': 1.0}))) + WhiteNoise({'variance': 1.0}))\": 49.58065184009543,\n",
       " \"((RBF({'lengthscale': 1.0, 'variance': 1.0}) * (RBF({'lengthscale': 1.0, 'variance': 1.0}) + WhiteNoise({'variance': 1.0}))) + WhiteNoise({'variance': 1.0}))\": 45.795602201939076,\n",
       " \"((RBF({'lengthscale': 1.0, 'variance': 1.0}) * (RBF({'lengthscale': 1.0, 'variance': 1.0}) * WhiteNoise({'variance': 1.0}))) + WhiteNoise({'variance': 1.0}))\": 45.19745259510253,\n",
       " \"((RBF({'lengthscale': 1.0, 'variance': 1.0}) * (RBF({'lengthscale': 1.0, 'variance': 1.0}) + Constant({'variance': 1.0}))) + WhiteNoise({'variance': 1.0}))\": 71.29983476363232,\n",
       " \"((RBF({'lengthscale': 1.0, 'variance': 1.0}) * (RBF({'lengthscale': 1.0, 'variance': 1.0}) * Constant({'variance': 1.0}))) + WhiteNoise({'variance': 1.0}))\": 70.42803921529224,\n",
       " \"((RBF({'lengthscale': 1.0, 'variance': 1.0}) * RBF({'lengthscale': 1.0, 'variance': 1.0})) + RBF({'lengthscale': 1.0, 'variance': 1.0}))\": 66.2234440887453,\n",
       " \"((RBF({'lengthscale': 1.0, 'variance': 1.0}) * RBF({'lengthscale': 1.0, 'variance': 1.0})) + (WhiteNoise({'variance': 1.0}) + RBF({'lengthscale': 1.0, 'variance': 1.0})))\": 74.74235394342945,\n",
       " \"((RBF({'lengthscale': 1.0, 'variance': 1.0}) * RBF({'lengthscale': 1.0, 'variance': 1.0})) + (WhiteNoise({'variance': 1.0}) * RBF({'lengthscale': 1.0, 'variance': 1.0})))\": 78.7160155349919,\n",
       " \"((RBF({'lengthscale': 1.0, 'variance': 1.0}) * RBF({'lengthscale': 1.0, 'variance': 1.0})) + Linear({'variances': 1.0}))\": 75.31084133915337,\n",
       " \"((RBF({'lengthscale': 1.0, 'variance': 1.0}) * RBF({'lengthscale': 1.0, 'variance': 1.0})) + (WhiteNoise({'variance': 1.0}) + Linear({'variances': 1.0})))\": 76.09228159045628,\n",
       " \"((RBF({'lengthscale': 1.0, 'variance': 1.0}) * RBF({'lengthscale': 1.0, 'variance': 1.0})) + (WhiteNoise({'variance': 1.0}) * Linear({'variances': 1.0})))\": 80.59647412272366,\n",
       " \"((RBF({'lengthscale': 1.0, 'variance': 1.0}) * RBF({'lengthscale': 1.0, 'variance': 1.0})) + Periodic({'period': 1.0, 'variance': 1.0, 'lengthscale': 1.0}))\": 62.66519536551679,\n",
       " \"((RBF({'lengthscale': 1.0, 'variance': 1.0}) * RBF({'lengthscale': 1.0, 'variance': 1.0})) + (WhiteNoise({'variance': 1.0}) + Periodic({'period': 1.0, 'variance': 1.0, 'lengthscale': 1.0})))\": 73.01323625851758,\n",
       " \"((RBF({'lengthscale': 1.0, 'variance': 1.0}) * RBF({'lengthscale': 1.0, 'variance': 1.0})) + (WhiteNoise({'variance': 1.0}) * Periodic({'period': 1.0, 'variance': 1.0, 'lengthscale': 1.0})))\": 82.21573724953562,\n",
       " \"((RBF({'lengthscale': 1.0, 'variance': 1.0}) * RBF({'lengthscale': 1.0, 'variance': 1.0})) + Constant({'variance': 1.0}))\": 76.92846488306013,\n",
       " \"((RBF({'lengthscale': 1.0, 'variance': 1.0}) * RBF({'lengthscale': 1.0, 'variance': 1.0})) + (WhiteNoise({'variance': 1.0}) + Constant({'variance': 1.0})))\": 77.68475359724492,\n",
       " \"((RBF({'lengthscale': 1.0, 'variance': 1.0}) * RBF({'lengthscale': 1.0, 'variance': 1.0})) + (WhiteNoise({'variance': 1.0}) * Constant({'variance': 1.0})))\": 78.71601559605344}"
      ]
     },
     "execution_count": 21,
     "metadata": {},
     "output_type": "execute_result"
    }
   ],
   "source": [
    "evals"
   ]
  },
  {
   "cell_type": "code",
   "execution_count": null,
   "id": "bed7a77c",
   "metadata": {},
   "outputs": [],
   "source": []
  }
 ],
 "metadata": {
  "kernelspec": {
   "display_name": "3.12.2",
   "language": "python",
   "name": "python3"
  },
  "language_info": {
   "codemirror_mode": {
    "name": "ipython",
    "version": 3
   },
   "file_extension": ".py",
   "mimetype": "text/x-python",
   "name": "python",
   "nbconvert_exporter": "python",
   "pygments_lexer": "ipython3",
   "version": "3.12.2"
  }
 },
 "nbformat": 4,
 "nbformat_minor": 5
}
