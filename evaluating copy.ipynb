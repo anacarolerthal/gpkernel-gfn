{
 "cells": [
  {
   "cell_type": "code",
   "execution_count": 1,
   "id": "3ac810e0",
   "metadata": {},
   "outputs": [],
   "source": [
    "import GPy\n",
    "import numpy as np\n",
    "import matplotlib.pyplot as plt\n",
    "import utils\n",
    "from functools import partial\n",
    "from utils import KernelFunction, KernelEnvironment, log_likelihood_reward\n",
    "from utils import plot_kernel_function, compare_kernels\n",
    "from gflownet import GFlowNet "
   ]
  },
  {
   "cell_type": "code",
   "execution_count": 2,
   "id": "dc86eab1",
   "metadata": {},
   "outputs": [],
   "source": [
    "import torch.nn.functional as F\n",
    "from torch.distributions import Categorical\n",
    "import torch"
   ]
  },
  {
   "cell_type": "code",
   "execution_count": 3,
   "id": "61db28b2",
   "metadata": {},
   "outputs": [],
   "source": [
    "from utils import ForwardPolicy, BackwardPolicy\n",
    "import random"
   ]
  },
  {
   "cell_type": "code",
   "execution_count": null,
   "id": "8a90bc4e",
   "metadata": {},
   "outputs": [],
   "source": []
  },
  {
   "cell_type": "code",
   "execution_count": 4,
   "id": "b9c27061",
   "metadata": {},
   "outputs": [],
   "source": [
    "def create_env(batch_size=64):\n",
    "    return KernelEnvironment(\n",
    "    batch_size=batch_size,\n",
    "    max_trajectory_length=MAX_LEN,\n",
    "    log_reward=log_reward_fn\n",
    ")\n",
    "\n",
    "def create_env(batch_size=64):\n",
    "    return KernelEnvironment(\n",
    "    batch_size=batch_size,\n",
    "    max_trajectory_length=MAX_LEN,\n",
    "    log_reward=log_reward_fn\n",
    ")"
   ]
  },
  {
   "cell_type": "code",
   "execution_count": 5,
   "id": "4cf9f2c2",
   "metadata": {},
   "outputs": [],
   "source": [
    "def randomize_hyperparameters(kernel: KernelFunction):\n",
    "    \"\"\"\n",
    "    Recursively traverses a KernelFunction object and randomly modifies the\n",
    "    hyperparameters of its base components in a reasonable range.\n",
    "    \n",
    "    Args:\n",
    "        kernel (KernelFunction): The kernel object to modify in-place.\n",
    "    \"\"\"\n",
    "    # Base case: If this is a base kernel (like RBF, Linear), modify its params.\n",
    "    # A base kernel has no children.\n",
    "    if not kernel.children:\n",
    "        if kernel.hyperparams:\n",
    "            print(f\"  -> Randomizing '{kernel.name}' params...\")\n",
    "            for param, value in kernel.hyperparams.items():\n",
    "                # Define a scaling factor to adjust the parameter.\n",
    "                # e.g., random.uniform(0.5, 1.5) will change the value\n",
    "                # by -50% to +50% of its original value.\n",
    "                scale_factor = random.uniform(0.5, 1.5)\n",
    "                new_value = value * scale_factor\n",
    "                \n",
    "                # Update the hyperparameter in the dictionary, rounding for neatness\n",
    "                kernel.hyperparams[param] = round(new_value, 3)\n",
    "\n",
    "    # Recursive step: If this is a composite kernel (Sum, Product),\n",
    "    # call this function on each of its children.\n",
    "    else:\n",
    "        for child in kernel.children:\n",
    "            randomize_hyperparameters(child)\n",
    "\n",
    "def create_random_kernel():\n",
    "    \"\"\"\n",
    "    Creates a random kernel function.\n",
    "    \"\"\"\n",
    "    # Create a series of actions from a uniform distribution\n",
    "    env = KernelEnvironment(\n",
    "        batch_size=1,\n",
    "        max_trajectory_length=4,\n",
    "        log_reward=log_likelihood_reward\n",
    "    )\n",
    "    n = env.action_space_size  \n",
    "    logits = torch.ones(n) \n",
    "   \n",
    "\n",
    "    for i in range(4):\n",
    "        if i == 0:\n",
    "            #prevent the first action from being a stop (-1)\n",
    "            logits[-1] = -torch.inf\n",
    "            dist = Categorical(logits=logits)\n",
    "            actions = dist.sample((1,))  # Creates a 1D tensor of shape [1]\n",
    "        else:\n",
    "            logits[-1] = 1\n",
    "            dist = Categorical(logits=logits)\n",
    "            actions = dist.sample((1,)) # Creates a 1D tensor of shape [1]\n",
    "\n",
    "        env.apply(actions)\n",
    "    \n",
    "    KFn = env.state[0]\n",
    "    randomize_hyperparameters(KFn)\n",
    "    \n",
    "    return KFn\n"
   ]
  },
  {
   "cell_type": "code",
   "execution_count": 6,
   "id": "08a880fa",
   "metadata": {},
   "outputs": [
    {
     "name": "stdout",
     "output_type": "stream",
     "text": [
      "  -> Randomizing 'Constant' params...\n",
      "  -> Randomizing 'Constant' params...\n",
      "  -> Randomizing 'RBF' params...\n",
      "True Kernel: ((Constant({'variance': 1.343}) * Constant({'variance': 0.792})) + RBF({'lengthscale': 1.0, 'variance': 0.527})) Log Marginal Likelihood: 49.044680206638176\n"
     ]
    },
    {
     "data": {
      "text/plain": [
       "<matplotlib.collections.PathCollection at 0x7f25ea5082d0>"
      ]
     },
     "execution_count": 6,
     "metadata": {},
     "output_type": "execute_result"
    },
    {
     "data": {
      "image/png": "[encoded data removed]",
      "text/plain": [
       "<Figure size 640x480 with 1 Axes>"
      ]
     },
     "metadata": {},
     "output_type": "display_data"
    }
   ],
   "source": [
    "ll = -1\n",
    "while ll < 0:\n",
    "    true_kernel = create_random_kernel()\n",
    "    X, Y, true_kernel_str = utils.generate_gp_data(true_kernel, input_dim=1, n_points=30, noise_var=1e-4)\n",
    "    X_test, Y_test, _ = utils.generate_gp_data(true_kernel, input_dim=1, n_points=50, noise_var=1e-4)\n",
    "    ll = utils.evaluate_likelihood(true_kernel, X, Y, runtime=False)\n",
    "\n",
    "print(\"True Kernel:\", true_kernel_str, \"Log Marginal Likelihood:\", utils.evaluate_likelihood(true_kernel, X, Y, runtime=False))\n",
    "\n",
    "plt.scatter(X, Y, color='black', s=10, label='Data Points')"
   ]
  },
  {
   "cell_type": "code",
   "execution_count": 7,
   "id": "cdfbe01a",
   "metadata": {},
   "outputs": [
    {
     "name": "stdout",
     "output_type": "stream",
     "text": [
      "  -> Randomizing 'Periodic' params...\n",
      "  -> Randomizing 'Constant' params...\n",
      "  -> Randomizing 'Periodic' params...\n",
      "True Kernel: ((Periodic({'period': 0.794, 'variance': 0.849, 'lengthscale': 1.335}) * Constant({'variance': 0.884})) + Periodic({'period': 1.165, 'variance': 0.914, 'lengthscale': 1.009})) Log Marginal Likelihood: 52.031505304162955\n"
     ]
    }
   ],
   "source": [
    "candidate_kernel = create_random_kernel()\n",
    "print(\"True Kernel:\", candidate_kernel, \"Log Marginal Likelihood:\", utils.evaluate_likelihood(candidate_kernel, X, Y, runtime=False))"
   ]
  },
  {
   "cell_type": "code",
   "execution_count": 8,
   "id": "becd7077",
   "metadata": {},
   "outputs": [],
   "source": [
    "from utils import train\n",
    "\n",
    "epochs = 100\n",
    "BATCH_SIZE = 64\n",
    "MAX_LEN = 4\n",
    "lr = 1e-3\n",
    "\n",
    "log_reward_fn = partial(utils.log_likelihood_reward, X, Y)\n",
    "env = create_env()\n",
    "\n",
    "forward_model = ForwardPolicy(input_dim=MAX_LEN, output_dim=env.action_space_size, epsilon=0.5)\n",
    "backward_model = BackwardPolicy()\n",
    "criterion = 'db'"
   ]
  },
  {
   "cell_type": "code",
   "execution_count": 9,
   "id": "05c30a5b",
   "metadata": {},
   "outputs": [
    {
     "name": "stderr",
     "output_type": "stream",
     "text": [
      "100%|██████████| 100/100 [00:46<00:00,  2.16it/s, loss=34.3]\n"
     ]
    }
   ],
   "source": [
    "gflownet = GFlowNet(\n",
    "    forward_flow=forward_model, \n",
    "    backward_flow=backward_model, \n",
    "    criterion=criterion \n",
    ")\n",
    "\n",
    "\n",
    "gflownet, losses = train(\n",
    "    gflownet=gflownet,\n",
    "    create_env=create_env,\n",
    "    epochs=epochs,\n",
    "    batch_size=BATCH_SIZE,\n",
    "    lr=lr,\n",
    "    min_eps=1e-2,\n",
    "    clamp_g= 10,\n",
    "    use_scheduler=True\n",
    ")"
   ]
  },
  {
   "cell_type": "code",
   "execution_count": 10,
   "id": "369a695f",
   "metadata": {},
   "outputs": [
    {
     "data": {
      "text/plain": [
       "294"
      ]
     },
     "execution_count": 10,
     "metadata": {},
     "output_type": "execute_result"
    }
   ],
   "source": [
    "len(utils._likelihood_cache)"
   ]
  },
  {
   "cell_type": "code",
   "execution_count": 17,
   "id": "b4c2fef9",
   "metadata": {},
   "outputs": [
    {
     "name": "stdout",
     "output_type": "stream",
     "text": [
      "\n",
      " Sampling 25 kernels from the trained model...\n",
      "Sample 1: ((Constant({'variance': 1.0}) * Linear({'variances': 1.0})) + RBF({'lengthscale': 1.0, 'variance': 1.0})), Reward: 12.10134561789539, Log Likelihood: 49.0343\n",
      "Sample 2: Periodic({'period': 1.0, 'variance': 1.0, 'lengthscale': 1.0}), Reward: 1.0141373317103657, Log Likelihood: -10.3836\n",
      "Sample 3: ((Constant({'variance': 1.0}) * Linear({'variances': 1.0})) * Linear({'variances': 1.0})), Reward: 1.278476280774937, Log Likelihood: -3.4157\n",
      "Sample 4: ((Periodic({'period': 1.0, 'variance': 1.0, 'lengthscale': 1.0}) * Constant({'variance': 1.0})) + Linear({'variances': 1.0})), Reward: 1.1769024172181601, Log Likelihood: -5.8372\n",
      "Sample 5: ((Constant({'variance': 1.0}) * Periodic({'period': 1.0, 'variance': 1.0, 'lengthscale': 1.0})) * Periodic({'period': 1.0, 'variance': 1.0, 'lengthscale': 1.0})), Reward: 1.0156193705518115, Log Likelihood: -10.3377\n",
      "Sample 6: ((RBF({'lengthscale': 1.0, 'variance': 1.0}) * Linear({'variances': 1.0})) + Linear({'variances': 1.0})), Reward: 3.3698263997870876, Log Likelihood: 21.2564\n",
      "Sample 7: ((Linear({'variances': 1.0}) * Linear({'variances': 1.0})) * Constant({'variance': 1.0})), Reward: 1.278476280774937, Log Likelihood: -3.4157\n",
      "Sample 8: ((Periodic({'period': 1.0, 'variance': 1.0, 'lengthscale': 1.0}) + Periodic({'period': 1.0, 'variance': 1.0, 'lengthscale': 1.0})) + Periodic({'period': 1.0, 'variance': 1.0, 'lengthscale': 1.0})), Reward: 1.0142470184100874, Log Likelihood: -10.3802\n",
      "Sample 9: ((Periodic({'period': 1.0, 'variance': 1.0, 'lengthscale': 1.0}) * RBF({'lengthscale': 1.0, 'variance': 1.0})) * Constant({'variance': 1.0})), Reward: 12.072820042128669, Log Likelihood: 48.9851\n",
      "Sample 10: ((Constant({'variance': 1.0}) * Linear({'variances': 1.0})) + Periodic({'period': 1.0, 'variance': 1.0, 'lengthscale': 1.0})), Reward: 1.1723829201052411, Log Likelihood: -5.9515\n",
      "Sample 11: ((Periodic({'period': 1.0, 'variance': 1.0, 'lengthscale': 1.0}) + Linear({'variances': 1.0})) * Periodic({'period': 1.0, 'variance': 1.0, 'lengthscale': 1.0})), Reward: 1.190502624534173, Log Likelihood: -5.4969\n",
      "Sample 12: ((RBF({'lengthscale': 1.0, 'variance': 1.0}) * Constant({'variance': 1.0})) + Constant({'variance': 1.0})), Reward: 12.107382073885486, Log Likelihood: 49.0447\n",
      "Sample 13: ((Constant({'variance': 1.0}) + Periodic({'period': 1.0, 'variance': 1.0, 'lengthscale': 1.0})) * Linear({'variances': 1.0})), Reward: 1.1768978544011415, Log Likelihood: -5.8373\n",
      "Sample 14: ((Linear({'variances': 1.0}) * RBF({'lengthscale': 1.0, 'variance': 1.0})) * Periodic({'period': 1.0, 'variance': 1.0, 'lengthscale': 1.0})), Reward: 3.3698027365860916, Log Likelihood: 21.2562\n",
      "Sample 15: ((Periodic({'period': 1.0, 'variance': 1.0, 'lengthscale': 1.0}) * Linear({'variances': 1.0})) * Linear({'variances': 1.0})), Reward: 2.262555149014131, Log Likelihood: 11.7476\n",
      "Sample 16: ((Linear({'variances': 1.0}) * Linear({'variances': 1.0})) + Constant({'variance': 1.0})), Reward: 1.2784757987840363, Log Likelihood: -3.4157\n",
      "Sample 17: Linear({'variances': 1.0}), Reward: 1.1769038493800956, Log Likelihood: -5.8372\n",
      "Sample 18: ((RBF({'lengthscale': 1.0, 'variance': 1.0}) + Periodic({'period': 1.0, 'variance': 1.0, 'lengthscale': 1.0})) * RBF({'lengthscale': 1.0, 'variance': 1.0})), Reward: 13.393164298052831, Log Likelihood: 51.1436\n",
      "Sample 19: ((Linear({'variances': 1.0}) * RBF({'lengthscale': 1.0, 'variance': 1.0})) * RBF({'lengthscale': 1.0, 'variance': 1.0})), Reward: 3.3698264045353583, Log Likelihood: 21.2564\n",
      "Sample 20: ((Constant({'variance': 1.0}) + RBF({'lengthscale': 1.0, 'variance': 1.0})) * RBF({'lengthscale': 1.0, 'variance': 1.0})), Reward: 12.07298330328187, Log Likelihood: 48.9854\n",
      "Sample 21: ((Constant({'variance': 1.0}) * Linear({'variances': 1.0})) * Linear({'variances': 1.0})), Reward: 1.278476280774937, Log Likelihood: -3.4157\n",
      "Sample 22: ((Constant({'variance': 1.0}) + RBF({'lengthscale': 1.0, 'variance': 1.0})) * Periodic({'period': 1.0, 'variance': 1.0, 'lengthscale': 1.0})), Reward: 12.107307657426622, Log Likelihood: 49.0446\n",
      "Sample 23: ((Periodic({'period': 1.0, 'variance': 1.0, 'lengthscale': 1.0}) * Linear({'variances': 1.0})) * Constant({'variance': 1.0})), Reward: 1.206603998484956, Log Likelihood: -5.1007\n",
      "Sample 24: ((Constant({'variance': 1.0}) * Constant({'variance': 1.0})) * Periodic({'period': 1.0, 'variance': 1.0, 'lengthscale': 1.0})), Reward: 1.01424495310281, Log Likelihood: -10.3803\n",
      "Sample 25: ((Linear({'variances': 1.0}) * Linear({'variances': 1.0})) * Periodic({'period': 1.0, 'variance': 1.0, 'lengthscale': 1.0})), Reward: 2.2625551490141342, Log Likelihood: 11.7476\n"
     ]
    }
   ],
   "source": [
    "# --- Sampling from the Trained GFlowNet ---\n",
    "print(\"\\n Sampling 25 kernels from the trained model...\")\n",
    "eval_env = KernelEnvironment(\n",
    "    batch_size=25,\n",
    "    max_trajectory_length=MAX_LEN,\n",
    "    log_reward=log_reward_fn\n",
    ")\n",
    "\n",
    "gflownet.eval()\n",
    "final_batch_ll = gflownet.sample(eval_env)\n",
    "\n",
    "# Expect to see kernels with high log likelihood\n",
    "for i, kernel in enumerate(final_batch_ll.state):\n",
    "    print(f\"Sample {i+1}: {kernel}, Reward: {1 / np.log(1 + np.exp(-0.05 * (utils.evaluate_likelihood(kernel, X, Y))))}, Log Likelihood: {utils.evaluate_likelihood(kernel, X_test, Y_test):.4f}\")"
   ]
  },
  {
   "cell_type": "code",
   "execution_count": 12,
   "id": "145bd33b",
   "metadata": {},
   "outputs": [
    {
     "name": "stdout",
     "output_type": "stream",
     "text": [
      "Total number of unique kernels sampled: 256\n"
     ]
    }
   ],
   "source": [
    "eval_env = KernelEnvironment(\n",
    "    batch_size=1000,\n",
    "    max_trajectory_length=MAX_LEN,\n",
    "    log_reward=log_reward_fn\n",
    ")\n",
    "\n",
    "gflownet.eval()\n",
    "final_batch_ll = gflownet.sample(eval_env)\n",
    "\n",
    "\n",
    "#Count different kernels AKA numbeer of modes\n",
    "kernel_counts = {}\n",
    "for kernel in final_batch_ll.state:\n",
    "    #only add the kernel if it is not already in the dictionary\n",
    "    kernel_str = str(kernel)\n",
    "    if kernel_str not in kernel_counts:\n",
    "        kernel_counts[kernel_str] = 1\n",
    "    else:\n",
    "        kernel_counts[kernel_str] += 1\n",
    "\n",
    "print(f\"Total number of unique kernels sampled: {len(kernel_counts)}\")\n",
    "\n"
   ]
  },
  {
   "cell_type": "code",
   "execution_count": 13,
   "id": "d6b362a3",
   "metadata": {},
   "outputs": [],
   "source": [
    "from evaluation import calculate_l1_distance"
   ]
  },
  {
   "cell_type": "code",
   "execution_count": 14,
   "id": "052f30e7",
   "metadata": {},
   "outputs": [],
   "source": [
    "l1 = calculate_l1_distance(gflownet.forward_flow , KernelEnvironment, 4, X, Y)"
   ]
  },
  {
   "cell_type": "code",
   "execution_count": 15,
   "id": "09f0d99d",
   "metadata": {},
   "outputs": [
    {
     "data": {
      "text/plain": [
       "0.9778946999151688"
      ]
     },
     "execution_count": 15,
     "metadata": {},
     "output_type": "execute_result"
    }
   ],
   "source": [
    "l1"
   ]
  },
  {
   "cell_type": "code",
   "execution_count": null,
   "id": "f056a234",
   "metadata": {},
   "outputs": [],
   "source": []
  },
  {
   "cell_type": "code",
   "execution_count": 16,
   "id": "a37a690d",
   "metadata": {},
   "outputs": [
    {
     "name": "stdout",
     "output_type": "stream",
     "text": [
      "Total reward calls: 294\n"
     ]
    }
   ],
   "source": [
    "print(f\"Total reward calls: {len(utils._likelihood_cache)}\")\n",
    "#utils._likelihood_cache = {}  # Clear the cache after sampling"
   ]
  },
  {
   "cell_type": "code",
   "execution_count": null,
   "id": "0c01e680",
   "metadata": {},
   "outputs": [],
   "source": []
  }
 ],
 "metadata": {
  "kernelspec": {
   "display_name": "gpy_env",
   "language": "python",
   "name": "python3"
  },
  "language_info": {
   "codemirror_mode": {
    "name": "ipython",
    "version": 3
   },
   "file_extension": ".py",
   "mimetype": "text/x-python",
   "name": "python",
   "nbconvert_exporter": "python",
   "pygments_lexer": "ipython3",
   "version": "3.11.0"
  }
 },
 "nbformat": 4,
 "nbformat_minor": 5
}
