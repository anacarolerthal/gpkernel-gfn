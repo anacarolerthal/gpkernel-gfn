{
 "cells": [
  {
   "cell_type": "code",
   "execution_count": 1,
   "id": "3ac810e0",
   "metadata": {},
   "outputs": [],
   "source": [
    "import GPy\n",
    "import numpy as np\n",
    "import matplotlib.pyplot as plt\n",
    "import utils\n",
    "from functools import partial\n",
    "from utils import KernelFunction, KernelEnvironment\n",
    "from utils import plot_kernel_function, compare_kernels\n",
    "from gflownet import GFlowNet "
   ]
  },
  {
   "cell_type": "code",
   "execution_count": 2,
   "id": "dc86eab1",
   "metadata": {},
   "outputs": [],
   "source": [
    "import torch.nn.functional as F\n",
    "from torch.distributions import Categorical\n",
    "import torch"
   ]
  },
  {
   "cell_type": "code",
   "execution_count": 3,
   "id": "61db28b2",
   "metadata": {},
   "outputs": [],
   "source": [
    "from utils import ForwardPolicy, BackwardPolicy\n",
    "import random"
   ]
  },
  {
   "cell_type": "code",
   "execution_count": 4,
   "id": "8a90bc4e",
   "metadata": {},
   "outputs": [],
   "source": [
    "def set_seed(seed):\n",
    "    \"\"\"\n",
    "    Sets the seed for reproducibility.\n",
    "    \"\"\"\n",
    "    torch.manual_seed(seed)\n",
    "    torch.cuda.manual_seed_all(seed) # For all GPUs\n",
    "    np.random.seed(seed)\n",
    "    random.seed(seed)\n",
    "    \n",
    "    # These two lines are for full reproducibility with CUDA\n",
    "    torch.backends.cudnn.deterministic = True\n",
    "    torch.backends.cudnn.benchmark = False\n",
    "\n",
    "# --- Call this at the start of your script ---\n",
    "set_seed(42)"
   ]
  },
  {
   "cell_type": "code",
   "execution_count": 5,
   "id": "b9c27061",
   "metadata": {},
   "outputs": [],
   "source": [
    "global reward_calls\n",
    "reward_calls = 0\n",
    "def log_likelihood_reward(X, Y, env: 'KernelEnvironment'):\n",
    "    \"\"\"\n",
    "    Computes the log marginal likelihood of each kernel in the environment\n",
    "    given the data (X, Y).\n",
    "    \"\"\"\n",
    "    global reward_calls\n",
    "    reward_calls += env.batch_size\n",
    "    rewards = []\n",
    "    for k in env.state: \n",
    "        log_likelihood = utils.evaluate_likelihood(k, X, Y)\n",
    "        #print(np.log(1 + np.exp(-0.5 * (log_likelihood - 5))))\n",
    "        reward = 1 / np.log(1 + np.exp(-0.05 * (log_likelihood))) \n",
    "        if reward < 1e-10:\n",
    "            print(\"Warning: Reward is too small, setting to 1e-10\")\n",
    "            reward = 1e-10\n",
    "        rewards.append(reward if log_likelihood is not None else 1e-10)\n",
    "        #print(reward, log_likelihood)\n",
    "        #rewards.append(log_likelihood**(3/2) if log_likelihood is not None else 1e-10)\n",
    "    return torch.tensor(rewards, dtype=torch.float32) \n",
    "\n",
    "def create_env(batch_size=64):\n",
    "    return KernelEnvironment(\n",
    "    batch_size=batch_size,\n",
    "    max_trajectory_length=MAX_LEN,\n",
    "    log_reward=log_reward_fn\n",
    ")\n",
    "\n",
    "def create_env(batch_size=64):\n",
    "    return KernelEnvironment(\n",
    "    batch_size=batch_size,\n",
    "    max_trajectory_length=MAX_LEN,\n",
    "    log_reward=log_reward_fn\n",
    ")"
   ]
  },
  {
   "cell_type": "code",
   "execution_count": 6,
   "id": "4cf9f2c2",
   "metadata": {},
   "outputs": [],
   "source": [
    "def randomize_hyperparameters(kernel: KernelFunction):\n",
    "    \"\"\"\n",
    "    Recursively traverses a KernelFunction object and randomly modifies the\n",
    "    hyperparameters of its base components in a reasonable range.\n",
    "    \n",
    "    Args:\n",
    "        kernel (KernelFunction): The kernel object to modify in-place.\n",
    "    \"\"\"\n",
    "    # Base case: If this is a base kernel (like RBF, Linear), modify its params.\n",
    "    # A base kernel has no children.\n",
    "    if not kernel.children:\n",
    "        if kernel.hyperparams:\n",
    "            print(f\"  -> Randomizing '{kernel.name}' params...\")\n",
    "            for param, value in kernel.hyperparams.items():\n",
    "                # Define a scaling factor to adjust the parameter.\n",
    "                # e.g., random.uniform(0.5, 1.5) will change the value\n",
    "                # by -50% to +50% of its original value.\n",
    "                scale_factor = random.uniform(0.5, 1.5)\n",
    "                new_value = value * scale_factor\n",
    "                \n",
    "                # Update the hyperparameter in the dictionary, rounding for neatness\n",
    "                kernel.hyperparams[param] = round(new_value, 3)\n",
    "\n",
    "    # Recursive step: If this is a composite kernel (Sum, Product),\n",
    "    # call this function on each of its children.\n",
    "    else:\n",
    "        for child in kernel.children:\n",
    "            randomize_hyperparameters(child)\n",
    "\n",
    "def create_random_kernel():\n",
    "    \"\"\"\n",
    "    Creates a random kernel function.\n",
    "    \"\"\"\n",
    "    # Create a series of actions from a uniform distribution\n",
    "    env = KernelEnvironment(\n",
    "        batch_size=1,\n",
    "        max_trajectory_length=4,\n",
    "        log_reward=log_likelihood_reward\n",
    "    )\n",
    "    n = env.action_space_size  \n",
    "    logits = torch.ones(n) \n",
    "   \n",
    "\n",
    "    for i in range(4):\n",
    "        if i == 0:\n",
    "            #prevent the first action from being a stop (-1)\n",
    "            logits[-1] = -torch.inf\n",
    "            dist = Categorical(logits=logits)\n",
    "            actions = dist.sample((1,))  # Creates a 1D tensor of shape [1]\n",
    "        else:\n",
    "            logits[-1] = 1\n",
    "            dist = Categorical(logits=logits)\n",
    "            actions = dist.sample((1,)) # Creates a 1D tensor of shape [1]\n",
    "\n",
    "        env.apply(actions)\n",
    "    \n",
    "    KFn = env.state[0]\n",
    "    randomize_hyperparameters(KFn)\n",
    "    \n",
    "    return KFn\n"
   ]
  },
  {
   "cell_type": "code",
   "execution_count": 7,
   "id": "08a880fa",
   "metadata": {},
   "outputs": [
    {
     "name": "stdout",
     "output_type": "stream",
     "text": [
      "  -> Randomizing 'Constant' params...\n",
      "  -> Randomizing 'Constant' params...\n",
      "  -> Randomizing 'Periodic' params...\n",
      "True Kernel: ((Constant({'variance': 1.139}) * Constant({'variance': 0.525})) * Periodic({'period': 0.775, 'variance': 0.723, 'lengthscale': 1.236})) Log Marginal Likelihood: 77.55666898311783\n"
     ]
    },
    {
     "data": {
      "text/plain": [
       "<matplotlib.collections.PathCollection at 0x7f82a1f7f750>"
      ]
     },
     "execution_count": 7,
     "metadata": {},
     "output_type": "execute_result"
    },
    {
     "data": {
      "image/png": "[encoded data removed]",
      "text/plain": [
       "<Figure size 640x480 with 1 Axes>"
      ]
     },
     "metadata": {},
     "output_type": "display_data"
    }
   ],
   "source": [
    "ll = -1\n",
    "while ll < 0:\n",
    "    true_kernel = create_random_kernel()\n",
    "    X, Y, true_kernel_str = utils.generate_gp_data(true_kernel, input_dim=1, n_points=30, noise_var=1e-4)\n",
    "    X_test, Y_test, _ = utils.generate_gp_data(true_kernel, input_dim=1, n_points=50, noise_var=1e-4)\n",
    "    ll = utils.evaluate_likelihood(true_kernel, X, Y, runtime=False)\n",
    "\n",
    "print(\"True Kernel:\", true_kernel_str, \"Log Marginal Likelihood:\", utils.evaluate_likelihood(true_kernel, X, Y, runtime=False))\n",
    "\n",
    "plt.scatter(X, Y, color='black', s=10, label='Data Points')"
   ]
  },
  {
   "cell_type": "code",
   "execution_count": 8,
   "id": "cdfbe01a",
   "metadata": {},
   "outputs": [
    {
     "name": "stdout",
     "output_type": "stream",
     "text": [
      "  -> Randomizing 'Linear' params...\n",
      "  -> Randomizing 'Constant' params...\n",
      "  -> Randomizing 'Periodic' params...\n",
      "True Kernel: ((Linear({'variances': 1.177}) * Constant({'variance': 1.392})) * Periodic({'period': 0.587, 'variance': 0.922, 'lengthscale': 0.53})) Log Marginal Likelihood: 17.607937853316905\n"
     ]
    }
   ],
   "source": [
    "candidate_kernel = create_random_kernel()\n",
    "print(\"True Kernel:\", candidate_kernel, \"Log Marginal Likelihood:\", utils.evaluate_likelihood(candidate_kernel, X, Y, runtime=False))"
   ]
  },
  {
   "cell_type": "code",
   "execution_count": 15,
   "id": "becd7077",
   "metadata": {},
   "outputs": [],
   "source": [
    "from utils import train\n",
    "\n",
    "epochs = 100\n",
    "BATCH_SIZE = 256\n",
    "MAX_LEN = 4\n",
    "lr = 1e-3\n",
    "\n",
    "log_reward_fn = partial(log_likelihood_reward, X, Y)\n",
    "env = create_env()\n",
    "\n",
    "forward_model = ForwardPolicy(input_dim=MAX_LEN, output_dim=env.action_space_size, epsilon=0.5)\n",
    "backward_model = BackwardPolicy()\n",
    "criterion = 'db'"
   ]
  },
  {
   "cell_type": "code",
   "execution_count": 13,
   "id": "b66a3d5e",
   "metadata": {},
   "outputs": [
    {
     "data": {
      "text/plain": [
       "26244"
      ]
     },
     "execution_count": 13,
     "metadata": {},
     "output_type": "execute_result"
    }
   ],
   "source": [
    "4 * env.action_space_size ** (5 -1)"
   ]
  },
  {
   "cell_type": "code",
   "execution_count": null,
   "id": "05c30a5b",
   "metadata": {},
   "outputs": [
    {
     "name": "stderr",
     "output_type": "stream",
     "text": [
      "  0%|          | 0/100 [00:00<?, ?it/s] /home/guilherme/miniconda3/envs/gpy_env/lib/python3.11/site-packages/GPy/kern/src/stationary.py:168: RuntimeWarning:overflow encountered in divide\n",
      " /home/guilherme/miniconda3/envs/gpy_env/lib/python3.11/site-packages/GPy/kern/src/rbf.py:52: RuntimeWarning:overflow encountered in square\n",
      " /home/guilherme/miniconda3/envs/gpy_env/lib/python3.11/site-packages/GPy/kern/src/rbf.py:178: RuntimeWarning:invalid value encountered in multiply\n",
      "  2%|▏         | 2/100 [00:38<29:07, 17.83s/it, loss=194]"
     ]
    }
   ],
   "source": [
    "gflownet = GFlowNet(\n",
    "    forward_flow=forward_model, \n",
    "    backward_flow=backward_model, \n",
    "    criterion=criterion \n",
    ")\n",
    "\n",
    "\n",
    "gflownet, losses = train(\n",
    "    gflownet=gflownet,\n",
    "    create_env=create_env,\n",
    "    epochs=epochs,\n",
    "    batch_size=BATCH_SIZE,\n",
    "    lr=lr,\n",
    "    min_eps=1e-2,\n",
    "    clamp_g= 1,\n",
    "    use_scheduler=True\n",
    ")"
   ]
  },
  {
   "cell_type": "code",
   "execution_count": null,
   "id": "b4c2fef9",
   "metadata": {},
   "outputs": [
    {
     "name": "stdout",
     "output_type": "stream",
     "text": [
      "\n",
      " Sampling 25 kernels from the trained model...\n",
      "Sample 1: RBF({'lengthscale': 1.0, 'variance': 1.0}), Reward: 2.8560823960795, Log Likelihood: 17.3857\n",
      "Sample 2: RBF({'lengthscale': 1.0, 'variance': 1.0}), Reward: 2.8560823960795, Log Likelihood: 17.3857\n",
      "Sample 3: RBF({'lengthscale': 1.0, 'variance': 1.0}), Reward: 2.8560823960795, Log Likelihood: 17.3857\n",
      "Sample 4: RBF({'lengthscale': 1.0, 'variance': 1.0}), Reward: 2.8560823960795, Log Likelihood: 17.3857\n",
      "Sample 5: RBF({'lengthscale': 1.0, 'variance': 1.0}), Reward: 2.8560823960795, Log Likelihood: 17.3857\n",
      "Sample 6: (((Linear({'variances': 1.0}) + RBF({'lengthscale': 1.0, 'variance': 1.0})) + RBF({'lengthscale': 1.0, 'variance': 1.0})) * RBF({'lengthscale': 1.0, 'variance': 1.0})), Reward: 2.0635321568167537, Log Likelihood: 9.4470\n",
      "Sample 7: RBF({'lengthscale': 1.0, 'variance': 1.0}), Reward: 2.8560823960795, Log Likelihood: 17.3857\n",
      "Sample 8: RBF({'lengthscale': 1.0, 'variance': 1.0}), Reward: 2.8560823960795, Log Likelihood: 17.3857\n",
      "Sample 9: RBF({'lengthscale': 1.0, 'variance': 1.0}), Reward: 2.8560823960795, Log Likelihood: 17.3857\n",
      "Sample 10: Linear({'variances': 1.0}), Reward: 2.0981108625242824, Log Likelihood: 9.8656\n",
      "Sample 11: RBF({'lengthscale': 1.0, 'variance': 1.0}), Reward: 2.8560823960795, Log Likelihood: 17.3857\n",
      "Sample 12: RBF({'lengthscale': 1.0, 'variance': 1.0}), Reward: 2.8560823960795, Log Likelihood: 17.3857\n",
      "Sample 13: RBF({'lengthscale': 1.0, 'variance': 1.0}), Reward: 2.8560823960795, Log Likelihood: 17.3857\n",
      "Sample 14: (RBF({'lengthscale': 1.0, 'variance': 1.0}) + RBF({'lengthscale': 1.0, 'variance': 1.0})), Reward: 2.3475611686271782, Log Likelihood: 12.6568\n",
      "Sample 15: RBF({'lengthscale': 1.0, 'variance': 1.0}), Reward: 2.8560823960795, Log Likelihood: 17.3857\n",
      "Sample 16: Linear({'variances': 1.0}), Reward: 2.0981108625242824, Log Likelihood: 9.8656\n",
      "Sample 17: Linear({'variances': 1.0}), Reward: 2.0981108625242824, Log Likelihood: 9.8656\n",
      "Sample 18: RBF({'lengthscale': 1.0, 'variance': 1.0}), Reward: 2.8560823960795, Log Likelihood: 17.3857\n",
      "Sample 19: RBF({'lengthscale': 1.0, 'variance': 1.0}), Reward: 2.8560823960795, Log Likelihood: 17.3857\n",
      "Sample 20: Linear({'variances': 1.0}), Reward: 2.0981108625242824, Log Likelihood: 9.8656\n",
      "Sample 21: Linear({'variances': 1.0}), Reward: 2.0981108625242824, Log Likelihood: 9.8656\n",
      "Sample 22: RBF({'lengthscale': 1.0, 'variance': 1.0}), Reward: 2.8560823960795, Log Likelihood: 17.3857\n",
      "Sample 23: Linear({'variances': 1.0}), Reward: 2.0981108625242824, Log Likelihood: 9.8656\n",
      "Sample 24: RBF({'lengthscale': 1.0, 'variance': 1.0}), Reward: 2.8560823960795, Log Likelihood: 17.3857\n",
      "Sample 25: RBF({'lengthscale': 1.0, 'variance': 1.0}), Reward: 2.8560823960795, Log Likelihood: 17.3857\n"
     ]
    }
   ],
   "source": [
    "# --- Sampling from the Trained GFlowNet ---\n",
    "print(\"\\n Sampling 25 kernels from the trained model...\")\n",
    "eval_env = KernelEnvironment(\n",
    "    batch_size=25,\n",
    "    max_trajectory_length=MAX_LEN,\n",
    "    log_reward=log_reward_fn\n",
    ")\n",
    "\n",
    "gflownet.eval()\n",
    "final_batch_ll = gflownet.sample(eval_env)\n",
    "\n",
    "# Expect to see kernels with high log likelihood\n",
    "for i, kernel in enumerate(final_batch_ll.state):\n",
    "    print(f\"Sample {i+1}: {kernel}, Reward: {1 / np.log(1 + np.exp(-0.05 * (utils.evaluate_likelihood(kernel, X, Y))))}, Log Likelihood: {utils.evaluate_likelihood(kernel, X_test, Y_test):.4f}\")"
   ]
  },
  {
   "cell_type": "code",
   "execution_count": null,
   "id": "145bd33b",
   "metadata": {},
   "outputs": [
    {
     "name": "stdout",
     "output_type": "stream",
     "text": [
      "Total number of unique kernels sampled: 76\n"
     ]
    }
   ],
   "source": [
    "eval_env = KernelEnvironment(\n",
    "    batch_size=1000,\n",
    "    max_trajectory_length=MAX_LEN,\n",
    "    log_reward=log_reward_fn\n",
    ")\n",
    "\n",
    "gflownet.eval()\n",
    "final_batch_ll = gflownet.sample(eval_env)\n",
    "\n",
    "\n",
    "#Count different kernels AKA numbeer of modes\n",
    "kernel_counts = {}\n",
    "for kernel in final_batch_ll.state:\n",
    "    #only add the kernel if it is not already in the dictionary\n",
    "    kernel_str = str(kernel)\n",
    "    if kernel_str not in kernel_counts:\n",
    "        kernel_counts[kernel_str] = 1\n",
    "    else:\n",
    "        kernel_counts[kernel_str] += 1\n",
    "\n",
    "print(f\"Total number of unique kernels sampled: {len(kernel_counts)}\")\n",
    "\n"
   ]
  },
  {
   "cell_type": "code",
   "execution_count": null,
   "id": "d6b362a3",
   "metadata": {},
   "outputs": [],
   "source": [
    "from collections import defaultdict\n",
    "@torch.no_grad()\n",
    "def calculate_l1_distance(forward_policy: ForwardPolicy, env_class: KernelEnvironment, max_len: int, X, Y):\n",
    "    \"\"\"\n",
    "    Computes the L1 distance between the policy distribution and the target reward distribution.\n",
    "\n",
    "    Args:\n",
    "        forward_policy (ForwardPolicy): The trained forward policy model.\n",
    "        env_class (KernelEnvironment): The environment class (not an instance).\n",
    "        max_len (int): The maximum trajectory length.\n",
    "        X, Y: Data for computing the reward.\n",
    "\n",
    "    Returns:\n",
    "        float: The L1 distance.\n",
    "    \"\"\"\n",
    "    # This dictionary will store data for each unique terminal kernel.\n",
    "    # Key: string representation of the kernel\n",
    "    # Value: {'reward': float, 'policy_prob': float}\n",
    "    terminal_states_data = defaultdict(lambda: {'reward': 0.0, 'policy_prob': 0.0})\n",
    "\n",
    "    # We need a dummy env to get action space info\n",
    "    dummy_env = env_class(batch_size=1, max_trajectory_length=max_len, log_reward=None)\n",
    "    action_map = dummy_env.action_map\n",
    "    end_action_id = dummy_env.end_action_id\n",
    "\n",
    "    def _enumerate_and_calc_probs(env: KernelEnvironment, current_log_prob: float):\n",
    "        \"\"\"A recursive helper to explore all trajectories.\"\"\"\n",
    "        # Check if the current path has reached max length\n",
    "        if len(env.history[0]) >= max_len:\n",
    "            # This path is forced to terminate. Treat it as a terminal state.\n",
    "            kernel_str = str(env.state[0])\n",
    "            if terminal_states_data[kernel_str]['reward'] == 0.0:\n",
    "                 reward = log_likelihood_reward(X, Y, env).item()\n",
    "                 terminal_states_data[kernel_str]['reward'] = reward\n",
    "            \n",
    "            # Add the probability of this path to the kernel's total probability\n",
    "            terminal_states_data[kernel_str]['policy_prob'] += torch.exp(torch.tensor(current_log_prob)).item()\n",
    "            return\n",
    "\n",
    "        # Explore all valid actions from the current state\n",
    "        # The `forward` method gives us logits for all actions\n",
    "        _, _, all_logits, _ = forward_policy.net(env)   \n",
    "        \n",
    "        # Ensure we have a clean probability distribution over valid actions\n",
    "        dist = Categorical(logits=all_logits)\n",
    "\n",
    "        for action_id, (op, k_name) in action_map.items():\n",
    "            # Check if action is valid for the current state using the mask\n",
    "            if not env.mask[0, action_id]:\n",
    "                continue\n",
    "            \n",
    "            # Calculate the log probability of taking this action\n",
    "            action_log_prob = dist.log_prob(torch.tensor(action_id)).item()\n",
    "            new_total_log_prob = current_log_prob + action_log_prob\n",
    "\n",
    "            # If it's the 'end' action, it's a terminal state\n",
    "            if action_id == end_action_id:\n",
    "                kernel_str = str(env.state[0])\n",
    "                if terminal_states_data[kernel_str]['reward'] == 0.0:\n",
    "                    reward = log_likelihood_reward(X, Y, env).item()\n",
    "                    terminal_states_data[kernel_str]['reward'] = reward\n",
    "                \n",
    "                terminal_states_data[kernel_str]['policy_prob'] += torch.exp(torch.tensor(new_total_log_prob)).item()\n",
    "            else:\n",
    "                # If not 'end', take a step and recurse\n",
    "                # Create a copy of the environment state to explore this branch\n",
    "                next_env = deepcopy(env)\n",
    "                next_env.apply(torch.tensor([action_id]))\n",
    "                _enumerate_and_calc_probs(next_env, new_total_log_prob)\n",
    "\n",
    "    # To use the above function, you'll need to slightly modify your ForwardPolicy\n",
    "    # to return the raw logits for all actions, not just the sampled one.\n",
    "    # Let's assume a modified forward function like this:\n",
    "    # def forward(self, batch_state, actions=None):\n",
    "    #     ...\n",
    "    #     # After applying mask\n",
    "    #     return actions, log_probs.squeeze(), logits, state_flow.squeeze()\n",
    "    \n",
    "    # Start the recursion from the initial state\n",
    "    initial_env = env_class(batch_size=1, max_trajectory_length=max_len, log_reward=None)\n",
    "    _enumerate_and_calc_probs(initial_env, 0.0) # Start with log_prob = 0 (i.e., prob = 1)\n",
    "\n",
    "    # --- Post-processing ---\n",
    "    \n",
    "    # 1. Extract rewards and policy probabilities\n",
    "    rewards = np.array([data['reward'] for data in terminal_states_data.values()])\n",
    "    policy_probs = np.array([data['policy_prob'] for data in terminal_states_data.values()])\n",
    "\n",
    "    # 2. Calculate the Target Distribution P_T\n",
    "    partition_Z = np.sum(rewards)\n",
    "    if partition_Z == 0: return np.sum(policy_probs) # Should not happen if rewards are > 0\n",
    "    target_dist = rewards / partition_Z\n",
    "\n",
    "    # 3. Normalize the Policy Distribution P_theta\n",
    "    # The sum of policy_probs should be close to 1.0 if all paths are explored.\n",
    "    # Normalizing handles any minor floating point errors or unexplored paths.\n",
    "    policy_dist_sum = np.sum(policy_probs)\n",
    "    if policy_dist_sum == 0: return np.sum(target_dist) # No paths found\n",
    "    policy_dist = policy_probs / policy_dist_sum\n",
    "\n",
    "    # 4. Compute L1 Distance\n",
    "    l1_distance = np.sum(np.abs(target_dist - policy_dist))\n",
    "    \n",
    "    return l1_distance"
   ]
  },
  {
   "cell_type": "code",
   "execution_count": null,
   "id": "052f30e7",
   "metadata": {},
   "outputs": [],
   "source": [
    "l1 = calculate_l1_distance(gflownet.forward_flow , KernelEnvironment, 4, X, Y)"
   ]
  },
  {
   "cell_type": "code",
   "execution_count": null,
   "id": "a37a690d",
   "metadata": {},
   "outputs": [
    {
     "name": "stdout",
     "output_type": "stream",
     "text": [
      "Total reward calls: 2300\n"
     ]
    }
   ],
   "source": [
    "print(f\"Total reward calls: {len(utils._likelihood_cache)}\")\n",
    "#utils._likelihood_cache = {}  # Clear the cache after sampling"
   ]
  },
  {
   "cell_type": "code",
   "execution_count": null,
   "id": "0c01e680",
   "metadata": {},
   "outputs": [],
   "source": []
  }
 ],
 "metadata": {
  "kernelspec": {
   "display_name": "gpy_env",
   "language": "python",
   "name": "python3"
  },
  "language_info": {
   "codemirror_mode": {
    "name": "ipython",
    "version": 3
   },
   "file_extension": ".py",
   "mimetype": "text/x-python",
   "name": "python",
   "nbconvert_exporter": "python",
   "pygments_lexer": "ipython3",
   "version": "3.11.0"
  }
 },
 "nbformat": 4,
 "nbformat_minor": 5
}
